{
  "nbformat": 4,
  "nbformat_minor": 0,
  "metadata": {
    "colab": {
      "provenance": [],
      "collapsed_sections": [
        "XY4yMkngKWv6",
        "aURtzRhqI9au",
        "3gdWYiPPLBk9",
        "aZRdsLCmPOeQ",
        "gBkfsuefSZzf",
        "Kw2qoGjoXyHJ",
        "zOT357PWZxVy",
        "H_rnw_40cDsk",
        "Cxwpc2u4cI9y",
        "emAemZC3d9Zf",
        "Byu7Tzg0QSmI",
        "V4loeV3FWKOx",
        "xgZNB4SSYhyN",
        "7-k9bnedqHGU",
        "8x-2SzhkrCFL",
        "EKuCsISAsHvZ",
        "_53ei20_veSA",
        "4NUIwy9Fy520",
        "bJOKEBDJ0hb-",
        "BjAiJOzk2EPA",
        "DVQ5ll_J5Inl",
        "8tm2u49a_HoN"
      ]
    },
    "kernelspec": {
      "name": "python3",
      "display_name": "Python 3"
    },
    "language_info": {
      "name": "python"
    },
    "widgets": {
      "application/vnd.jupyter.widget-state+json": {
        "5fd6865baa3740d0bbde651f6d0a2f2b": {
          "model_module": "@jupyter-widgets/controls",
          "model_name": "HBoxModel",
          "model_module_version": "1.5.0",
          "state": {
            "_dom_classes": [],
            "_model_module": "@jupyter-widgets/controls",
            "_model_module_version": "1.5.0",
            "_model_name": "HBoxModel",
            "_view_count": null,
            "_view_module": "@jupyter-widgets/controls",
            "_view_module_version": "1.5.0",
            "_view_name": "HBoxView",
            "box_style": "",
            "children": [
              "IPY_MODEL_cb1f83e899af46209026b1c2b57efdd0",
              "IPY_MODEL_6db8a8aa26e746eba0ed33dc79e74514",
              "IPY_MODEL_34774f4b47c24b5384420d14d0eea99a"
            ],
            "layout": "IPY_MODEL_650b027d70ea4a8b95918759fe320d8d"
          }
        },
        "cb1f83e899af46209026b1c2b57efdd0": {
          "model_module": "@jupyter-widgets/controls",
          "model_name": "HTMLModel",
          "model_module_version": "1.5.0",
          "state": {
            "_dom_classes": [],
            "_model_module": "@jupyter-widgets/controls",
            "_model_module_version": "1.5.0",
            "_model_name": "HTMLModel",
            "_view_count": null,
            "_view_module": "@jupyter-widgets/controls",
            "_view_module_version": "1.5.0",
            "_view_name": "HTMLView",
            "description": "",
            "description_tooltip": null,
            "layout": "IPY_MODEL_5d7431a6c9074582b15f275ae141c976",
            "placeholder": "​",
            "style": "IPY_MODEL_5900e38139374444b8baff531754827b",
            "value": "config.json: 100%"
          }
        },
        "6db8a8aa26e746eba0ed33dc79e74514": {
          "model_module": "@jupyter-widgets/controls",
          "model_name": "FloatProgressModel",
          "model_module_version": "1.5.0",
          "state": {
            "_dom_classes": [],
            "_model_module": "@jupyter-widgets/controls",
            "_model_module_version": "1.5.0",
            "_model_name": "FloatProgressModel",
            "_view_count": null,
            "_view_module": "@jupyter-widgets/controls",
            "_view_module_version": "1.5.0",
            "_view_name": "ProgressView",
            "bar_style": "success",
            "description": "",
            "description_tooltip": null,
            "layout": "IPY_MODEL_d978ddcec02b4f07881c033deb00afcc",
            "max": 762,
            "min": 0,
            "orientation": "horizontal",
            "style": "IPY_MODEL_9d7e12e94cd8407db5ca6f186b29cc4f",
            "value": 762
          }
        },
        "34774f4b47c24b5384420d14d0eea99a": {
          "model_module": "@jupyter-widgets/controls",
          "model_name": "HTMLModel",
          "model_module_version": "1.5.0",
          "state": {
            "_dom_classes": [],
            "_model_module": "@jupyter-widgets/controls",
            "_model_module_version": "1.5.0",
            "_model_name": "HTMLModel",
            "_view_count": null,
            "_view_module": "@jupyter-widgets/controls",
            "_view_module_version": "1.5.0",
            "_view_name": "HTMLView",
            "description": "",
            "description_tooltip": null,
            "layout": "IPY_MODEL_3d8016e280c344bf9dc984c40d8feffe",
            "placeholder": "​",
            "style": "IPY_MODEL_68711b15c5474d3585ffac8d45f58f86",
            "value": " 762/762 [00:00&lt;00:00, 15.1kB/s]"
          }
        },
        "650b027d70ea4a8b95918759fe320d8d": {
          "model_module": "@jupyter-widgets/base",
          "model_name": "LayoutModel",
          "model_module_version": "1.2.0",
          "state": {
            "_model_module": "@jupyter-widgets/base",
            "_model_module_version": "1.2.0",
            "_model_name": "LayoutModel",
            "_view_count": null,
            "_view_module": "@jupyter-widgets/base",
            "_view_module_version": "1.2.0",
            "_view_name": "LayoutView",
            "align_content": null,
            "align_items": null,
            "align_self": null,
            "border": null,
            "bottom": null,
            "display": null,
            "flex": null,
            "flex_flow": null,
            "grid_area": null,
            "grid_auto_columns": null,
            "grid_auto_flow": null,
            "grid_auto_rows": null,
            "grid_column": null,
            "grid_gap": null,
            "grid_row": null,
            "grid_template_areas": null,
            "grid_template_columns": null,
            "grid_template_rows": null,
            "height": null,
            "justify_content": null,
            "justify_items": null,
            "left": null,
            "margin": null,
            "max_height": null,
            "max_width": null,
            "min_height": null,
            "min_width": null,
            "object_fit": null,
            "object_position": null,
            "order": null,
            "overflow": null,
            "overflow_x": null,
            "overflow_y": null,
            "padding": null,
            "right": null,
            "top": null,
            "visibility": null,
            "width": null
          }
        },
        "5d7431a6c9074582b15f275ae141c976": {
          "model_module": "@jupyter-widgets/base",
          "model_name": "LayoutModel",
          "model_module_version": "1.2.0",
          "state": {
            "_model_module": "@jupyter-widgets/base",
            "_model_module_version": "1.2.0",
            "_model_name": "LayoutModel",
            "_view_count": null,
            "_view_module": "@jupyter-widgets/base",
            "_view_module_version": "1.2.0",
            "_view_name": "LayoutView",
            "align_content": null,
            "align_items": null,
            "align_self": null,
            "border": null,
            "bottom": null,
            "display": null,
            "flex": null,
            "flex_flow": null,
            "grid_area": null,
            "grid_auto_columns": null,
            "grid_auto_flow": null,
            "grid_auto_rows": null,
            "grid_column": null,
            "grid_gap": null,
            "grid_row": null,
            "grid_template_areas": null,
            "grid_template_columns": null,
            "grid_template_rows": null,
            "height": null,
            "justify_content": null,
            "justify_items": null,
            "left": null,
            "margin": null,
            "max_height": null,
            "max_width": null,
            "min_height": null,
            "min_width": null,
            "object_fit": null,
            "object_position": null,
            "order": null,
            "overflow": null,
            "overflow_x": null,
            "overflow_y": null,
            "padding": null,
            "right": null,
            "top": null,
            "visibility": null,
            "width": null
          }
        },
        "5900e38139374444b8baff531754827b": {
          "model_module": "@jupyter-widgets/controls",
          "model_name": "DescriptionStyleModel",
          "model_module_version": "1.5.0",
          "state": {
            "_model_module": "@jupyter-widgets/controls",
            "_model_module_version": "1.5.0",
            "_model_name": "DescriptionStyleModel",
            "_view_count": null,
            "_view_module": "@jupyter-widgets/base",
            "_view_module_version": "1.2.0",
            "_view_name": "StyleView",
            "description_width": ""
          }
        },
        "d978ddcec02b4f07881c033deb00afcc": {
          "model_module": "@jupyter-widgets/base",
          "model_name": "LayoutModel",
          "model_module_version": "1.2.0",
          "state": {
            "_model_module": "@jupyter-widgets/base",
            "_model_module_version": "1.2.0",
            "_model_name": "LayoutModel",
            "_view_count": null,
            "_view_module": "@jupyter-widgets/base",
            "_view_module_version": "1.2.0",
            "_view_name": "LayoutView",
            "align_content": null,
            "align_items": null,
            "align_self": null,
            "border": null,
            "bottom": null,
            "display": null,
            "flex": null,
            "flex_flow": null,
            "grid_area": null,
            "grid_auto_columns": null,
            "grid_auto_flow": null,
            "grid_auto_rows": null,
            "grid_column": null,
            "grid_gap": null,
            "grid_row": null,
            "grid_template_areas": null,
            "grid_template_columns": null,
            "grid_template_rows": null,
            "height": null,
            "justify_content": null,
            "justify_items": null,
            "left": null,
            "margin": null,
            "max_height": null,
            "max_width": null,
            "min_height": null,
            "min_width": null,
            "object_fit": null,
            "object_position": null,
            "order": null,
            "overflow": null,
            "overflow_x": null,
            "overflow_y": null,
            "padding": null,
            "right": null,
            "top": null,
            "visibility": null,
            "width": null
          }
        },
        "9d7e12e94cd8407db5ca6f186b29cc4f": {
          "model_module": "@jupyter-widgets/controls",
          "model_name": "ProgressStyleModel",
          "model_module_version": "1.5.0",
          "state": {
            "_model_module": "@jupyter-widgets/controls",
            "_model_module_version": "1.5.0",
            "_model_name": "ProgressStyleModel",
            "_view_count": null,
            "_view_module": "@jupyter-widgets/base",
            "_view_module_version": "1.2.0",
            "_view_name": "StyleView",
            "bar_color": null,
            "description_width": ""
          }
        },
        "3d8016e280c344bf9dc984c40d8feffe": {
          "model_module": "@jupyter-widgets/base",
          "model_name": "LayoutModel",
          "model_module_version": "1.2.0",
          "state": {
            "_model_module": "@jupyter-widgets/base",
            "_model_module_version": "1.2.0",
            "_model_name": "LayoutModel",
            "_view_count": null,
            "_view_module": "@jupyter-widgets/base",
            "_view_module_version": "1.2.0",
            "_view_name": "LayoutView",
            "align_content": null,
            "align_items": null,
            "align_self": null,
            "border": null,
            "bottom": null,
            "display": null,
            "flex": null,
            "flex_flow": null,
            "grid_area": null,
            "grid_auto_columns": null,
            "grid_auto_flow": null,
            "grid_auto_rows": null,
            "grid_column": null,
            "grid_gap": null,
            "grid_row": null,
            "grid_template_areas": null,
            "grid_template_columns": null,
            "grid_template_rows": null,
            "height": null,
            "justify_content": null,
            "justify_items": null,
            "left": null,
            "margin": null,
            "max_height": null,
            "max_width": null,
            "min_height": null,
            "min_width": null,
            "object_fit": null,
            "object_position": null,
            "order": null,
            "overflow": null,
            "overflow_x": null,
            "overflow_y": null,
            "padding": null,
            "right": null,
            "top": null,
            "visibility": null,
            "width": null
          }
        },
        "68711b15c5474d3585ffac8d45f58f86": {
          "model_module": "@jupyter-widgets/controls",
          "model_name": "DescriptionStyleModel",
          "model_module_version": "1.5.0",
          "state": {
            "_model_module": "@jupyter-widgets/controls",
            "_model_module_version": "1.5.0",
            "_model_name": "DescriptionStyleModel",
            "_view_count": null,
            "_view_module": "@jupyter-widgets/base",
            "_view_module_version": "1.2.0",
            "_view_name": "StyleView",
            "description_width": ""
          }
        },
        "bc281cca62214f2aa4d89b87c555f743": {
          "model_module": "@jupyter-widgets/controls",
          "model_name": "HBoxModel",
          "model_module_version": "1.5.0",
          "state": {
            "_dom_classes": [],
            "_model_module": "@jupyter-widgets/controls",
            "_model_module_version": "1.5.0",
            "_model_name": "HBoxModel",
            "_view_count": null,
            "_view_module": "@jupyter-widgets/controls",
            "_view_module_version": "1.5.0",
            "_view_name": "HBoxView",
            "box_style": "",
            "children": [
              "IPY_MODEL_542b994584c34edca13beb8376d5e74d",
              "IPY_MODEL_8fb733f85551494bbf54bf1c93056792",
              "IPY_MODEL_52f9ba8c5a12483c8c726bfbe96af57f"
            ],
            "layout": "IPY_MODEL_130b601a59a14c9a9cce528127040621"
          }
        },
        "542b994584c34edca13beb8376d5e74d": {
          "model_module": "@jupyter-widgets/controls",
          "model_name": "HTMLModel",
          "model_module_version": "1.5.0",
          "state": {
            "_dom_classes": [],
            "_model_module": "@jupyter-widgets/controls",
            "_model_module_version": "1.5.0",
            "_model_name": "HTMLModel",
            "_view_count": null,
            "_view_module": "@jupyter-widgets/controls",
            "_view_module_version": "1.5.0",
            "_view_name": "HTMLView",
            "description": "",
            "description_tooltip": null,
            "layout": "IPY_MODEL_391e5d8a3a0c496494f965236fd6721d",
            "placeholder": "​",
            "style": "IPY_MODEL_2fa198ebf1224368aab5118d3db2d999",
            "value": "model.safetensors: 100%"
          }
        },
        "8fb733f85551494bbf54bf1c93056792": {
          "model_module": "@jupyter-widgets/controls",
          "model_name": "FloatProgressModel",
          "model_module_version": "1.5.0",
          "state": {
            "_dom_classes": [],
            "_model_module": "@jupyter-widgets/controls",
            "_model_module_version": "1.5.0",
            "_model_name": "FloatProgressModel",
            "_view_count": null,
            "_view_module": "@jupyter-widgets/controls",
            "_view_module_version": "1.5.0",
            "_view_name": "ProgressView",
            "bar_style": "success",
            "description": "",
            "description_tooltip": null,
            "layout": "IPY_MODEL_66d460fe55a14edf96faa0e3bab24eaf",
            "max": 352824413,
            "min": 0,
            "orientation": "horizontal",
            "style": "IPY_MODEL_aec4ee26b7884249b7c9f1d2e1023870",
            "value": 352824413
          }
        },
        "52f9ba8c5a12483c8c726bfbe96af57f": {
          "model_module": "@jupyter-widgets/controls",
          "model_name": "HTMLModel",
          "model_module_version": "1.5.0",
          "state": {
            "_dom_classes": [],
            "_model_module": "@jupyter-widgets/controls",
            "_model_module_version": "1.5.0",
            "_model_name": "HTMLModel",
            "_view_count": null,
            "_view_module": "@jupyter-widgets/controls",
            "_view_module_version": "1.5.0",
            "_view_name": "HTMLView",
            "description": "",
            "description_tooltip": null,
            "layout": "IPY_MODEL_486968393f784aa8a827c482fb2243c3",
            "placeholder": "​",
            "style": "IPY_MODEL_85707b936d494101b04779bbcc851c5b",
            "value": " 353M/353M [00:03&lt;00:00, 146MB/s]"
          }
        },
        "130b601a59a14c9a9cce528127040621": {
          "model_module": "@jupyter-widgets/base",
          "model_name": "LayoutModel",
          "model_module_version": "1.2.0",
          "state": {
            "_model_module": "@jupyter-widgets/base",
            "_model_module_version": "1.2.0",
            "_model_name": "LayoutModel",
            "_view_count": null,
            "_view_module": "@jupyter-widgets/base",
            "_view_module_version": "1.2.0",
            "_view_name": "LayoutView",
            "align_content": null,
            "align_items": null,
            "align_self": null,
            "border": null,
            "bottom": null,
            "display": null,
            "flex": null,
            "flex_flow": null,
            "grid_area": null,
            "grid_auto_columns": null,
            "grid_auto_flow": null,
            "grid_auto_rows": null,
            "grid_column": null,
            "grid_gap": null,
            "grid_row": null,
            "grid_template_areas": null,
            "grid_template_columns": null,
            "grid_template_rows": null,
            "height": null,
            "justify_content": null,
            "justify_items": null,
            "left": null,
            "margin": null,
            "max_height": null,
            "max_width": null,
            "min_height": null,
            "min_width": null,
            "object_fit": null,
            "object_position": null,
            "order": null,
            "overflow": null,
            "overflow_x": null,
            "overflow_y": null,
            "padding": null,
            "right": null,
            "top": null,
            "visibility": null,
            "width": null
          }
        },
        "391e5d8a3a0c496494f965236fd6721d": {
          "model_module": "@jupyter-widgets/base",
          "model_name": "LayoutModel",
          "model_module_version": "1.2.0",
          "state": {
            "_model_module": "@jupyter-widgets/base",
            "_model_module_version": "1.2.0",
            "_model_name": "LayoutModel",
            "_view_count": null,
            "_view_module": "@jupyter-widgets/base",
            "_view_module_version": "1.2.0",
            "_view_name": "LayoutView",
            "align_content": null,
            "align_items": null,
            "align_self": null,
            "border": null,
            "bottom": null,
            "display": null,
            "flex": null,
            "flex_flow": null,
            "grid_area": null,
            "grid_auto_columns": null,
            "grid_auto_flow": null,
            "grid_auto_rows": null,
            "grid_column": null,
            "grid_gap": null,
            "grid_row": null,
            "grid_template_areas": null,
            "grid_template_columns": null,
            "grid_template_rows": null,
            "height": null,
            "justify_content": null,
            "justify_items": null,
            "left": null,
            "margin": null,
            "max_height": null,
            "max_width": null,
            "min_height": null,
            "min_width": null,
            "object_fit": null,
            "object_position": null,
            "order": null,
            "overflow": null,
            "overflow_x": null,
            "overflow_y": null,
            "padding": null,
            "right": null,
            "top": null,
            "visibility": null,
            "width": null
          }
        },
        "2fa198ebf1224368aab5118d3db2d999": {
          "model_module": "@jupyter-widgets/controls",
          "model_name": "DescriptionStyleModel",
          "model_module_version": "1.5.0",
          "state": {
            "_model_module": "@jupyter-widgets/controls",
            "_model_module_version": "1.5.0",
            "_model_name": "DescriptionStyleModel",
            "_view_count": null,
            "_view_module": "@jupyter-widgets/base",
            "_view_module_version": "1.2.0",
            "_view_name": "StyleView",
            "description_width": ""
          }
        },
        "66d460fe55a14edf96faa0e3bab24eaf": {
          "model_module": "@jupyter-widgets/base",
          "model_name": "LayoutModel",
          "model_module_version": "1.2.0",
          "state": {
            "_model_module": "@jupyter-widgets/base",
            "_model_module_version": "1.2.0",
            "_model_name": "LayoutModel",
            "_view_count": null,
            "_view_module": "@jupyter-widgets/base",
            "_view_module_version": "1.2.0",
            "_view_name": "LayoutView",
            "align_content": null,
            "align_items": null,
            "align_self": null,
            "border": null,
            "bottom": null,
            "display": null,
            "flex": null,
            "flex_flow": null,
            "grid_area": null,
            "grid_auto_columns": null,
            "grid_auto_flow": null,
            "grid_auto_rows": null,
            "grid_column": null,
            "grid_gap": null,
            "grid_row": null,
            "grid_template_areas": null,
            "grid_template_columns": null,
            "grid_template_rows": null,
            "height": null,
            "justify_content": null,
            "justify_items": null,
            "left": null,
            "margin": null,
            "max_height": null,
            "max_width": null,
            "min_height": null,
            "min_width": null,
            "object_fit": null,
            "object_position": null,
            "order": null,
            "overflow": null,
            "overflow_x": null,
            "overflow_y": null,
            "padding": null,
            "right": null,
            "top": null,
            "visibility": null,
            "width": null
          }
        },
        "aec4ee26b7884249b7c9f1d2e1023870": {
          "model_module": "@jupyter-widgets/controls",
          "model_name": "ProgressStyleModel",
          "model_module_version": "1.5.0",
          "state": {
            "_model_module": "@jupyter-widgets/controls",
            "_model_module_version": "1.5.0",
            "_model_name": "ProgressStyleModel",
            "_view_count": null,
            "_view_module": "@jupyter-widgets/base",
            "_view_module_version": "1.2.0",
            "_view_name": "StyleView",
            "bar_color": null,
            "description_width": ""
          }
        },
        "486968393f784aa8a827c482fb2243c3": {
          "model_module": "@jupyter-widgets/base",
          "model_name": "LayoutModel",
          "model_module_version": "1.2.0",
          "state": {
            "_model_module": "@jupyter-widgets/base",
            "_model_module_version": "1.2.0",
            "_model_name": "LayoutModel",
            "_view_count": null,
            "_view_module": "@jupyter-widgets/base",
            "_view_module_version": "1.2.0",
            "_view_name": "LayoutView",
            "align_content": null,
            "align_items": null,
            "align_self": null,
            "border": null,
            "bottom": null,
            "display": null,
            "flex": null,
            "flex_flow": null,
            "grid_area": null,
            "grid_auto_columns": null,
            "grid_auto_flow": null,
            "grid_auto_rows": null,
            "grid_column": null,
            "grid_gap": null,
            "grid_row": null,
            "grid_template_areas": null,
            "grid_template_columns": null,
            "grid_template_rows": null,
            "height": null,
            "justify_content": null,
            "justify_items": null,
            "left": null,
            "margin": null,
            "max_height": null,
            "max_width": null,
            "min_height": null,
            "min_width": null,
            "object_fit": null,
            "object_position": null,
            "order": null,
            "overflow": null,
            "overflow_x": null,
            "overflow_y": null,
            "padding": null,
            "right": null,
            "top": null,
            "visibility": null,
            "width": null
          }
        },
        "85707b936d494101b04779bbcc851c5b": {
          "model_module": "@jupyter-widgets/controls",
          "model_name": "DescriptionStyleModel",
          "model_module_version": "1.5.0",
          "state": {
            "_model_module": "@jupyter-widgets/controls",
            "_model_module_version": "1.5.0",
            "_model_name": "DescriptionStyleModel",
            "_view_count": null,
            "_view_module": "@jupyter-widgets/base",
            "_view_module_version": "1.2.0",
            "_view_name": "StyleView",
            "description_width": ""
          }
        },
        "a9d648ec1586460b9f02226c173dd507": {
          "model_module": "@jupyter-widgets/controls",
          "model_name": "HBoxModel",
          "model_module_version": "1.5.0",
          "state": {
            "_dom_classes": [],
            "_model_module": "@jupyter-widgets/controls",
            "_model_module_version": "1.5.0",
            "_model_name": "HBoxModel",
            "_view_count": null,
            "_view_module": "@jupyter-widgets/controls",
            "_view_module_version": "1.5.0",
            "_view_name": "HBoxView",
            "box_style": "",
            "children": [
              "IPY_MODEL_81d293f0686a4c298e05171318a13eeb",
              "IPY_MODEL_97ec00daf0fa4cab8bd98953e534bfc3",
              "IPY_MODEL_8d211829f5c14e4cbdbebfc25da11a9d"
            ],
            "layout": "IPY_MODEL_6426f66f577c4f06b98dd1f44c9206d2"
          }
        },
        "81d293f0686a4c298e05171318a13eeb": {
          "model_module": "@jupyter-widgets/controls",
          "model_name": "HTMLModel",
          "model_module_version": "1.5.0",
          "state": {
            "_dom_classes": [],
            "_model_module": "@jupyter-widgets/controls",
            "_model_module_version": "1.5.0",
            "_model_name": "HTMLModel",
            "_view_count": null,
            "_view_module": "@jupyter-widgets/controls",
            "_view_module_version": "1.5.0",
            "_view_name": "HTMLView",
            "description": "",
            "description_tooltip": null,
            "layout": "IPY_MODEL_7480cb7f4fb94b99aad9106fdfb85055",
            "placeholder": "​",
            "style": "IPY_MODEL_b1bc3e7590434c8bb4511406a993d10b",
            "value": "generation_config.json: 100%"
          }
        },
        "97ec00daf0fa4cab8bd98953e534bfc3": {
          "model_module": "@jupyter-widgets/controls",
          "model_name": "FloatProgressModel",
          "model_module_version": "1.5.0",
          "state": {
            "_dom_classes": [],
            "_model_module": "@jupyter-widgets/controls",
            "_model_module_version": "1.5.0",
            "_model_name": "FloatProgressModel",
            "_view_count": null,
            "_view_module": "@jupyter-widgets/controls",
            "_view_module_version": "1.5.0",
            "_view_name": "ProgressView",
            "bar_style": "success",
            "description": "",
            "description_tooltip": null,
            "layout": "IPY_MODEL_fb7f34535212495aaaa9fac15b0d0e1a",
            "max": 124,
            "min": 0,
            "orientation": "horizontal",
            "style": "IPY_MODEL_bc10ae1c3fd54a7a907a9711d2d07f35",
            "value": 124
          }
        },
        "8d211829f5c14e4cbdbebfc25da11a9d": {
          "model_module": "@jupyter-widgets/controls",
          "model_name": "HTMLModel",
          "model_module_version": "1.5.0",
          "state": {
            "_dom_classes": [],
            "_model_module": "@jupyter-widgets/controls",
            "_model_module_version": "1.5.0",
            "_model_name": "HTMLModel",
            "_view_count": null,
            "_view_module": "@jupyter-widgets/controls",
            "_view_module_version": "1.5.0",
            "_view_name": "HTMLView",
            "description": "",
            "description_tooltip": null,
            "layout": "IPY_MODEL_3bbbd67cd17f4de1997196cc6b73e87b",
            "placeholder": "​",
            "style": "IPY_MODEL_28bdb7f04744423daa8259935dca481e",
            "value": " 124/124 [00:00&lt;00:00, 2.71kB/s]"
          }
        },
        "6426f66f577c4f06b98dd1f44c9206d2": {
          "model_module": "@jupyter-widgets/base",
          "model_name": "LayoutModel",
          "model_module_version": "1.2.0",
          "state": {
            "_model_module": "@jupyter-widgets/base",
            "_model_module_version": "1.2.0",
            "_model_name": "LayoutModel",
            "_view_count": null,
            "_view_module": "@jupyter-widgets/base",
            "_view_module_version": "1.2.0",
            "_view_name": "LayoutView",
            "align_content": null,
            "align_items": null,
            "align_self": null,
            "border": null,
            "bottom": null,
            "display": null,
            "flex": null,
            "flex_flow": null,
            "grid_area": null,
            "grid_auto_columns": null,
            "grid_auto_flow": null,
            "grid_auto_rows": null,
            "grid_column": null,
            "grid_gap": null,
            "grid_row": null,
            "grid_template_areas": null,
            "grid_template_columns": null,
            "grid_template_rows": null,
            "height": null,
            "justify_content": null,
            "justify_items": null,
            "left": null,
            "margin": null,
            "max_height": null,
            "max_width": null,
            "min_height": null,
            "min_width": null,
            "object_fit": null,
            "object_position": null,
            "order": null,
            "overflow": null,
            "overflow_x": null,
            "overflow_y": null,
            "padding": null,
            "right": null,
            "top": null,
            "visibility": null,
            "width": null
          }
        },
        "7480cb7f4fb94b99aad9106fdfb85055": {
          "model_module": "@jupyter-widgets/base",
          "model_name": "LayoutModel",
          "model_module_version": "1.2.0",
          "state": {
            "_model_module": "@jupyter-widgets/base",
            "_model_module_version": "1.2.0",
            "_model_name": "LayoutModel",
            "_view_count": null,
            "_view_module": "@jupyter-widgets/base",
            "_view_module_version": "1.2.0",
            "_view_name": "LayoutView",
            "align_content": null,
            "align_items": null,
            "align_self": null,
            "border": null,
            "bottom": null,
            "display": null,
            "flex": null,
            "flex_flow": null,
            "grid_area": null,
            "grid_auto_columns": null,
            "grid_auto_flow": null,
            "grid_auto_rows": null,
            "grid_column": null,
            "grid_gap": null,
            "grid_row": null,
            "grid_template_areas": null,
            "grid_template_columns": null,
            "grid_template_rows": null,
            "height": null,
            "justify_content": null,
            "justify_items": null,
            "left": null,
            "margin": null,
            "max_height": null,
            "max_width": null,
            "min_height": null,
            "min_width": null,
            "object_fit": null,
            "object_position": null,
            "order": null,
            "overflow": null,
            "overflow_x": null,
            "overflow_y": null,
            "padding": null,
            "right": null,
            "top": null,
            "visibility": null,
            "width": null
          }
        },
        "b1bc3e7590434c8bb4511406a993d10b": {
          "model_module": "@jupyter-widgets/controls",
          "model_name": "DescriptionStyleModel",
          "model_module_version": "1.5.0",
          "state": {
            "_model_module": "@jupyter-widgets/controls",
            "_model_module_version": "1.5.0",
            "_model_name": "DescriptionStyleModel",
            "_view_count": null,
            "_view_module": "@jupyter-widgets/base",
            "_view_module_version": "1.2.0",
            "_view_name": "StyleView",
            "description_width": ""
          }
        },
        "fb7f34535212495aaaa9fac15b0d0e1a": {
          "model_module": "@jupyter-widgets/base",
          "model_name": "LayoutModel",
          "model_module_version": "1.2.0",
          "state": {
            "_model_module": "@jupyter-widgets/base",
            "_model_module_version": "1.2.0",
            "_model_name": "LayoutModel",
            "_view_count": null,
            "_view_module": "@jupyter-widgets/base",
            "_view_module_version": "1.2.0",
            "_view_name": "LayoutView",
            "align_content": null,
            "align_items": null,
            "align_self": null,
            "border": null,
            "bottom": null,
            "display": null,
            "flex": null,
            "flex_flow": null,
            "grid_area": null,
            "grid_auto_columns": null,
            "grid_auto_flow": null,
            "grid_auto_rows": null,
            "grid_column": null,
            "grid_gap": null,
            "grid_row": null,
            "grid_template_areas": null,
            "grid_template_columns": null,
            "grid_template_rows": null,
            "height": null,
            "justify_content": null,
            "justify_items": null,
            "left": null,
            "margin": null,
            "max_height": null,
            "max_width": null,
            "min_height": null,
            "min_width": null,
            "object_fit": null,
            "object_position": null,
            "order": null,
            "overflow": null,
            "overflow_x": null,
            "overflow_y": null,
            "padding": null,
            "right": null,
            "top": null,
            "visibility": null,
            "width": null
          }
        },
        "bc10ae1c3fd54a7a907a9711d2d07f35": {
          "model_module": "@jupyter-widgets/controls",
          "model_name": "ProgressStyleModel",
          "model_module_version": "1.5.0",
          "state": {
            "_model_module": "@jupyter-widgets/controls",
            "_model_module_version": "1.5.0",
            "_model_name": "ProgressStyleModel",
            "_view_count": null,
            "_view_module": "@jupyter-widgets/base",
            "_view_module_version": "1.2.0",
            "_view_name": "StyleView",
            "bar_color": null,
            "description_width": ""
          }
        },
        "3bbbd67cd17f4de1997196cc6b73e87b": {
          "model_module": "@jupyter-widgets/base",
          "model_name": "LayoutModel",
          "model_module_version": "1.2.0",
          "state": {
            "_model_module": "@jupyter-widgets/base",
            "_model_module_version": "1.2.0",
            "_model_name": "LayoutModel",
            "_view_count": null,
            "_view_module": "@jupyter-widgets/base",
            "_view_module_version": "1.2.0",
            "_view_name": "LayoutView",
            "align_content": null,
            "align_items": null,
            "align_self": null,
            "border": null,
            "bottom": null,
            "display": null,
            "flex": null,
            "flex_flow": null,
            "grid_area": null,
            "grid_auto_columns": null,
            "grid_auto_flow": null,
            "grid_auto_rows": null,
            "grid_column": null,
            "grid_gap": null,
            "grid_row": null,
            "grid_template_areas": null,
            "grid_template_columns": null,
            "grid_template_rows": null,
            "height": null,
            "justify_content": null,
            "justify_items": null,
            "left": null,
            "margin": null,
            "max_height": null,
            "max_width": null,
            "min_height": null,
            "min_width": null,
            "object_fit": null,
            "object_position": null,
            "order": null,
            "overflow": null,
            "overflow_x": null,
            "overflow_y": null,
            "padding": null,
            "right": null,
            "top": null,
            "visibility": null,
            "width": null
          }
        },
        "28bdb7f04744423daa8259935dca481e": {
          "model_module": "@jupyter-widgets/controls",
          "model_name": "DescriptionStyleModel",
          "model_module_version": "1.5.0",
          "state": {
            "_model_module": "@jupyter-widgets/controls",
            "_model_module_version": "1.5.0",
            "_model_name": "DescriptionStyleModel",
            "_view_count": null,
            "_view_module": "@jupyter-widgets/base",
            "_view_module_version": "1.2.0",
            "_view_name": "StyleView",
            "description_width": ""
          }
        },
        "c791ee537d8940c4b2d8e198a54ce23d": {
          "model_module": "@jupyter-widgets/controls",
          "model_name": "HBoxModel",
          "model_module_version": "1.5.0",
          "state": {
            "_dom_classes": [],
            "_model_module": "@jupyter-widgets/controls",
            "_model_module_version": "1.5.0",
            "_model_name": "HBoxModel",
            "_view_count": null,
            "_view_module": "@jupyter-widgets/controls",
            "_view_module_version": "1.5.0",
            "_view_name": "HBoxView",
            "box_style": "",
            "children": [
              "IPY_MODEL_32bd422326004d4a9bb00c26c41b439d",
              "IPY_MODEL_7a04e468fbba4bcd9f3fadc5bdbf426e",
              "IPY_MODEL_669c5f1c51f14d0d86c654703dff30b1"
            ],
            "layout": "IPY_MODEL_701635792e494d28aae718caf19b7bc0"
          }
        },
        "32bd422326004d4a9bb00c26c41b439d": {
          "model_module": "@jupyter-widgets/controls",
          "model_name": "HTMLModel",
          "model_module_version": "1.5.0",
          "state": {
            "_dom_classes": [],
            "_model_module": "@jupyter-widgets/controls",
            "_model_module_version": "1.5.0",
            "_model_name": "HTMLModel",
            "_view_count": null,
            "_view_module": "@jupyter-widgets/controls",
            "_view_module_version": "1.5.0",
            "_view_name": "HTMLView",
            "description": "",
            "description_tooltip": null,
            "layout": "IPY_MODEL_61c5ee37c0934d7abbcb57bb428eab01",
            "placeholder": "​",
            "style": "IPY_MODEL_2b01e356beee40f1a464197c03650241",
            "value": "tokenizer_config.json: 100%"
          }
        },
        "7a04e468fbba4bcd9f3fadc5bdbf426e": {
          "model_module": "@jupyter-widgets/controls",
          "model_name": "FloatProgressModel",
          "model_module_version": "1.5.0",
          "state": {
            "_dom_classes": [],
            "_model_module": "@jupyter-widgets/controls",
            "_model_module_version": "1.5.0",
            "_model_name": "FloatProgressModel",
            "_view_count": null,
            "_view_module": "@jupyter-widgets/controls",
            "_view_module_version": "1.5.0",
            "_view_name": "ProgressView",
            "bar_style": "success",
            "description": "",
            "description_tooltip": null,
            "layout": "IPY_MODEL_7236ea02d4784b0590256900c1160f38",
            "max": 26,
            "min": 0,
            "orientation": "horizontal",
            "style": "IPY_MODEL_239ced7461bf4dd9b8247165400113b0",
            "value": 26
          }
        },
        "669c5f1c51f14d0d86c654703dff30b1": {
          "model_module": "@jupyter-widgets/controls",
          "model_name": "HTMLModel",
          "model_module_version": "1.5.0",
          "state": {
            "_dom_classes": [],
            "_model_module": "@jupyter-widgets/controls",
            "_model_module_version": "1.5.0",
            "_model_name": "HTMLModel",
            "_view_count": null,
            "_view_module": "@jupyter-widgets/controls",
            "_view_module_version": "1.5.0",
            "_view_name": "HTMLView",
            "description": "",
            "description_tooltip": null,
            "layout": "IPY_MODEL_e43c30e6d6b7487e8f70820895f6bff8",
            "placeholder": "​",
            "style": "IPY_MODEL_35a9d11d57a24393a809f87aedf43a46",
            "value": " 26.0/26.0 [00:00&lt;00:00, 1.15kB/s]"
          }
        },
        "701635792e494d28aae718caf19b7bc0": {
          "model_module": "@jupyter-widgets/base",
          "model_name": "LayoutModel",
          "model_module_version": "1.2.0",
          "state": {
            "_model_module": "@jupyter-widgets/base",
            "_model_module_version": "1.2.0",
            "_model_name": "LayoutModel",
            "_view_count": null,
            "_view_module": "@jupyter-widgets/base",
            "_view_module_version": "1.2.0",
            "_view_name": "LayoutView",
            "align_content": null,
            "align_items": null,
            "align_self": null,
            "border": null,
            "bottom": null,
            "display": null,
            "flex": null,
            "flex_flow": null,
            "grid_area": null,
            "grid_auto_columns": null,
            "grid_auto_flow": null,
            "grid_auto_rows": null,
            "grid_column": null,
            "grid_gap": null,
            "grid_row": null,
            "grid_template_areas": null,
            "grid_template_columns": null,
            "grid_template_rows": null,
            "height": null,
            "justify_content": null,
            "justify_items": null,
            "left": null,
            "margin": null,
            "max_height": null,
            "max_width": null,
            "min_height": null,
            "min_width": null,
            "object_fit": null,
            "object_position": null,
            "order": null,
            "overflow": null,
            "overflow_x": null,
            "overflow_y": null,
            "padding": null,
            "right": null,
            "top": null,
            "visibility": null,
            "width": null
          }
        },
        "61c5ee37c0934d7abbcb57bb428eab01": {
          "model_module": "@jupyter-widgets/base",
          "model_name": "LayoutModel",
          "model_module_version": "1.2.0",
          "state": {
            "_model_module": "@jupyter-widgets/base",
            "_model_module_version": "1.2.0",
            "_model_name": "LayoutModel",
            "_view_count": null,
            "_view_module": "@jupyter-widgets/base",
            "_view_module_version": "1.2.0",
            "_view_name": "LayoutView",
            "align_content": null,
            "align_items": null,
            "align_self": null,
            "border": null,
            "bottom": null,
            "display": null,
            "flex": null,
            "flex_flow": null,
            "grid_area": null,
            "grid_auto_columns": null,
            "grid_auto_flow": null,
            "grid_auto_rows": null,
            "grid_column": null,
            "grid_gap": null,
            "grid_row": null,
            "grid_template_areas": null,
            "grid_template_columns": null,
            "grid_template_rows": null,
            "height": null,
            "justify_content": null,
            "justify_items": null,
            "left": null,
            "margin": null,
            "max_height": null,
            "max_width": null,
            "min_height": null,
            "min_width": null,
            "object_fit": null,
            "object_position": null,
            "order": null,
            "overflow": null,
            "overflow_x": null,
            "overflow_y": null,
            "padding": null,
            "right": null,
            "top": null,
            "visibility": null,
            "width": null
          }
        },
        "2b01e356beee40f1a464197c03650241": {
          "model_module": "@jupyter-widgets/controls",
          "model_name": "DescriptionStyleModel",
          "model_module_version": "1.5.0",
          "state": {
            "_model_module": "@jupyter-widgets/controls",
            "_model_module_version": "1.5.0",
            "_model_name": "DescriptionStyleModel",
            "_view_count": null,
            "_view_module": "@jupyter-widgets/base",
            "_view_module_version": "1.2.0",
            "_view_name": "StyleView",
            "description_width": ""
          }
        },
        "7236ea02d4784b0590256900c1160f38": {
          "model_module": "@jupyter-widgets/base",
          "model_name": "LayoutModel",
          "model_module_version": "1.2.0",
          "state": {
            "_model_module": "@jupyter-widgets/base",
            "_model_module_version": "1.2.0",
            "_model_name": "LayoutModel",
            "_view_count": null,
            "_view_module": "@jupyter-widgets/base",
            "_view_module_version": "1.2.0",
            "_view_name": "LayoutView",
            "align_content": null,
            "align_items": null,
            "align_self": null,
            "border": null,
            "bottom": null,
            "display": null,
            "flex": null,
            "flex_flow": null,
            "grid_area": null,
            "grid_auto_columns": null,
            "grid_auto_flow": null,
            "grid_auto_rows": null,
            "grid_column": null,
            "grid_gap": null,
            "grid_row": null,
            "grid_template_areas": null,
            "grid_template_columns": null,
            "grid_template_rows": null,
            "height": null,
            "justify_content": null,
            "justify_items": null,
            "left": null,
            "margin": null,
            "max_height": null,
            "max_width": null,
            "min_height": null,
            "min_width": null,
            "object_fit": null,
            "object_position": null,
            "order": null,
            "overflow": null,
            "overflow_x": null,
            "overflow_y": null,
            "padding": null,
            "right": null,
            "top": null,
            "visibility": null,
            "width": null
          }
        },
        "239ced7461bf4dd9b8247165400113b0": {
          "model_module": "@jupyter-widgets/controls",
          "model_name": "ProgressStyleModel",
          "model_module_version": "1.5.0",
          "state": {
            "_model_module": "@jupyter-widgets/controls",
            "_model_module_version": "1.5.0",
            "_model_name": "ProgressStyleModel",
            "_view_count": null,
            "_view_module": "@jupyter-widgets/base",
            "_view_module_version": "1.2.0",
            "_view_name": "StyleView",
            "bar_color": null,
            "description_width": ""
          }
        },
        "e43c30e6d6b7487e8f70820895f6bff8": {
          "model_module": "@jupyter-widgets/base",
          "model_name": "LayoutModel",
          "model_module_version": "1.2.0",
          "state": {
            "_model_module": "@jupyter-widgets/base",
            "_model_module_version": "1.2.0",
            "_model_name": "LayoutModel",
            "_view_count": null,
            "_view_module": "@jupyter-widgets/base",
            "_view_module_version": "1.2.0",
            "_view_name": "LayoutView",
            "align_content": null,
            "align_items": null,
            "align_self": null,
            "border": null,
            "bottom": null,
            "display": null,
            "flex": null,
            "flex_flow": null,
            "grid_area": null,
            "grid_auto_columns": null,
            "grid_auto_flow": null,
            "grid_auto_rows": null,
            "grid_column": null,
            "grid_gap": null,
            "grid_row": null,
            "grid_template_areas": null,
            "grid_template_columns": null,
            "grid_template_rows": null,
            "height": null,
            "justify_content": null,
            "justify_items": null,
            "left": null,
            "margin": null,
            "max_height": null,
            "max_width": null,
            "min_height": null,
            "min_width": null,
            "object_fit": null,
            "object_position": null,
            "order": null,
            "overflow": null,
            "overflow_x": null,
            "overflow_y": null,
            "padding": null,
            "right": null,
            "top": null,
            "visibility": null,
            "width": null
          }
        },
        "35a9d11d57a24393a809f87aedf43a46": {
          "model_module": "@jupyter-widgets/controls",
          "model_name": "DescriptionStyleModel",
          "model_module_version": "1.5.0",
          "state": {
            "_model_module": "@jupyter-widgets/controls",
            "_model_module_version": "1.5.0",
            "_model_name": "DescriptionStyleModel",
            "_view_count": null,
            "_view_module": "@jupyter-widgets/base",
            "_view_module_version": "1.2.0",
            "_view_name": "StyleView",
            "description_width": ""
          }
        },
        "5e5a78f3f6934fa9834501796062c67f": {
          "model_module": "@jupyter-widgets/controls",
          "model_name": "HBoxModel",
          "model_module_version": "1.5.0",
          "state": {
            "_dom_classes": [],
            "_model_module": "@jupyter-widgets/controls",
            "_model_module_version": "1.5.0",
            "_model_name": "HBoxModel",
            "_view_count": null,
            "_view_module": "@jupyter-widgets/controls",
            "_view_module_version": "1.5.0",
            "_view_name": "HBoxView",
            "box_style": "",
            "children": [
              "IPY_MODEL_c4840982cd8c46b58671bac4a4651bc6",
              "IPY_MODEL_4d47a9a5bd174d83ae8814c1fd5f5ba2",
              "IPY_MODEL_6343d09616624740a12bc7b195a2d652"
            ],
            "layout": "IPY_MODEL_faa47f2918474c44875ab0a7e91885b6"
          }
        },
        "c4840982cd8c46b58671bac4a4651bc6": {
          "model_module": "@jupyter-widgets/controls",
          "model_name": "HTMLModel",
          "model_module_version": "1.5.0",
          "state": {
            "_dom_classes": [],
            "_model_module": "@jupyter-widgets/controls",
            "_model_module_version": "1.5.0",
            "_model_name": "HTMLModel",
            "_view_count": null,
            "_view_module": "@jupyter-widgets/controls",
            "_view_module_version": "1.5.0",
            "_view_name": "HTMLView",
            "description": "",
            "description_tooltip": null,
            "layout": "IPY_MODEL_00db071978e84a509256f030076acc0b",
            "placeholder": "​",
            "style": "IPY_MODEL_cfc725f82f7d41e7b38c1ce64666ab44",
            "value": "vocab.json: 100%"
          }
        },
        "4d47a9a5bd174d83ae8814c1fd5f5ba2": {
          "model_module": "@jupyter-widgets/controls",
          "model_name": "FloatProgressModel",
          "model_module_version": "1.5.0",
          "state": {
            "_dom_classes": [],
            "_model_module": "@jupyter-widgets/controls",
            "_model_module_version": "1.5.0",
            "_model_name": "FloatProgressModel",
            "_view_count": null,
            "_view_module": "@jupyter-widgets/controls",
            "_view_module_version": "1.5.0",
            "_view_name": "ProgressView",
            "bar_style": "success",
            "description": "",
            "description_tooltip": null,
            "layout": "IPY_MODEL_f830726b1f3d4e1a87bdf8d11cd26408",
            "max": 1042301,
            "min": 0,
            "orientation": "horizontal",
            "style": "IPY_MODEL_dbb7200d4ccc4dc2bec6e0826708478e",
            "value": 1042301
          }
        },
        "6343d09616624740a12bc7b195a2d652": {
          "model_module": "@jupyter-widgets/controls",
          "model_name": "HTMLModel",
          "model_module_version": "1.5.0",
          "state": {
            "_dom_classes": [],
            "_model_module": "@jupyter-widgets/controls",
            "_model_module_version": "1.5.0",
            "_model_name": "HTMLModel",
            "_view_count": null,
            "_view_module": "@jupyter-widgets/controls",
            "_view_module_version": "1.5.0",
            "_view_name": "HTMLView",
            "description": "",
            "description_tooltip": null,
            "layout": "IPY_MODEL_c4a22d90157d4cdeacc8db7cea91fa3b",
            "placeholder": "​",
            "style": "IPY_MODEL_9b39b3444ac04e638305ef2701412b59",
            "value": " 1.04M/1.04M [00:00&lt;00:00, 6.11MB/s]"
          }
        },
        "faa47f2918474c44875ab0a7e91885b6": {
          "model_module": "@jupyter-widgets/base",
          "model_name": "LayoutModel",
          "model_module_version": "1.2.0",
          "state": {
            "_model_module": "@jupyter-widgets/base",
            "_model_module_version": "1.2.0",
            "_model_name": "LayoutModel",
            "_view_count": null,
            "_view_module": "@jupyter-widgets/base",
            "_view_module_version": "1.2.0",
            "_view_name": "LayoutView",
            "align_content": null,
            "align_items": null,
            "align_self": null,
            "border": null,
            "bottom": null,
            "display": null,
            "flex": null,
            "flex_flow": null,
            "grid_area": null,
            "grid_auto_columns": null,
            "grid_auto_flow": null,
            "grid_auto_rows": null,
            "grid_column": null,
            "grid_gap": null,
            "grid_row": null,
            "grid_template_areas": null,
            "grid_template_columns": null,
            "grid_template_rows": null,
            "height": null,
            "justify_content": null,
            "justify_items": null,
            "left": null,
            "margin": null,
            "max_height": null,
            "max_width": null,
            "min_height": null,
            "min_width": null,
            "object_fit": null,
            "object_position": null,
            "order": null,
            "overflow": null,
            "overflow_x": null,
            "overflow_y": null,
            "padding": null,
            "right": null,
            "top": null,
            "visibility": null,
            "width": null
          }
        },
        "00db071978e84a509256f030076acc0b": {
          "model_module": "@jupyter-widgets/base",
          "model_name": "LayoutModel",
          "model_module_version": "1.2.0",
          "state": {
            "_model_module": "@jupyter-widgets/base",
            "_model_module_version": "1.2.0",
            "_model_name": "LayoutModel",
            "_view_count": null,
            "_view_module": "@jupyter-widgets/base",
            "_view_module_version": "1.2.0",
            "_view_name": "LayoutView",
            "align_content": null,
            "align_items": null,
            "align_self": null,
            "border": null,
            "bottom": null,
            "display": null,
            "flex": null,
            "flex_flow": null,
            "grid_area": null,
            "grid_auto_columns": null,
            "grid_auto_flow": null,
            "grid_auto_rows": null,
            "grid_column": null,
            "grid_gap": null,
            "grid_row": null,
            "grid_template_areas": null,
            "grid_template_columns": null,
            "grid_template_rows": null,
            "height": null,
            "justify_content": null,
            "justify_items": null,
            "left": null,
            "margin": null,
            "max_height": null,
            "max_width": null,
            "min_height": null,
            "min_width": null,
            "object_fit": null,
            "object_position": null,
            "order": null,
            "overflow": null,
            "overflow_x": null,
            "overflow_y": null,
            "padding": null,
            "right": null,
            "top": null,
            "visibility": null,
            "width": null
          }
        },
        "cfc725f82f7d41e7b38c1ce64666ab44": {
          "model_module": "@jupyter-widgets/controls",
          "model_name": "DescriptionStyleModel",
          "model_module_version": "1.5.0",
          "state": {
            "_model_module": "@jupyter-widgets/controls",
            "_model_module_version": "1.5.0",
            "_model_name": "DescriptionStyleModel",
            "_view_count": null,
            "_view_module": "@jupyter-widgets/base",
            "_view_module_version": "1.2.0",
            "_view_name": "StyleView",
            "description_width": ""
          }
        },
        "f830726b1f3d4e1a87bdf8d11cd26408": {
          "model_module": "@jupyter-widgets/base",
          "model_name": "LayoutModel",
          "model_module_version": "1.2.0",
          "state": {
            "_model_module": "@jupyter-widgets/base",
            "_model_module_version": "1.2.0",
            "_model_name": "LayoutModel",
            "_view_count": null,
            "_view_module": "@jupyter-widgets/base",
            "_view_module_version": "1.2.0",
            "_view_name": "LayoutView",
            "align_content": null,
            "align_items": null,
            "align_self": null,
            "border": null,
            "bottom": null,
            "display": null,
            "flex": null,
            "flex_flow": null,
            "grid_area": null,
            "grid_auto_columns": null,
            "grid_auto_flow": null,
            "grid_auto_rows": null,
            "grid_column": null,
            "grid_gap": null,
            "grid_row": null,
            "grid_template_areas": null,
            "grid_template_columns": null,
            "grid_template_rows": null,
            "height": null,
            "justify_content": null,
            "justify_items": null,
            "left": null,
            "margin": null,
            "max_height": null,
            "max_width": null,
            "min_height": null,
            "min_width": null,
            "object_fit": null,
            "object_position": null,
            "order": null,
            "overflow": null,
            "overflow_x": null,
            "overflow_y": null,
            "padding": null,
            "right": null,
            "top": null,
            "visibility": null,
            "width": null
          }
        },
        "dbb7200d4ccc4dc2bec6e0826708478e": {
          "model_module": "@jupyter-widgets/controls",
          "model_name": "ProgressStyleModel",
          "model_module_version": "1.5.0",
          "state": {
            "_model_module": "@jupyter-widgets/controls",
            "_model_module_version": "1.5.0",
            "_model_name": "ProgressStyleModel",
            "_view_count": null,
            "_view_module": "@jupyter-widgets/base",
            "_view_module_version": "1.2.0",
            "_view_name": "StyleView",
            "bar_color": null,
            "description_width": ""
          }
        },
        "c4a22d90157d4cdeacc8db7cea91fa3b": {
          "model_module": "@jupyter-widgets/base",
          "model_name": "LayoutModel",
          "model_module_version": "1.2.0",
          "state": {
            "_model_module": "@jupyter-widgets/base",
            "_model_module_version": "1.2.0",
            "_model_name": "LayoutModel",
            "_view_count": null,
            "_view_module": "@jupyter-widgets/base",
            "_view_module_version": "1.2.0",
            "_view_name": "LayoutView",
            "align_content": null,
            "align_items": null,
            "align_self": null,
            "border": null,
            "bottom": null,
            "display": null,
            "flex": null,
            "flex_flow": null,
            "grid_area": null,
            "grid_auto_columns": null,
            "grid_auto_flow": null,
            "grid_auto_rows": null,
            "grid_column": null,
            "grid_gap": null,
            "grid_row": null,
            "grid_template_areas": null,
            "grid_template_columns": null,
            "grid_template_rows": null,
            "height": null,
            "justify_content": null,
            "justify_items": null,
            "left": null,
            "margin": null,
            "max_height": null,
            "max_width": null,
            "min_height": null,
            "min_width": null,
            "object_fit": null,
            "object_position": null,
            "order": null,
            "overflow": null,
            "overflow_x": null,
            "overflow_y": null,
            "padding": null,
            "right": null,
            "top": null,
            "visibility": null,
            "width": null
          }
        },
        "9b39b3444ac04e638305ef2701412b59": {
          "model_module": "@jupyter-widgets/controls",
          "model_name": "DescriptionStyleModel",
          "model_module_version": "1.5.0",
          "state": {
            "_model_module": "@jupyter-widgets/controls",
            "_model_module_version": "1.5.0",
            "_model_name": "DescriptionStyleModel",
            "_view_count": null,
            "_view_module": "@jupyter-widgets/base",
            "_view_module_version": "1.2.0",
            "_view_name": "StyleView",
            "description_width": ""
          }
        },
        "e8e7ab0fa95b4134bfe055b2a2bf84bf": {
          "model_module": "@jupyter-widgets/controls",
          "model_name": "HBoxModel",
          "model_module_version": "1.5.0",
          "state": {
            "_dom_classes": [],
            "_model_module": "@jupyter-widgets/controls",
            "_model_module_version": "1.5.0",
            "_model_name": "HBoxModel",
            "_view_count": null,
            "_view_module": "@jupyter-widgets/controls",
            "_view_module_version": "1.5.0",
            "_view_name": "HBoxView",
            "box_style": "",
            "children": [
              "IPY_MODEL_de4c151a704a457bb17d2465ab69a110",
              "IPY_MODEL_0489dcbe12054cd2aed9bdf2f9a20d58",
              "IPY_MODEL_7badb70eebaf4d86abb78847f0a8d5c5"
            ],
            "layout": "IPY_MODEL_e14ad7d4bb4a43b2bceed0dca5e8a66a"
          }
        },
        "de4c151a704a457bb17d2465ab69a110": {
          "model_module": "@jupyter-widgets/controls",
          "model_name": "HTMLModel",
          "model_module_version": "1.5.0",
          "state": {
            "_dom_classes": [],
            "_model_module": "@jupyter-widgets/controls",
            "_model_module_version": "1.5.0",
            "_model_name": "HTMLModel",
            "_view_count": null,
            "_view_module": "@jupyter-widgets/controls",
            "_view_module_version": "1.5.0",
            "_view_name": "HTMLView",
            "description": "",
            "description_tooltip": null,
            "layout": "IPY_MODEL_44de998e0d6a43c191a2df0b6c14935b",
            "placeholder": "​",
            "style": "IPY_MODEL_fe31938a76d14b8b8f171166b64a014b",
            "value": "merges.txt: 100%"
          }
        },
        "0489dcbe12054cd2aed9bdf2f9a20d58": {
          "model_module": "@jupyter-widgets/controls",
          "model_name": "FloatProgressModel",
          "model_module_version": "1.5.0",
          "state": {
            "_dom_classes": [],
            "_model_module": "@jupyter-widgets/controls",
            "_model_module_version": "1.5.0",
            "_model_name": "FloatProgressModel",
            "_view_count": null,
            "_view_module": "@jupyter-widgets/controls",
            "_view_module_version": "1.5.0",
            "_view_name": "ProgressView",
            "bar_style": "success",
            "description": "",
            "description_tooltip": null,
            "layout": "IPY_MODEL_fe104223afd145bcbb659554986a8e47",
            "max": 456318,
            "min": 0,
            "orientation": "horizontal",
            "style": "IPY_MODEL_e55a702735274451968532c6a1758732",
            "value": 456318
          }
        },
        "7badb70eebaf4d86abb78847f0a8d5c5": {
          "model_module": "@jupyter-widgets/controls",
          "model_name": "HTMLModel",
          "model_module_version": "1.5.0",
          "state": {
            "_dom_classes": [],
            "_model_module": "@jupyter-widgets/controls",
            "_model_module_version": "1.5.0",
            "_model_name": "HTMLModel",
            "_view_count": null,
            "_view_module": "@jupyter-widgets/controls",
            "_view_module_version": "1.5.0",
            "_view_name": "HTMLView",
            "description": "",
            "description_tooltip": null,
            "layout": "IPY_MODEL_d27535ee5c1349c497ea6b11b35b7342",
            "placeholder": "​",
            "style": "IPY_MODEL_45c0fe4fa8eb4cc69a2844fc230869e1",
            "value": " 456k/456k [00:00&lt;00:00, 6.47MB/s]"
          }
        },
        "e14ad7d4bb4a43b2bceed0dca5e8a66a": {
          "model_module": "@jupyter-widgets/base",
          "model_name": "LayoutModel",
          "model_module_version": "1.2.0",
          "state": {
            "_model_module": "@jupyter-widgets/base",
            "_model_module_version": "1.2.0",
            "_model_name": "LayoutModel",
            "_view_count": null,
            "_view_module": "@jupyter-widgets/base",
            "_view_module_version": "1.2.0",
            "_view_name": "LayoutView",
            "align_content": null,
            "align_items": null,
            "align_self": null,
            "border": null,
            "bottom": null,
            "display": null,
            "flex": null,
            "flex_flow": null,
            "grid_area": null,
            "grid_auto_columns": null,
            "grid_auto_flow": null,
            "grid_auto_rows": null,
            "grid_column": null,
            "grid_gap": null,
            "grid_row": null,
            "grid_template_areas": null,
            "grid_template_columns": null,
            "grid_template_rows": null,
            "height": null,
            "justify_content": null,
            "justify_items": null,
            "left": null,
            "margin": null,
            "max_height": null,
            "max_width": null,
            "min_height": null,
            "min_width": null,
            "object_fit": null,
            "object_position": null,
            "order": null,
            "overflow": null,
            "overflow_x": null,
            "overflow_y": null,
            "padding": null,
            "right": null,
            "top": null,
            "visibility": null,
            "width": null
          }
        },
        "44de998e0d6a43c191a2df0b6c14935b": {
          "model_module": "@jupyter-widgets/base",
          "model_name": "LayoutModel",
          "model_module_version": "1.2.0",
          "state": {
            "_model_module": "@jupyter-widgets/base",
            "_model_module_version": "1.2.0",
            "_model_name": "LayoutModel",
            "_view_count": null,
            "_view_module": "@jupyter-widgets/base",
            "_view_module_version": "1.2.0",
            "_view_name": "LayoutView",
            "align_content": null,
            "align_items": null,
            "align_self": null,
            "border": null,
            "bottom": null,
            "display": null,
            "flex": null,
            "flex_flow": null,
            "grid_area": null,
            "grid_auto_columns": null,
            "grid_auto_flow": null,
            "grid_auto_rows": null,
            "grid_column": null,
            "grid_gap": null,
            "grid_row": null,
            "grid_template_areas": null,
            "grid_template_columns": null,
            "grid_template_rows": null,
            "height": null,
            "justify_content": null,
            "justify_items": null,
            "left": null,
            "margin": null,
            "max_height": null,
            "max_width": null,
            "min_height": null,
            "min_width": null,
            "object_fit": null,
            "object_position": null,
            "order": null,
            "overflow": null,
            "overflow_x": null,
            "overflow_y": null,
            "padding": null,
            "right": null,
            "top": null,
            "visibility": null,
            "width": null
          }
        },
        "fe31938a76d14b8b8f171166b64a014b": {
          "model_module": "@jupyter-widgets/controls",
          "model_name": "DescriptionStyleModel",
          "model_module_version": "1.5.0",
          "state": {
            "_model_module": "@jupyter-widgets/controls",
            "_model_module_version": "1.5.0",
            "_model_name": "DescriptionStyleModel",
            "_view_count": null,
            "_view_module": "@jupyter-widgets/base",
            "_view_module_version": "1.2.0",
            "_view_name": "StyleView",
            "description_width": ""
          }
        },
        "fe104223afd145bcbb659554986a8e47": {
          "model_module": "@jupyter-widgets/base",
          "model_name": "LayoutModel",
          "model_module_version": "1.2.0",
          "state": {
            "_model_module": "@jupyter-widgets/base",
            "_model_module_version": "1.2.0",
            "_model_name": "LayoutModel",
            "_view_count": null,
            "_view_module": "@jupyter-widgets/base",
            "_view_module_version": "1.2.0",
            "_view_name": "LayoutView",
            "align_content": null,
            "align_items": null,
            "align_self": null,
            "border": null,
            "bottom": null,
            "display": null,
            "flex": null,
            "flex_flow": null,
            "grid_area": null,
            "grid_auto_columns": null,
            "grid_auto_flow": null,
            "grid_auto_rows": null,
            "grid_column": null,
            "grid_gap": null,
            "grid_row": null,
            "grid_template_areas": null,
            "grid_template_columns": null,
            "grid_template_rows": null,
            "height": null,
            "justify_content": null,
            "justify_items": null,
            "left": null,
            "margin": null,
            "max_height": null,
            "max_width": null,
            "min_height": null,
            "min_width": null,
            "object_fit": null,
            "object_position": null,
            "order": null,
            "overflow": null,
            "overflow_x": null,
            "overflow_y": null,
            "padding": null,
            "right": null,
            "top": null,
            "visibility": null,
            "width": null
          }
        },
        "e55a702735274451968532c6a1758732": {
          "model_module": "@jupyter-widgets/controls",
          "model_name": "ProgressStyleModel",
          "model_module_version": "1.5.0",
          "state": {
            "_model_module": "@jupyter-widgets/controls",
            "_model_module_version": "1.5.0",
            "_model_name": "ProgressStyleModel",
            "_view_count": null,
            "_view_module": "@jupyter-widgets/base",
            "_view_module_version": "1.2.0",
            "_view_name": "StyleView",
            "bar_color": null,
            "description_width": ""
          }
        },
        "d27535ee5c1349c497ea6b11b35b7342": {
          "model_module": "@jupyter-widgets/base",
          "model_name": "LayoutModel",
          "model_module_version": "1.2.0",
          "state": {
            "_model_module": "@jupyter-widgets/base",
            "_model_module_version": "1.2.0",
            "_model_name": "LayoutModel",
            "_view_count": null,
            "_view_module": "@jupyter-widgets/base",
            "_view_module_version": "1.2.0",
            "_view_name": "LayoutView",
            "align_content": null,
            "align_items": null,
            "align_self": null,
            "border": null,
            "bottom": null,
            "display": null,
            "flex": null,
            "flex_flow": null,
            "grid_area": null,
            "grid_auto_columns": null,
            "grid_auto_flow": null,
            "grid_auto_rows": null,
            "grid_column": null,
            "grid_gap": null,
            "grid_row": null,
            "grid_template_areas": null,
            "grid_template_columns": null,
            "grid_template_rows": null,
            "height": null,
            "justify_content": null,
            "justify_items": null,
            "left": null,
            "margin": null,
            "max_height": null,
            "max_width": null,
            "min_height": null,
            "min_width": null,
            "object_fit": null,
            "object_position": null,
            "order": null,
            "overflow": null,
            "overflow_x": null,
            "overflow_y": null,
            "padding": null,
            "right": null,
            "top": null,
            "visibility": null,
            "width": null
          }
        },
        "45c0fe4fa8eb4cc69a2844fc230869e1": {
          "model_module": "@jupyter-widgets/controls",
          "model_name": "DescriptionStyleModel",
          "model_module_version": "1.5.0",
          "state": {
            "_model_module": "@jupyter-widgets/controls",
            "_model_module_version": "1.5.0",
            "_model_name": "DescriptionStyleModel",
            "_view_count": null,
            "_view_module": "@jupyter-widgets/base",
            "_view_module_version": "1.2.0",
            "_view_name": "StyleView",
            "description_width": ""
          }
        },
        "22381bfb050e45ebb62dcaebdaa6c777": {
          "model_module": "@jupyter-widgets/controls",
          "model_name": "HBoxModel",
          "model_module_version": "1.5.0",
          "state": {
            "_dom_classes": [],
            "_model_module": "@jupyter-widgets/controls",
            "_model_module_version": "1.5.0",
            "_model_name": "HBoxModel",
            "_view_count": null,
            "_view_module": "@jupyter-widgets/controls",
            "_view_module_version": "1.5.0",
            "_view_name": "HBoxView",
            "box_style": "",
            "children": [
              "IPY_MODEL_9bc3df0761a24936b10541c4b179833b",
              "IPY_MODEL_9682843ab22242ff962ab357993eaf00",
              "IPY_MODEL_465a4aad0bb4444b87935be91af3eb4a"
            ],
            "layout": "IPY_MODEL_841bd66985244ed3ab0ad3c133f74ddf"
          }
        },
        "9bc3df0761a24936b10541c4b179833b": {
          "model_module": "@jupyter-widgets/controls",
          "model_name": "HTMLModel",
          "model_module_version": "1.5.0",
          "state": {
            "_dom_classes": [],
            "_model_module": "@jupyter-widgets/controls",
            "_model_module_version": "1.5.0",
            "_model_name": "HTMLModel",
            "_view_count": null,
            "_view_module": "@jupyter-widgets/controls",
            "_view_module_version": "1.5.0",
            "_view_name": "HTMLView",
            "description": "",
            "description_tooltip": null,
            "layout": "IPY_MODEL_eb76336aa3d8476e9153ee4fccfd843e",
            "placeholder": "​",
            "style": "IPY_MODEL_39ff750451df4e2a94744d96e88e0687",
            "value": "tokenizer.json: 100%"
          }
        },
        "9682843ab22242ff962ab357993eaf00": {
          "model_module": "@jupyter-widgets/controls",
          "model_name": "FloatProgressModel",
          "model_module_version": "1.5.0",
          "state": {
            "_dom_classes": [],
            "_model_module": "@jupyter-widgets/controls",
            "_model_module_version": "1.5.0",
            "_model_name": "FloatProgressModel",
            "_view_count": null,
            "_view_module": "@jupyter-widgets/controls",
            "_view_module_version": "1.5.0",
            "_view_name": "ProgressView",
            "bar_style": "success",
            "description": "",
            "description_tooltip": null,
            "layout": "IPY_MODEL_6e36720f178b47c8a470e6ef0e1674d2",
            "max": 1355256,
            "min": 0,
            "orientation": "horizontal",
            "style": "IPY_MODEL_82e0ff91f660488d9d6c249d932a19fb",
            "value": 1355256
          }
        },
        "465a4aad0bb4444b87935be91af3eb4a": {
          "model_module": "@jupyter-widgets/controls",
          "model_name": "HTMLModel",
          "model_module_version": "1.5.0",
          "state": {
            "_dom_classes": [],
            "_model_module": "@jupyter-widgets/controls",
            "_model_module_version": "1.5.0",
            "_model_name": "HTMLModel",
            "_view_count": null,
            "_view_module": "@jupyter-widgets/controls",
            "_view_module_version": "1.5.0",
            "_view_name": "HTMLView",
            "description": "",
            "description_tooltip": null,
            "layout": "IPY_MODEL_fe631d06dbcc421aa0ba8c1843ac3e67",
            "placeholder": "​",
            "style": "IPY_MODEL_3d4212cc19004b328de51c0804da08fe",
            "value": " 1.36M/1.36M [00:00&lt;00:00, 15.7MB/s]"
          }
        },
        "841bd66985244ed3ab0ad3c133f74ddf": {
          "model_module": "@jupyter-widgets/base",
          "model_name": "LayoutModel",
          "model_module_version": "1.2.0",
          "state": {
            "_model_module": "@jupyter-widgets/base",
            "_model_module_version": "1.2.0",
            "_model_name": "LayoutModel",
            "_view_count": null,
            "_view_module": "@jupyter-widgets/base",
            "_view_module_version": "1.2.0",
            "_view_name": "LayoutView",
            "align_content": null,
            "align_items": null,
            "align_self": null,
            "border": null,
            "bottom": null,
            "display": null,
            "flex": null,
            "flex_flow": null,
            "grid_area": null,
            "grid_auto_columns": null,
            "grid_auto_flow": null,
            "grid_auto_rows": null,
            "grid_column": null,
            "grid_gap": null,
            "grid_row": null,
            "grid_template_areas": null,
            "grid_template_columns": null,
            "grid_template_rows": null,
            "height": null,
            "justify_content": null,
            "justify_items": null,
            "left": null,
            "margin": null,
            "max_height": null,
            "max_width": null,
            "min_height": null,
            "min_width": null,
            "object_fit": null,
            "object_position": null,
            "order": null,
            "overflow": null,
            "overflow_x": null,
            "overflow_y": null,
            "padding": null,
            "right": null,
            "top": null,
            "visibility": null,
            "width": null
          }
        },
        "eb76336aa3d8476e9153ee4fccfd843e": {
          "model_module": "@jupyter-widgets/base",
          "model_name": "LayoutModel",
          "model_module_version": "1.2.0",
          "state": {
            "_model_module": "@jupyter-widgets/base",
            "_model_module_version": "1.2.0",
            "_model_name": "LayoutModel",
            "_view_count": null,
            "_view_module": "@jupyter-widgets/base",
            "_view_module_version": "1.2.0",
            "_view_name": "LayoutView",
            "align_content": null,
            "align_items": null,
            "align_self": null,
            "border": null,
            "bottom": null,
            "display": null,
            "flex": null,
            "flex_flow": null,
            "grid_area": null,
            "grid_auto_columns": null,
            "grid_auto_flow": null,
            "grid_auto_rows": null,
            "grid_column": null,
            "grid_gap": null,
            "grid_row": null,
            "grid_template_areas": null,
            "grid_template_columns": null,
            "grid_template_rows": null,
            "height": null,
            "justify_content": null,
            "justify_items": null,
            "left": null,
            "margin": null,
            "max_height": null,
            "max_width": null,
            "min_height": null,
            "min_width": null,
            "object_fit": null,
            "object_position": null,
            "order": null,
            "overflow": null,
            "overflow_x": null,
            "overflow_y": null,
            "padding": null,
            "right": null,
            "top": null,
            "visibility": null,
            "width": null
          }
        },
        "39ff750451df4e2a94744d96e88e0687": {
          "model_module": "@jupyter-widgets/controls",
          "model_name": "DescriptionStyleModel",
          "model_module_version": "1.5.0",
          "state": {
            "_model_module": "@jupyter-widgets/controls",
            "_model_module_version": "1.5.0",
            "_model_name": "DescriptionStyleModel",
            "_view_count": null,
            "_view_module": "@jupyter-widgets/base",
            "_view_module_version": "1.2.0",
            "_view_name": "StyleView",
            "description_width": ""
          }
        },
        "6e36720f178b47c8a470e6ef0e1674d2": {
          "model_module": "@jupyter-widgets/base",
          "model_name": "LayoutModel",
          "model_module_version": "1.2.0",
          "state": {
            "_model_module": "@jupyter-widgets/base",
            "_model_module_version": "1.2.0",
            "_model_name": "LayoutModel",
            "_view_count": null,
            "_view_module": "@jupyter-widgets/base",
            "_view_module_version": "1.2.0",
            "_view_name": "LayoutView",
            "align_content": null,
            "align_items": null,
            "align_self": null,
            "border": null,
            "bottom": null,
            "display": null,
            "flex": null,
            "flex_flow": null,
            "grid_area": null,
            "grid_auto_columns": null,
            "grid_auto_flow": null,
            "grid_auto_rows": null,
            "grid_column": null,
            "grid_gap": null,
            "grid_row": null,
            "grid_template_areas": null,
            "grid_template_columns": null,
            "grid_template_rows": null,
            "height": null,
            "justify_content": null,
            "justify_items": null,
            "left": null,
            "margin": null,
            "max_height": null,
            "max_width": null,
            "min_height": null,
            "min_width": null,
            "object_fit": null,
            "object_position": null,
            "order": null,
            "overflow": null,
            "overflow_x": null,
            "overflow_y": null,
            "padding": null,
            "right": null,
            "top": null,
            "visibility": null,
            "width": null
          }
        },
        "82e0ff91f660488d9d6c249d932a19fb": {
          "model_module": "@jupyter-widgets/controls",
          "model_name": "ProgressStyleModel",
          "model_module_version": "1.5.0",
          "state": {
            "_model_module": "@jupyter-widgets/controls",
            "_model_module_version": "1.5.0",
            "_model_name": "ProgressStyleModel",
            "_view_count": null,
            "_view_module": "@jupyter-widgets/base",
            "_view_module_version": "1.2.0",
            "_view_name": "StyleView",
            "bar_color": null,
            "description_width": ""
          }
        },
        "fe631d06dbcc421aa0ba8c1843ac3e67": {
          "model_module": "@jupyter-widgets/base",
          "model_name": "LayoutModel",
          "model_module_version": "1.2.0",
          "state": {
            "_model_module": "@jupyter-widgets/base",
            "_model_module_version": "1.2.0",
            "_model_name": "LayoutModel",
            "_view_count": null,
            "_view_module": "@jupyter-widgets/base",
            "_view_module_version": "1.2.0",
            "_view_name": "LayoutView",
            "align_content": null,
            "align_items": null,
            "align_self": null,
            "border": null,
            "bottom": null,
            "display": null,
            "flex": null,
            "flex_flow": null,
            "grid_area": null,
            "grid_auto_columns": null,
            "grid_auto_flow": null,
            "grid_auto_rows": null,
            "grid_column": null,
            "grid_gap": null,
            "grid_row": null,
            "grid_template_areas": null,
            "grid_template_columns": null,
            "grid_template_rows": null,
            "height": null,
            "justify_content": null,
            "justify_items": null,
            "left": null,
            "margin": null,
            "max_height": null,
            "max_width": null,
            "min_height": null,
            "min_width": null,
            "object_fit": null,
            "object_position": null,
            "order": null,
            "overflow": null,
            "overflow_x": null,
            "overflow_y": null,
            "padding": null,
            "right": null,
            "top": null,
            "visibility": null,
            "width": null
          }
        },
        "3d4212cc19004b328de51c0804da08fe": {
          "model_module": "@jupyter-widgets/controls",
          "model_name": "DescriptionStyleModel",
          "model_module_version": "1.5.0",
          "state": {
            "_model_module": "@jupyter-widgets/controls",
            "_model_module_version": "1.5.0",
            "_model_name": "DescriptionStyleModel",
            "_view_count": null,
            "_view_module": "@jupyter-widgets/base",
            "_view_module_version": "1.2.0",
            "_view_name": "StyleView",
            "description_width": ""
          }
        }
      }
    }
  },
  "cells": [
    {
      "cell_type": "markdown",
      "source": [
        "# **ACM Task 1**\n",
        "\n",
        "Welcome mentees to your first task in ACM!\n",
        "\n",
        "\n",
        "Our focus this week is on mastering [Python](http://alturl.com/5536k)—a language that powers countless applications, from web development to AI and data science. By the end of this notebook, you’ll have a strong foundation in Python that will serve as a stepping stone for more advanced topics in the coming weeks.\n",
        "\n",
        "Whether you’re new to Python or looking to solidify your understanding, this task will set the stage for everything we’ll cover throughout the learning period.\n",
        "\n",
        "Please don’t hesitate to reach out with any questions. We’re here to support you every step of the way.\n",
        "\n",
        "Let’s dive in and start coding!"
      ],
      "metadata": {
        "id": "bugnHkGyHHj5"
      }
    },
    {
      "cell_type": "markdown",
      "source": [
        "## **NOTE:**\n",
        "\n",
        "**Copy this notebook to your own drive (click on 'File' option in the NavBar' and select 'Save a copy in Drive') and then run the notebook and make whatever changes you want on it. Once you have finished the task, push the notebook to a GitHub repository named 'ACM\\_24_task\\_1'.**"
      ],
      "metadata": {
        "id": "2hsWkr1yGqmH"
      }
    },
    {
      "cell_type": "markdown",
      "source": [
        "## Colab Notebook Execution"
      ],
      "metadata": {
        "id": "XY4yMkngKWv6"
      }
    },
    {
      "cell_type": "markdown",
      "source": [
        "We will use Jupyter notebooks and Google colab as the primary way to practice machine learning. Notebooks are a great way to mix executable code with rich contents (HTML, images, equations written in LaTeX). Colab allows to run notebooks on the cloud for free without any prior installation, while leveraging the power of [GPUs](https://en.wikipedia.org/wiki/Graphics_processing_unit)."
      ],
      "metadata": {
        "id": "fLk-YXApKGD7"
      }
    },
    {
      "cell_type": "markdown",
      "source": [
        "The document that you are reading is not a static web page, but an interactive environment called a notebook, that lets you write and execute code. Notebooks consist of so-called code cells, blocks of one or more Python instructions. For example, here is a code cell that stores the result of a computation (the number of seconds in a day) in a variable and prints its value:"
      ],
      "metadata": {
        "id": "3WU0qHuqKQXQ"
      }
    },
    {
      "cell_type": "code",
      "source": [
        "seconds_in_a_day = 24 * 60 * 60\n",
        "seconds_in_a_day"
      ],
      "metadata": {
        "colab": {
          "base_uri": "https://localhost:8080/"
        },
        "id": "YMkzXOXyKU_o",
        "outputId": "781322cf-98a2-4a91-bfa0-35f8b6e87d40"
      },
      "execution_count": null,
      "outputs": [
        {
          "output_type": "execute_result",
          "data": {
            "text/plain": [
              "86400"
            ]
          },
          "metadata": {},
          "execution_count": 1
        }
      ]
    },
    {
      "cell_type": "markdown",
      "source": [
        "Click on the \"play\" button to execute the cell. You should be able to see the result. Alternatively, you can also execute the cell by pressing Ctrl + Enter if you are on Windows / Linux or Command + Enter if you are on a Mac."
      ],
      "metadata": {
        "id": "SJ1jX0XiKfk6"
      }
    },
    {
      "cell_type": "markdown",
      "source": [
        "## I/O"
      ],
      "metadata": {
        "id": "aURtzRhqI9au"
      }
    },
    {
      "cell_type": "code",
      "execution_count": null,
      "metadata": {
        "colab": {
          "base_uri": "https://localhost:8080/"
        },
        "id": "8k_e19mRFcsk",
        "outputId": "6fb41f38-22d9-45db-f38d-cc572adc688a"
      },
      "outputs": [
        {
          "output_type": "stream",
          "name": "stdout",
          "text": [
            "What is your name? Harry\n",
            "Hello, Harry\n"
          ]
        }
      ],
      "source": [
        "name = input(\"What is your name? \") # String input\n",
        "print(\"Hello,\", name)"
      ]
    },
    {
      "cell_type": "code",
      "source": [
        "dob = int(input(\"When were you born? \")) # Integer input (try removing the int() function and see what happens!)\n",
        "print(\"You are\", 2024 - dob, \"years old.\") # Like integer, you can do above for other data types like float as well"
      ],
      "metadata": {
        "colab": {
          "base_uri": "https://localhost:8080/"
        },
        "id": "WAfUg1_5JLjL",
        "outputId": "8c97dbb2-6995-490e-cf2d-3876ed11f3e9"
      },
      "execution_count": null,
      "outputs": [
        {
          "output_type": "stream",
          "name": "stdout",
          "text": [
            "When were you born? 1980\n",
            "You are 44 years old.\n"
          ]
        }
      ]
    },
    {
      "cell_type": "code",
      "source": [
        "## Different ways to print\n",
        "age = 2024 - dob\n",
        "print(\"You are\", age, \"years old.\") # Simplest way to print\n",
        "print(\"You are \" + str(age) + \" years old.\") # Via String Concatenation\n",
        "print(f\"You are {age} years old.\") # Via f-strings (introduced in python 3.6)"
      ],
      "metadata": {
        "colab": {
          "base_uri": "https://localhost:8080/"
        },
        "id": "YfjihY8jJVvX",
        "outputId": "8b29d38d-05ab-4511-f8ab-73b6fb6dd1f3"
      },
      "execution_count": null,
      "outputs": [
        {
          "output_type": "stream",
          "name": "stdout",
          "text": [
            "You are 44 years old.\n",
            "You are 44 years old.\n",
            "You are 44 years old.\n"
          ]
        }
      ]
    },
    {
      "cell_type": "code",
      "source": [
        "print(\"I am a ACM Mentee.\", end=\" \") # Change print output from newline to single space.\n",
        "print(\"I am a DJ Sanghvi student.\")"
      ],
      "metadata": {
        "colab": {
          "base_uri": "https://localhost:8080/"
        },
        "id": "rX9WPxH4NaXA",
        "outputId": "56d42506-46ce-4630-d25c-8ecebadfdc70"
      },
      "execution_count": null,
      "outputs": [
        {
          "output_type": "stream",
          "name": "stdout",
          "text": [
            "I am a ACM Mentee. I am a DJ Sanghvi student.\n"
          ]
        }
      ]
    },
    {
      "cell_type": "markdown",
      "source": [
        "**Exercise Time**\n",
        "\n",
        "- Ask the user to enter their first name.\n",
        "- Store the input in a variable named first_name.\n",
        "- Print a greeting message using the first_name variable.\n",
        "- Experiment with different ways to format the output:\n",
        "  - Using f-strings\n",
        "  - Using the format() method\n",
        "  - Using the % operator"
      ],
      "metadata": {
        "id": "b0zUMF2T75_F"
      }
    },
    {
      "cell_type": "code",
      "source": [
        "# write your code here\n",
        "first_name = input(\"Enter your first name: \")\n",
        "print(f\"Hello, {first_name}!\")\n",
        "print(\"Hello, {}!\".format(first_name))\n",
        "print(\"Hello, %s!\" % first_name)"
      ],
      "metadata": {
        "id": "ECZrVnJ59lU7",
        "colab": {
          "base_uri": "https://localhost:8080/"
        },
        "outputId": "a976ed4c-43a4-486d-8625-e50c94ea8e02"
      },
      "execution_count": null,
      "outputs": [
        {
          "output_type": "stream",
          "name": "stdout",
          "text": [
            "Enter your first name: Harry\n",
            "Hello, Harry!\n",
            "Hello, Harry!\n",
            "Hello, Harry!\n"
          ]
        }
      ]
    },
    {
      "cell_type": "markdown",
      "source": [
        "## Expressions and Data Types"
      ],
      "metadata": {
        "id": "3gdWYiPPLBk9"
      }
    },
    {
      "cell_type": "markdown",
      "source": [
        "Python offers a rich set of data types including numbers, strings, lists, dictionaries, and more, each serving specific data handling needs. As a dynamic language, Python determines the data type of a variable at runtime, providing flexibility in assigning different data types to the same variable without explicit declaration.\n",
        "So no need of writing data types of each and every variable. Python is smart enough to figure out on it's own! You can find the type of variables via the type() function. Some common data types you will mostly use are:\n",
        "\n",
        "* Numbers\n",
        "  * integers\n",
        "  * floating-point\n",
        "  * complex numbers\n",
        "* strings\n",
        "* boolean values\n",
        "* lists and dicts"
      ],
      "metadata": {
        "id": "LLRf2ADVLPeB"
      }
    },
    {
      "cell_type": "code",
      "source": [
        "12 + 3.5 # addition"
      ],
      "metadata": {
        "colab": {
          "base_uri": "https://localhost:8080/"
        },
        "id": "5_iXm6qxLQQU",
        "outputId": "53e6d51f-4a7d-4adf-9bfc-9fee77120689"
      },
      "execution_count": null,
      "outputs": [
        {
          "output_type": "execute_result",
          "data": {
            "text/plain": [
              "15.5"
            ]
          },
          "metadata": {},
          "execution_count": 7
        }
      ]
    },
    {
      "cell_type": "code",
      "source": [
        "5 - 9.1 # subtraction"
      ],
      "metadata": {
        "colab": {
          "base_uri": "https://localhost:8080/"
        },
        "id": "61mDjvu3LZ3o",
        "outputId": "0eb32015-90f1-46a1-bc0b-f286b3b06b16"
      },
      "execution_count": null,
      "outputs": [
        {
          "output_type": "execute_result",
          "data": {
            "text/plain": [
              "-4.1"
            ]
          },
          "metadata": {},
          "execution_count": 8
        }
      ]
    },
    {
      "cell_type": "code",
      "source": [
        "3.1 * 4 # multiplication"
      ],
      "metadata": {
        "colab": {
          "base_uri": "https://localhost:8080/"
        },
        "id": "dIBpNK-dLd6O",
        "outputId": "4d721c03-f467-422e-b250-177840368b02"
      },
      "execution_count": null,
      "outputs": [
        {
          "output_type": "execute_result",
          "data": {
            "text/plain": [
              "12.4"
            ]
          },
          "metadata": {},
          "execution_count": 9
        }
      ]
    },
    {
      "cell_type": "code",
      "source": [
        "13 / 3 # division"
      ],
      "metadata": {
        "colab": {
          "base_uri": "https://localhost:8080/"
        },
        "id": "19Wyx0G1LiQY",
        "outputId": "b38b1dbf-7d52-43a4-b0b6-b0c7f5551ae1"
      },
      "execution_count": null,
      "outputs": [
        {
          "output_type": "execute_result",
          "data": {
            "text/plain": [
              "4.333333333333333"
            ]
          },
          "metadata": {},
          "execution_count": 10
        }
      ]
    },
    {
      "cell_type": "code",
      "source": [
        "round(13 / 3, 2) # rounding off"
      ],
      "metadata": {
        "colab": {
          "base_uri": "https://localhost:8080/"
        },
        "id": "CDZEqq_eO9yk",
        "outputId": "90f09762-6c4b-406f-a375-37b44fee459a"
      },
      "execution_count": null,
      "outputs": [
        {
          "output_type": "execute_result",
          "data": {
            "text/plain": [
              "4.33"
            ]
          },
          "metadata": {},
          "execution_count": 11
        }
      ]
    },
    {
      "cell_type": "code",
      "source": [
        "2.5 ** 2 # exponentiation"
      ],
      "metadata": {
        "colab": {
          "base_uri": "https://localhost:8080/"
        },
        "id": "LGSCdVDeLlcy",
        "outputId": "d83f7d24-a35b-43a1-bc31-efa00e4b48f5"
      },
      "execution_count": null,
      "outputs": [
        {
          "output_type": "execute_result",
          "data": {
            "text/plain": [
              "6.25"
            ]
          },
          "metadata": {},
          "execution_count": 12
        }
      ]
    },
    {
      "cell_type": "code",
      "source": [
        "5 + 3j # complex number"
      ],
      "metadata": {
        "colab": {
          "base_uri": "https://localhost:8080/"
        },
        "id": "DtkDL0zyM-0E",
        "outputId": "44d1f0a7-ddb3-424c-9366-1eccf7d8bba9"
      },
      "execution_count": null,
      "outputs": [
        {
          "output_type": "execute_result",
          "data": {
            "text/plain": [
              "(5+3j)"
            ]
          },
          "metadata": {},
          "execution_count": 13
        }
      ]
    },
    {
      "cell_type": "markdown",
      "source": [
        "## Conditionals"
      ],
      "metadata": {
        "id": "aZRdsLCmPOeQ"
      }
    },
    {
      "cell_type": "code",
      "source": [
        "## if-else statements (note that we use elif instead of else if)\n",
        "score = int(input(\"Score: \"))\n",
        "\n",
        "if 90 <= score <= 100:\n",
        "    print(\"Grade: A\")\n",
        "elif 80 <= score < 90:\n",
        "    print(\"Grade: B\")\n",
        "elif 70 <= score < 80:\n",
        "    print(\"Grade: C\")\n",
        "elif 60 <= score < 70:\n",
        "    print(\"Grade: D\")\n",
        "else:\n",
        "    print(\"Grade: F\")"
      ],
      "metadata": {
        "colab": {
          "base_uri": "https://localhost:8080/"
        },
        "id": "W5ae1vlyPQuN",
        "outputId": "9d52237d-d595-49e2-93fc-6747889bc44f"
      },
      "execution_count": null,
      "outputs": [
        {
          "output_type": "stream",
          "name": "stdout",
          "text": [
            "Score: 65\n",
            "Grade: D\n"
          ]
        }
      ]
    },
    {
      "cell_type": "markdown",
      "source": [
        "In the programming world, there are types of programming that are called “Pythonic” in nature. That is, there are ways to program that are sometimes only seen in Python programming. Notice that this statement in our code is almost like a sentence in English. This is a unique way of coding only seen in Python."
      ],
      "metadata": {
        "id": "dXDEHf7ZQcw6"
      }
    },
    {
      "cell_type": "code",
      "source": [
        "print(\"You are eligible to vote\" if dob <= 2006 else \"You are not eligible to vote\")"
      ],
      "metadata": {
        "colab": {
          "base_uri": "https://localhost:8080/"
        },
        "id": "B3xeHzCkQEBw",
        "outputId": "a40de3f3-27ce-4162-89af-635707b98818"
      },
      "execution_count": null,
      "outputs": [
        {
          "output_type": "stream",
          "name": "stdout",
          "text": [
            "You are eligible to vote\n"
          ]
        }
      ]
    },
    {
      "cell_type": "code",
      "source": [
        "# Instead of switch, we use match in python. (Note how instead of default, we have used case _)\n",
        "name = input(\"What's your name? \")\n",
        "\n",
        "match name:\n",
        "    case \"Harry\":\n",
        "        print(\"Gryffindor\")\n",
        "    case \"Hermione\":\n",
        "        print(\"Gryffindor\")\n",
        "    case \"Ron\":\n",
        "        print(\"Gryffindor\")\n",
        "    case \"Draco\":\n",
        "        print(\"Slytherin\")\n",
        "    case _:\n",
        "        print(\"Who?\")"
      ],
      "metadata": {
        "colab": {
          "base_uri": "https://localhost:8080/"
        },
        "id": "GBvnb76VQyvB",
        "outputId": "1b8720ae-e9ce-492b-ed23-c2395ff3c008"
      },
      "execution_count": null,
      "outputs": [
        {
          "output_type": "stream",
          "name": "stdout",
          "text": [
            "What's your name? Hermione\n",
            "Gryffindor\n"
          ]
        }
      ]
    },
    {
      "cell_type": "markdown",
      "source": [
        "There is some redundancy in the above code. See how I have [refactored](https://www.agilealliance.org/glossary/refactoring/) the code:"
      ],
      "metadata": {
        "id": "qa9p25gNRa6F"
      }
    },
    {
      "cell_type": "code",
      "source": [
        "name = input(\"What's your name? \")\n",
        "\n",
        "match name:\n",
        "    case \"Harry\" | \"Hermione\" | \"Ron\":\n",
        "        print(\"Gryffindor\")\n",
        "    case \"Draco\":\n",
        "        print(\"Slytherin\")\n",
        "    case _:\n",
        "        print(\"Who?\")\n",
        "\n",
        "# Notice, the use of the single vertical bar |. This allows us to check for multiple values in the same case statement."
      ],
      "metadata": {
        "colab": {
          "base_uri": "https://localhost:8080/"
        },
        "id": "OclOLSbHRCi6",
        "outputId": "0f16b5de-f12d-468d-bf92-e6977ded6ff8"
      },
      "execution_count": null,
      "outputs": [
        {
          "output_type": "stream",
          "name": "stdout",
          "text": [
            "What's your name? Draco\n",
            "Slytherin\n"
          ]
        }
      ]
    },
    {
      "cell_type": "markdown",
      "source": [
        "**Exercise Time**\n",
        "\n",
        "Scenario:\n",
        "You are a budding potioneer at Hogwarts. You need to create a potion of a specific strength. The strength of a potion is determined by the ratio of its ingredients.\n",
        "\n",
        "Instructions:\n",
        "\n",
        "Gather ingredients:\n",
        "\n",
        "- Ask the user to input the quantity of two ingredients (e.g., Snape's Special Spice and Newt's Nodule Extract).\n",
        "- Store these values as numerical variables.\n",
        "\n",
        "Calculate potion strength:\n",
        "\n",
        "The potion strength is calculated as the ratio of Snape's Special Spice to the total quantity of both ingredients.\n",
        "Calculate and store the potion strength as a percentage.\n",
        "Determine potion quality:\n",
        "\n",
        "- If the potion strength is between 30% and 70%, print \"Acceptable Potion\".\n",
        "- If the potion strength is less than 30%, print \"Potion is too weak!\".\n",
        "- If the potion strength is greater than 70%, print \"Potion is too strong!\"."
      ],
      "metadata": {
        "id": "tqUhvc2WIkdJ"
      }
    },
    {
      "cell_type": "code",
      "source": [
        "# write your code here\n",
        "snape_special_spice = int(input(\"Enter quantity of the special spice: \"))\n",
        "newt_nodule_extract = int(input(\"Enter quantity of the nodule extract: \"))\n",
        "\n",
        "potion_strength = (snape_special_spice / (snape_special_spice + newt_nodule_extract)) * 100\n",
        "\n",
        "if 30 <= potion_strength <= 70:\n",
        "    print(\"Acceptable Potion\")\n",
        "elif potion_strength < 30:\n",
        "    print(\"Potion is too weak!\")\n",
        "else:\n",
        "    print(\"Potion is too strong!\")"
      ],
      "metadata": {
        "id": "OnbpQWQWIhN5",
        "colab": {
          "base_uri": "https://localhost:8080/"
        },
        "outputId": "7ce7fc57-df14-4db0-a573-ab5dabf89d25"
      },
      "execution_count": null,
      "outputs": [
        {
          "output_type": "stream",
          "name": "stdout",
          "text": [
            "Enter quantity of the special spice: 60\n",
            "Enter quantity of the nodule extract: 50\n",
            "Acceptable Potion\n"
          ]
        }
      ]
    },
    {
      "cell_type": "markdown",
      "source": [
        "## Loops"
      ],
      "metadata": {
        "id": "gBkfsuefSZzf"
      }
    },
    {
      "cell_type": "code",
      "source": [
        "# while loop remains the same as always\n",
        "i = 3\n",
        "while i != 0:\n",
        "  print(\"meow\")\n",
        "  i = i - 1"
      ],
      "metadata": {
        "colab": {
          "base_uri": "https://localhost:8080/"
        },
        "id": "ehePei0eSbRr",
        "outputId": "5e14834e-c242-43a0-d9c0-dca82e8dddbe"
      },
      "execution_count": null,
      "outputs": [
        {
          "output_type": "stream",
          "name": "stdout",
          "text": [
            "meow\n",
            "meow\n",
            "meow\n"
          ]
        }
      ]
    },
    {
      "cell_type": "markdown",
      "source": [
        "There is a major change in how we write for loops. To best understand a for loop, it’s best to begin by talking about a new variable type called a list in Python. As in other areas of our lives, we can have a grocery list, a to-do list, etc. A for loop iterates through a list of items."
      ],
      "metadata": {
        "id": "Sc-qvLHRSwkt"
      }
    },
    {
      "cell_type": "code",
      "source": [
        "for i in [0, 1, 2]: # here [0, 1, 2] is a list (similar to arrays)\n",
        "    print(\"meow\")"
      ],
      "metadata": {
        "colab": {
          "base_uri": "https://localhost:8080/"
        },
        "id": "Ptn9cDVnS6Y9",
        "outputId": "90667e28-5079-4650-851b-223b26e5a093"
      },
      "execution_count": null,
      "outputs": [
        {
          "output_type": "stream",
          "name": "stdout",
          "text": [
            "meow\n",
            "meow\n",
            "meow\n"
          ]
        }
      ]
    },
    {
      "cell_type": "markdown",
      "source": [
        "However, what if you wanted to iterate up to a million? It’s best to create code that can work with such extreme cases."
      ],
      "metadata": {
        "id": "kMNAw7vFTOVf"
      }
    },
    {
      "cell_type": "code",
      "source": [
        "for i in range(3):\n",
        "    print(i, end=\", \") # note how execution starts from 0"
      ],
      "metadata": {
        "colab": {
          "base_uri": "https://localhost:8080/"
        },
        "id": "ObxQIF37TNlx",
        "outputId": "d22aff85-ba48-4c21-90cf-c090c501b506"
      },
      "execution_count": null,
      "outputs": [
        {
          "output_type": "stream",
          "name": "stdout",
          "text": [
            "0, 1, 2, "
          ]
        }
      ]
    },
    {
      "cell_type": "markdown",
      "source": [
        "What if I want to print numbers from 5 to 11 skipping even numbers? Consider the below code:"
      ],
      "metadata": {
        "id": "DkVZR9sPVUgY"
      }
    },
    {
      "cell_type": "code",
      "source": [
        "for i in range(5, 12, 2):\n",
        "    print(i, end=\", \")\n",
        "\n",
        "# The first parameter is the initial value, second is when the loop should stop (it will stop one number before it)\n",
        "# and the third is how should the variable be incremented/decremented/changed (this is skippable, python will default to 1)"
      ],
      "metadata": {
        "colab": {
          "base_uri": "https://localhost:8080/"
        },
        "id": "5Alfdb_SVT9g",
        "outputId": "a8f93f77-cd7b-42dd-cc7d-7744fef06316"
      },
      "execution_count": null,
      "outputs": [
        {
          "output_type": "stream",
          "name": "stdout",
          "text": [
            "5, 7, 9, 11, "
          ]
        }
      ]
    },
    {
      "cell_type": "markdown",
      "source": [
        "In Python, if a variable does not have any other significance in our code, we can simply represent this variable as a single underscore _."
      ],
      "metadata": {
        "id": "L9ZUnsPcUc5e"
      }
    },
    {
      "cell_type": "code",
      "source": [
        "for _ in range(3):\n",
        "    print(\"meow\")"
      ],
      "metadata": {
        "colab": {
          "base_uri": "https://localhost:8080/"
        },
        "id": "Hsei-YmsUcLC",
        "outputId": "b2cf956f-cc45-4af9-fa2f-3dcee8963206"
      },
      "execution_count": null,
      "outputs": [
        {
          "output_type": "stream",
          "name": "stdout",
          "text": [
            "meow\n",
            "meow\n",
            "meow\n"
          ]
        }
      ]
    },
    {
      "cell_type": "markdown",
      "source": [
        "To stretch your mind to the possibilities within Python, consider the following code:"
      ],
      "metadata": {
        "id": "649L4MqlUv_0"
      }
    },
    {
      "cell_type": "code",
      "source": [
        "print(\"meow\" * 3)"
      ],
      "metadata": {
        "colab": {
          "base_uri": "https://localhost:8080/"
        },
        "id": "jzSF6sLDUiYv",
        "outputId": "d81d0ef9-8d90-40f5-a08a-0e901822bb0f"
      },
      "execution_count": null,
      "outputs": [
        {
          "output_type": "stream",
          "name": "stdout",
          "text": [
            "meowmeowmeow\n"
          ]
        }
      ]
    },
    {
      "cell_type": "markdown",
      "source": [
        "**Excerise Time**\n",
        "\n",
        "Notice how the above code will meow three times, but the program will produce meowmeowmeow as the result. Consider: How could you create a line break at the end of each meow?"
      ],
      "metadata": {
        "id": "UnqmDD9SUtwZ"
      }
    },
    {
      "cell_type": "code",
      "source": [
        "# write your code here\n",
        "print(\"meow\\n\" * 3)\n",
        "print(\"meow\", \"meow\", \"meow\", sep='\\n')"
      ],
      "metadata": {
        "id": "Pt_F6fPVVAMq",
        "colab": {
          "base_uri": "https://localhost:8080/"
        },
        "outputId": "c1c11932-dc0c-4115-a74c-86aa52d6bfc6"
      },
      "execution_count": null,
      "outputs": [
        {
          "output_type": "stream",
          "name": "stdout",
          "text": [
            "meow\n",
            "meow\n",
            "meow\n",
            "\n",
            "meow\n",
            "meow\n",
            "meow\n"
          ]
        }
      ]
    },
    {
      "cell_type": "markdown",
      "source": [
        "## Lists"
      ],
      "metadata": {
        "id": "Kw2qoGjoXyHJ"
      }
    },
    {
      "cell_type": "markdown",
      "source": [
        "You might wonder why we did not use the _ designation as discussed prior. We choose not to do this because student is explicitly used in our code. You can learn more in Python’s documentation of [lists](https://docs.python.org/3/tutorial/datastructures.html#more-on-lists)."
      ],
      "metadata": {
        "id": "aVNVVPFIY7OW"
      }
    },
    {
      "cell_type": "code",
      "source": [
        "students = [\"Hermoine\", \"Harry\", \"Ron\"]\n",
        "\n",
        "for student in students:\n",
        "    print(student)"
      ],
      "metadata": {
        "colab": {
          "base_uri": "https://localhost:8080/"
        },
        "id": "THLFCSx9X27H",
        "outputId": "795d2a8c-2671-44fd-84d2-2c16eefe390f"
      },
      "execution_count": null,
      "outputs": [
        {
          "output_type": "stream",
          "name": "stdout",
          "text": [
            "Hermoine\n",
            "Harry\n",
            "Ron\n"
          ]
        }
      ]
    },
    {
      "cell_type": "markdown",
      "source": [
        "Notice how executing this code results in not only getting the position of each student plus one using i + 1, but also prints the name of each student. len allows you to dynamically see how long the list of the students is regardless of how much it grows."
      ],
      "metadata": {
        "id": "2hqHVMX_Y2YK"
      }
    },
    {
      "cell_type": "code",
      "source": [
        "students = [\"Hermoine\", \"Harry\", \"Ron\"]\n",
        "\n",
        "for i in range(len(students)):\n",
        "    print(i + 1, students[i])"
      ],
      "metadata": {
        "colab": {
          "base_uri": "https://localhost:8080/"
        },
        "id": "D_4Bvos4YU_C",
        "outputId": "3ff7ad40-deb1-407f-b147-539d375c1840"
      },
      "execution_count": null,
      "outputs": [
        {
          "output_type": "stream",
          "name": "stdout",
          "text": [
            "1 Hermoine\n",
            "2 Harry\n",
            "3 Ron\n"
          ]
        }
      ]
    },
    {
      "cell_type": "code",
      "source": [
        "# Some inbuilt list functions:\n",
        "\n",
        "my_list = [1, 2, 3]\n",
        "my_list.append(4) # adds 4 to the end of the list\n",
        "print(my_list)\n",
        "print(my_list[1:3]) # prints the second and third element of the list\n",
        "print(my_list[1:]) # prints the second element to the end of the list\n",
        "print(5 in my_list) # checks if 5 is in the list"
      ],
      "metadata": {
        "colab": {
          "base_uri": "https://localhost:8080/"
        },
        "id": "4ZYTNrWKZJLN",
        "outputId": "4b3523fd-be79-4ab4-e1d8-8928560ed844"
      },
      "execution_count": null,
      "outputs": [
        {
          "output_type": "stream",
          "name": "stdout",
          "text": [
            "[1, 2, 3, 4]\n",
            "[2, 3]\n",
            "[2, 3, 4]\n",
            "False\n"
          ]
        }
      ]
    },
    {
      "cell_type": "markdown",
      "source": [
        "\"List comprehension\" is the idea of writing some code inside of a list that will generate a list."
      ],
      "metadata": {
        "id": "9x9N1qrxnuDa"
      }
    },
    {
      "cell_type": "code",
      "source": [
        "[x ** 2 for x in range(10)]"
      ],
      "metadata": {
        "colab": {
          "base_uri": "https://localhost:8080/"
        },
        "id": "MNX_1dBenut-",
        "outputId": "31efa0e7-343e-4cb9-f544-4592a2a34b22"
      },
      "execution_count": null,
      "outputs": [
        {
          "output_type": "execute_result",
          "data": {
            "text/plain": [
              "[0, 1, 4, 9, 16, 25, 36, 49, 64, 81]"
            ]
          },
          "metadata": {},
          "execution_count": 29
        }
      ]
    },
    {
      "cell_type": "markdown",
      "source": [
        "**Exercise Time**\n",
        "\n",
        "- Prepare a list of questions related to personality traits, values, and preferences.\n",
        "- Each question should have multiple answer options.\n",
        "- Example questions:\n",
        "  - What kind of course would you be best in? (Charms, Herbology, Defense Against the Dark Arts, Potions)\n",
        "  - Which animal do you instinctively trust? (Dog, Cat, Owl, Horse)\n",
        "  - Which house spirit would be your friend? (Dobby, Kreacher, Pixies)\n",
        "\n",
        "- Present each question to the user and allow them to input their answer.\n",
        "- Store the answers in a list.\n",
        "- Assign points to each answer based on how it aligns with the characteristics of each Hogwarts house (Gryffindor, Hufflepuff, Ravenclaw, Slytherin).\n",
        "- Calculate the total points for each house.\n",
        "- Find the house with the highest point total.\n",
        "- Print the user's assigned Hogwarts house."
      ],
      "metadata": {
        "id": "wasPBk3gI11l"
      }
    },
    {
      "cell_type": "code",
      "source": [
        "# write your code here\n",
        "questions = [\n",
        "    \"What kind of course would you be best in?\",\n",
        "    \"Which animal do you instinctively trust?\",\n",
        "    \"Which house spirit would be your friend?\"\n",
        "]\n",
        "\n",
        "options = [\n",
        "    [\"Charms\", \"Herbology\", \"Defense Against the Dark Arts\", \"Potions\"],\n",
        "    [\"Dog\", \"Cat\", \"Owl\", \"Horse\"],\n",
        "    [\"Basilik\", \"Phoenix\", \"Pixies\", \"Badger\"]\n",
        "]\n",
        "\n",
        "points_mapping = [\n",
        "    [[2, 1, 3, 1], [1, 3, 2, 1], [3, 1, 2, 3], [1, 2, 2, 3]],\n",
        "    [[3, 3, 1, 1], [1, 1, 3, 2], [2, 2, 3, 1], [2, 2, 2, 3]],\n",
        "    [[3, 3, 1, 1], [1, 1, 2, 3], [2, 2, 3, 2], [2, 3, 1, 1]]\n",
        "]\n",
        "\n",
        "house_points = [0, 0, 0, 0]\n",
        "\n",
        "answers = []\n",
        "\n",
        "for i, question in enumerate(questions):\n",
        "    print(f\"{question}\")\n",
        "    for j, option in enumerate(options[i]):\n",
        "        print(f\"{j + 1}. {option}\")\n",
        "\n",
        "    answer_index = int(input(\"Choose an option (1-4): \")) - 1\n",
        "    answers.append(answer_index)\n",
        "\n",
        "    for house_index in range(4):\n",
        "        house_points[house_index] += points_mapping[i][answer_index][house_index]\n",
        "\n",
        "houses = [\"Gryffindor\", \"Hufflepuff\", \"Ravenclaw\", \"Slytherin\"]\n",
        "assigned_house = houses[house_points.index(max(house_points))]\n",
        "\n",
        "print(\"\\nYour assigned Hogwarts house is:\", assigned_house)"
      ],
      "metadata": {
        "id": "DfJBNeeGJViI",
        "colab": {
          "base_uri": "https://localhost:8080/"
        },
        "outputId": "e16fabee-7793-462d-c05a-521ede5ef480"
      },
      "execution_count": null,
      "outputs": [
        {
          "output_type": "stream",
          "name": "stdout",
          "text": [
            "What kind of course would you be best in?\n",
            "1. Charms\n",
            "2. Herbology\n",
            "3. Defense Against the Dark Arts\n",
            "4. Potions\n",
            "Choose an option (1-4): 2\n",
            "Which animal do you instinctively trust?\n",
            "1. Dog\n",
            "2. Cat\n",
            "3. Owl\n",
            "4. Horse\n",
            "Choose an option (1-4): 4\n",
            "Which house spirit would be your friend?\n",
            "1. Basilik\n",
            "2. Phoenix\n",
            "3. Pixies\n",
            "4. Badger\n",
            "Choose an option (1-4): 4\n",
            "\n",
            "Your assigned Hogwarts house is: Hufflepuff\n"
          ]
        }
      ]
    },
    {
      "cell_type": "markdown",
      "source": [
        "## Dictionaries"
      ],
      "metadata": {
        "id": "zOT357PWZxVy"
      }
    },
    {
      "cell_type": "markdown",
      "source": [
        "dicts or dictionaries is a data structure that allows you to associate keys with values.\n",
        "Where a list is a list of multiple values, a dict associates a key with a value."
      ],
      "metadata": {
        "id": "j03rXyabZ2hF"
      }
    },
    {
      "cell_type": "code",
      "source": [
        "students = {\n",
        "    \"Hermoine\": \"Gryffindor\",\n",
        "    \"Harry\": \"Gryffindor\",\n",
        "    \"Ron\": \"Gryffindor\",\n",
        "    \"Draco\": \"Slytherin\",\n",
        "}\n",
        "print(students[\"Hermoine\"])\n",
        "print(students[\"Harry\"])\n",
        "print(students[\"Ron\"])\n",
        "print(students[\"Draco\"])"
      ],
      "metadata": {
        "colab": {
          "base_uri": "https://localhost:8080/"
        },
        "id": "EqytEo4uZMUz",
        "outputId": "17da4230-8461-4080-b3ea-9c8aa8b2e2d3"
      },
      "execution_count": null,
      "outputs": [
        {
          "output_type": "stream",
          "name": "stdout",
          "text": [
            "Gryffindor\n",
            "Gryffindor\n",
            "Gryffindor\n",
            "Slytherin\n"
          ]
        }
      ]
    },
    {
      "cell_type": "markdown",
      "source": [
        "Notice how we use {} curly braces to create a dictionary. Where lists use numbers to iterate through the list, dicts allow us to use words."
      ],
      "metadata": {
        "id": "RHX7U3hKaHe-"
      }
    },
    {
      "cell_type": "code",
      "source": [
        "for student in students:\n",
        "    print(student)"
      ],
      "metadata": {
        "colab": {
          "base_uri": "https://localhost:8080/"
        },
        "id": "yORG7VNzZ7bt",
        "outputId": "51672071-5ffa-49e2-e14f-fa008f5f3111"
      },
      "execution_count": null,
      "outputs": [
        {
          "output_type": "stream",
          "name": "stdout",
          "text": [
            "Hermoine\n",
            "Harry\n",
            "Ron\n",
            "Draco\n"
          ]
        }
      ]
    },
    {
      "cell_type": "markdown",
      "source": [
        "Notice how, executing this code, the for loop will only iterate through all the keys, resulting in a list of the names of the students. How could we print out both values and keys?"
      ],
      "metadata": {
        "id": "NEOTjV9QaM8F"
      }
    },
    {
      "cell_type": "code",
      "source": [
        "for student in students:\n",
        "    print(student, students[student], sep=\", \") # sep allows us to alter how different components of a print statement is displayed"
      ],
      "metadata": {
        "colab": {
          "base_uri": "https://localhost:8080/"
        },
        "id": "SiYROj6ZaPUm",
        "outputId": "1565434b-9dda-4645-9b26-2107a5958b47"
      },
      "execution_count": null,
      "outputs": [
        {
          "output_type": "stream",
          "name": "stdout",
          "text": [
            "Hermoine, Gryffindor\n",
            "Harry, Gryffindor\n",
            "Ron, Gryffindor\n",
            "Draco, Slytherin\n"
          ]
        }
      ]
    },
    {
      "cell_type": "markdown",
      "source": [
        "You can imagine wanting to have lots of data associated with multiple keys."
      ],
      "metadata": {
        "id": "01WVplY0arpa"
      }
    },
    {
      "cell_type": "code",
      "source": [
        "students = [\n",
        "    {\"name\": \"Hermoine\", \"house\": \"Gryffindor\", \"patronus\": \"Otter\"},\n",
        "    {\"name\": \"Harry\", \"house\": \"Gryffindor\", \"patronus\": \"Stag\"},\n",
        "    {\"name\": \"Ron\", \"house\": \"Gryffindor\", \"patronus\": \"Jack Russell terrier\"},\n",
        "    {\"name\": \"Draco\", \"house\": \"Slytherin\", \"patronus\": None},\n",
        "]"
      ],
      "metadata": {
        "id": "FE36OkLSarEy"
      },
      "execution_count": null,
      "outputs": []
    },
    {
      "cell_type": "markdown",
      "source": [
        "Notice how the for loop will iterate through each of the dicts inside the list called students.\n",
        "\n",
        "You can learn more in Python’s Documentation of [dicts](https://docs.python.org/3/tutorial/datastructures.html#dictionaries)."
      ],
      "metadata": {
        "id": "dY5WEKBJa0CZ"
      }
    },
    {
      "cell_type": "code",
      "source": [
        "for student in students:\n",
        "    print(student[\"name\"], student[\"house\"], student[\"patronus\"], sep=\", \")"
      ],
      "metadata": {
        "colab": {
          "base_uri": "https://localhost:8080/"
        },
        "id": "nk_KE-CBav1v",
        "outputId": "4cf27ccd-3c5a-40a9-f158-df3ea4865aad"
      },
      "execution_count": null,
      "outputs": [
        {
          "output_type": "stream",
          "name": "stdout",
          "text": [
            "Hermoine, Gryffindor, Otter\n",
            "Harry, Gryffindor, Stag\n",
            "Ron, Gryffindor, Jack Russell terrier\n",
            "Draco, Slytherin, None\n"
          ]
        }
      ]
    },
    {
      "cell_type": "markdown",
      "source": [
        "What if I want to access only the keys or only the values of the dictionary? We can do the following."
      ],
      "metadata": {
        "id": "9HtjTO7sbLNw"
      }
    },
    {
      "cell_type": "code",
      "source": [
        "print(\"Keys: \")\n",
        "for i in students[0].keys():\n",
        "    print(f\"\\t{i}\")\n",
        "print(\"Values: \")\n",
        "for i in students[0].values():\n",
        "    print(f\"\\t{i}\")\n",
        "print(\"Items: \")\n",
        "for i in students[0].items():\n",
        "    print(f\"\\t{i}\")"
      ],
      "metadata": {
        "colab": {
          "base_uri": "https://localhost:8080/"
        },
        "id": "6xYfGgqKbJfx",
        "outputId": "6cd948dc-9bff-4c34-dabd-7ea4dd097282"
      },
      "execution_count": null,
      "outputs": [
        {
          "output_type": "stream",
          "name": "stdout",
          "text": [
            "Keys: \n",
            "\tname\n",
            "\thouse\n",
            "\tpatronus\n",
            "Values: \n",
            "\tHermoine\n",
            "\tGryffindor\n",
            "\tOtter\n",
            "Items: \n",
            "\t('name', 'Hermoine')\n",
            "\t('house', 'Gryffindor')\n",
            "\t('patronus', 'Otter')\n"
          ]
        }
      ]
    },
    {
      "cell_type": "markdown",
      "source": [
        "**Exercise Time**\n",
        "- Create a dictionary to represent a Harry Potter character's inventory.\n",
        "- Use item names as keys and quantities as values. (Such as: \"Gold Galleons\": 100, \"Silver Sickles\": 500, \"Bronze Knuts\": 2000, \"Potion Bottles\": 5).\n",
        "- Allow the user to add or remove items from the inventory.\n",
        "- Update the quantity accordingly.\n",
        "- Assign values to each type of currency (e.g., 1 Galleon = 29 Sickles, 1 Sickle = 29 Knuts).\n",
        "- Calculate the total worth of the inventory in Galleons.\n",
        "- Print the contents of the inventory in a formatted manner."
      ],
      "metadata": {
        "id": "o08LB_nRJy_d"
      }
    },
    {
      "cell_type": "code",
      "source": [
        "# write your code here\n",
        "inventory = {\n",
        "    \"Gold Galleons\": 100,\n",
        "    \"Silver Sickles\": 500,\n",
        "    \"Bronze Knuts\": 2000,\n",
        "    \"Potion Bottles\": 5\n",
        "}\n",
        "\n",
        "galleon_to_sickle = 29\n",
        "sickle_to_knut = 29\n",
        "\n",
        "print(\"\\nInventory:\")\n",
        "for item, quantity in inventory.items():\n",
        "    print(f\"{item}: {quantity}\")\n",
        "\n",
        "galleons = inventory.get(\"Gold Galleons\", 0)\n",
        "sickles = inventory.get(\"Silver Sickles\", 0) / galleon_to_sickle\n",
        "knuts = inventory.get(\"Bronze Knuts\", 0) / (galleon_to_sickle * sickle_to_knut)\n",
        "total_worth = galleons + sickles + knuts\n",
        "print(f\"\\nTotal worth in Galleons: {total_worth:.2f} Galleons\\n\")\n",
        "\n",
        "while True:\n",
        "    action = input(\"Do you want to add or remove an item? (add/remove/exit): \").strip().lower()\n",
        "    if action == \"exit\":\n",
        "        break\n",
        "    elif action in [\"add\", \"remove\"]:\n",
        "        item = input(\"Enter the item name: \").strip()\n",
        "        quantity = int(input(f\"Enter the quantity to {'add' if action == 'add' else 'remove'}: \"))\n",
        "        if action == \"remove\":\n",
        "            quantity = -quantity\n",
        "\n",
        "        if item in inventory:\n",
        "            inventory[item] += quantity\n",
        "            if inventory[item] <= 0:\n",
        "                del inventory[item]\n",
        "        else:\n",
        "            if quantity > 0:\n",
        "                inventory[item] = quantity\n",
        "\n",
        "        print(\"\\nUpdated Inventory:\")\n",
        "        for item, quantity in inventory.items():\n",
        "            print(f\"{item}: {quantity}\")\n",
        "\n",
        "        galleons = inventory.get(\"Gold Galleons\", 0)\n",
        "        sickles = inventory.get(\"Silver Sickles\", 0) / galleon_to_sickle\n",
        "        knuts = inventory.get(\"Bronze Knuts\", 0) / (galleon_to_sickle * sickle_to_knut)\n",
        "        total_worth = galleons + sickles + knuts\n",
        "        print(f\"\\nTotal worth in Galleons: {total_worth:.2f} Galleons\\n\")\n",
        "    else:\n",
        "        print(\"Invalid action. Please enter 'add', 'remove', or 'exit'.\")\n",
        "\n",
        "print(\"Final inventory:\")\n",
        "for item, quantity in inventory.items():\n",
        "    print(f\"{item}: {quantity}\")\n",
        "\n",
        "galleons = inventory.get(\"Gold Galleons\", 0)\n",
        "sickles = inventory.get(\"Silver Sickles\", 0) / galleon_to_sickle\n",
        "knuts = inventory.get(\"Bronze Knuts\", 0) / (galleon_to_sickle * sickle_to_knut)\n",
        "total_worth = galleons + sickles + knuts\n",
        "print(f\"\\nTotal worth in Galleons: {total_worth:.2f} Galleons\\n\")"
      ],
      "metadata": {
        "id": "e5kW3LaPKKsv",
        "colab": {
          "base_uri": "https://localhost:8080/"
        },
        "outputId": "9ceec9f6-d3a9-4a4d-a145-4161920192ab"
      },
      "execution_count": null,
      "outputs": [
        {
          "output_type": "stream",
          "name": "stdout",
          "text": [
            "\n",
            "Inventory:\n",
            "Gold Galleons: 100\n",
            "Silver Sickles: 500\n",
            "Bronze Knuts: 2000\n",
            "Potion Bottles: 5\n",
            "\n",
            "Total worth in Galleons: 119.62 Galleons\n",
            "\n",
            "Do you want to add or remove an item? (add/remove/exit): add\n",
            "Enter the item name: books\n",
            "Enter the quantity to add: 3\n",
            "\n",
            "Updated Inventory:\n",
            "Gold Galleons: 100\n",
            "Silver Sickles: 500\n",
            "Bronze Knuts: 2000\n",
            "Potion Bottles: 5\n",
            "books: 3\n",
            "\n",
            "Total worth in Galleons: 119.62 Galleons\n",
            "\n",
            "Do you want to add or remove an item? (add/remove/exit): add\n",
            "Enter the item name: Gold Galleons\n",
            "Enter the quantity to add: 50\n",
            "\n",
            "Updated Inventory:\n",
            "Gold Galleons: 150\n",
            "Silver Sickles: 500\n",
            "Bronze Knuts: 2000\n",
            "Potion Bottles: 5\n",
            "books: 3\n",
            "\n",
            "Total worth in Galleons: 169.62 Galleons\n",
            "\n",
            "Do you want to add or remove an item? (add/remove/exit): remove\n",
            "Enter the item name: Silver Sickles\n",
            "Enter the quantity to remove: 500\n",
            "\n",
            "Updated Inventory:\n",
            "Gold Galleons: 150\n",
            "Bronze Knuts: 2000\n",
            "Potion Bottles: 5\n",
            "books: 3\n",
            "\n",
            "Total worth in Galleons: 152.38 Galleons\n",
            "\n",
            "Do you want to add or remove an item? (add/remove/exit): exit\n",
            "Final inventory:\n",
            "Gold Galleons: 150\n",
            "Bronze Knuts: 2000\n",
            "Potion Bottles: 5\n",
            "books: 3\n",
            "\n",
            "Total worth in Galleons: 152.38 Galleons\n",
            "\n"
          ]
        }
      ]
    },
    {
      "cell_type": "markdown",
      "source": [
        "## Other Data Types"
      ],
      "metadata": {
        "id": "H_rnw_40cDsk"
      }
    },
    {
      "cell_type": "markdown",
      "source": [
        "Tuples are ordered, immutable collections of elements. They are defined using parentheses ()."
      ],
      "metadata": {
        "id": "EtCbJ8xCkGKH"
      }
    },
    {
      "cell_type": "code",
      "source": [
        "my_tuple = (1, 2, \"apple\", True)\n",
        "print(my_tuple)\n",
        "# try changing the length of the tuple or value of any element in the tuple"
      ],
      "metadata": {
        "colab": {
          "base_uri": "https://localhost:8080/"
        },
        "id": "t5kdNQHUkIbL",
        "outputId": "00539bbf-6025-460c-ebeb-7c0713492f7f"
      },
      "execution_count": null,
      "outputs": [
        {
          "output_type": "stream",
          "name": "stdout",
          "text": [
            "(1, 2, 'apple', True)\n"
          ]
        }
      ]
    },
    {
      "cell_type": "markdown",
      "source": [
        "Sets are unordered collections of unique elements. They are defined using curly braces {}. Sets are mutable."
      ],
      "metadata": {
        "id": "IbRqEFb0kji9"
      }
    },
    {
      "cell_type": "code",
      "source": [
        "my_set = set()\n",
        "my_set.add(1)\n",
        "my_set.add(2)\n",
        "my_set.add(3)\n",
        "my_set.add(2) # won't add duplicate\n",
        "print(my_set)\n",
        "another_set = {3,4,5}\n",
        "print(my_set.intersection(another_set))\n",
        "print(my_set.union(another_set))\n",
        "print(my_set.difference(another_set))"
      ],
      "metadata": {
        "colab": {
          "base_uri": "https://localhost:8080/"
        },
        "id": "9hNnTNd5kZC9",
        "outputId": "4e0de1c0-16fe-4b09-8704-b0ff9c6dca47"
      },
      "execution_count": null,
      "outputs": [
        {
          "output_type": "stream",
          "name": "stdout",
          "text": [
            "{1, 2, 3}\n",
            "{3}\n",
            "{1, 2, 3, 4, 5}\n",
            "{1, 2}\n"
          ]
        }
      ]
    },
    {
      "cell_type": "markdown",
      "source": [
        "Frozensets are immutable versions of sets. They are defined using the frozenset() constructor."
      ],
      "metadata": {
        "id": "Hi4RWSdCk3rQ"
      }
    },
    {
      "cell_type": "code",
      "source": [
        "my_frozenset = frozenset([1, 2, 3, \"apple\"])\n",
        "print(my_frozenset)\n",
        "# try changing it in any manner"
      ],
      "metadata": {
        "id": "03RkH6xQk52s",
        "colab": {
          "base_uri": "https://localhost:8080/"
        },
        "outputId": "1f118ca1-bd33-4e96-8cdc-019be9973d08"
      },
      "execution_count": null,
      "outputs": [
        {
          "output_type": "stream",
          "name": "stdout",
          "text": [
            "frozenset({1, 2, 3, 'apple'})\n"
          ]
        }
      ]
    },
    {
      "cell_type": "markdown",
      "source": [
        "## Functions"
      ],
      "metadata": {
        "id": "Cxwpc2u4cI9y"
      }
    },
    {
      "cell_type": "markdown",
      "source": [
        "One great thing about python is no need to define any access specifiers or any other technical jargon while creating our own functions. Just use 'def' and be done with it!"
      ],
      "metadata": {
        "id": "srIvr421cij7"
      }
    },
    {
      "cell_type": "code",
      "source": [
        "def hello(to=\"world\"): # default parameter implementation done here\n",
        "    print(\"hello,\", to)\n",
        "hello(\"hagrid\")\n",
        "hello()"
      ],
      "metadata": {
        "colab": {
          "base_uri": "https://localhost:8080/"
        },
        "id": "yyoi-F2CcMOY",
        "outputId": "4e97b080-ccb2-4c15-f4ab-35fe63f0c3b6"
      },
      "execution_count": null,
      "outputs": [
        {
          "output_type": "stream",
          "name": "stdout",
          "text": [
            "hello, hagrid\n",
            "hello, world\n"
          ]
        }
      ]
    },
    {
      "cell_type": "code",
      "source": [
        "# returning values is the same as before\n",
        "def main():\n",
        "    x = int(input(\"What's x? \"))\n",
        "    print(\"x squared is\", square(x))\n",
        "\n",
        "def square(n):\n",
        "    return n * n\n",
        "\n",
        "main()"
      ],
      "metadata": {
        "colab": {
          "base_uri": "https://localhost:8080/"
        },
        "id": "5P-SQ_Cyc9Hh",
        "outputId": "c96933c5-9d28-487f-c14c-d815cf07ca50"
      },
      "execution_count": null,
      "outputs": [
        {
          "output_type": "stream",
          "name": "stdout",
          "text": [
            "What's x? 7\n",
            "x squared is 49\n"
          ]
        }
      ]
    },
    {
      "cell_type": "markdown",
      "source": [
        "**Excerise time**\n",
        "\n",
        "Try to implement the following pattern:\n",
        "\n",
        "A\n",
        "\n",
        "BC\n",
        "\n",
        "DEF\n",
        "\n",
        "GHIJ\n",
        "\n",
        "KLMNO"
      ],
      "metadata": {
        "id": "TcO4hkjWdiF6"
      }
    },
    {
      "cell_type": "code",
      "source": [
        "# write your code here\n",
        "counter = 0\n",
        "for i in range(5):\n",
        "    for j in range(i + 1):\n",
        "        print(chr(65 + counter), end=\"\")\n",
        "        counter += 1\n",
        "    print(\"\\n\")"
      ],
      "metadata": {
        "id": "vR4tO3uLdVWf",
        "colab": {
          "base_uri": "https://localhost:8080/"
        },
        "outputId": "1dbced0e-4c9c-43cd-84a8-fcbfe0093f8d"
      },
      "execution_count": null,
      "outputs": [
        {
          "output_type": "stream",
          "name": "stdout",
          "text": [
            "A\n",
            "\n",
            "BC\n",
            "\n",
            "DEF\n",
            "\n",
            "GHIJ\n",
            "\n",
            "KLMNO\n",
            "\n"
          ]
        }
      ]
    },
    {
      "cell_type": "markdown",
      "source": [
        "## Important inbuilt functions"
      ],
      "metadata": {
        "id": "emAemZC3d9Zf"
      }
    },
    {
      "cell_type": "markdown",
      "source": [
        "Lambda is used to create small, anonymous functions. This is important concept in the functional programming paradigm in python. See this [link](https://realpython.com/python-functional-programming/) if feeling comfortable and curious!"
      ],
      "metadata": {
        "id": "z_-Kf65bfI-C"
      }
    },
    {
      "cell_type": "code",
      "source": [
        "square = lambda x: x ** 2\n",
        "print(square(5))"
      ],
      "metadata": {
        "colab": {
          "base_uri": "https://localhost:8080/"
        },
        "id": "yifn-TUaetaI",
        "outputId": "919e4bf7-c192-477f-c036-6b6f248bf8ac"
      },
      "execution_count": null,
      "outputs": [
        {
          "output_type": "stream",
          "name": "stdout",
          "text": [
            "25\n"
          ]
        }
      ]
    },
    {
      "cell_type": "markdown",
      "source": [
        "Map applies a given function to each item of an iterable, returning a new iterable with the results."
      ],
      "metadata": {
        "id": "a5h9Y48jgsx7"
      }
    },
    {
      "cell_type": "code",
      "source": [
        "numbers = [1, 2, 3, 4, 5]\n",
        "squared_numbers = list(map(lambda x: x ** 2, numbers))\n",
        "print(squared_numbers)"
      ],
      "metadata": {
        "colab": {
          "base_uri": "https://localhost:8080/"
        },
        "id": "mnZm9dpjfg3S",
        "outputId": "c572179e-882c-41e1-ac3f-9b78299a2c25"
      },
      "execution_count": null,
      "outputs": [
        {
          "output_type": "stream",
          "name": "stdout",
          "text": [
            "[1, 4, 9, 16, 25]\n"
          ]
        }
      ]
    },
    {
      "cell_type": "markdown",
      "source": [
        "Filter creates a new iterable with items from the original that satisfy a given condition."
      ],
      "metadata": {
        "id": "qIxBKzkjiRO3"
      }
    },
    {
      "cell_type": "code",
      "source": [
        "even_numbers = list(filter(lambda x: x % 2 == 0, numbers))\n",
        "print(even_numbers)"
      ],
      "metadata": {
        "colab": {
          "base_uri": "https://localhost:8080/"
        },
        "id": "owgE--UGiTjS",
        "outputId": "ecb57b23-d203-416c-d9c1-984134eee1f2"
      },
      "execution_count": null,
      "outputs": [
        {
          "output_type": "stream",
          "name": "stdout",
          "text": [
            "[2, 4]\n"
          ]
        }
      ]
    },
    {
      "cell_type": "markdown",
      "source": [
        "Reduce cumulatively applies a function to the items of an iterable, reducing it to a single value."
      ],
      "metadata": {
        "id": "dThe6F8qiI4g"
      }
    },
    {
      "cell_type": "code",
      "source": [
        "from functools import reduce\n",
        "product = reduce(lambda x, y: x * y, numbers)\n",
        "print(product)"
      ],
      "metadata": {
        "colab": {
          "base_uri": "https://localhost:8080/"
        },
        "id": "uh2J1xr8iLsX",
        "outputId": "a313c0be-2d70-4b92-cfe1-688d0d77b446"
      },
      "execution_count": null,
      "outputs": [
        {
          "output_type": "stream",
          "name": "stdout",
          "text": [
            "120\n"
          ]
        }
      ]
    },
    {
      "cell_type": "markdown",
      "source": [
        "Python's math module provides a comprehensive set of mathematical functions, including:\n",
        "\n",
        "Basic arithmetic: abs(), ceil(), floor(), max(), min(), pow(), round(), sqrt()\n",
        "\n",
        "Trigonometric functions: sin(), cos(), tan(), asin(), acos(), atan(), degrees(), radians()\n",
        "\n",
        "Logarithmic and exponential functions: log(), log10(), exp()\n",
        "\n",
        "Number-theoretic functions: factorial(), gcd(), fmod()"
      ],
      "metadata": {
        "id": "9orkBAciidR5"
      }
    },
    {
      "cell_type": "code",
      "source": [
        "x = -5\n",
        "absolute_value = abs(x)\n",
        "print(absolute_value)"
      ],
      "metadata": {
        "colab": {
          "base_uri": "https://localhost:8080/"
        },
        "id": "b8ARCEsJicwX",
        "outputId": "3a3e5957-e470-40a6-f61b-2827a709d2e0"
      },
      "execution_count": null,
      "outputs": [
        {
          "output_type": "stream",
          "name": "stdout",
          "text": [
            "5\n"
          ]
        }
      ]
    },
    {
      "cell_type": "code",
      "source": [
        "import math\n",
        "number = 3.14159\n",
        "rounded_down = math.floor(number)\n",
        "rounded_up = math.ceil(number)\n",
        "print(rounded_down, rounded_up)\n",
        "x = 24\n",
        "y = 36\n",
        "gcd_value = math.gcd(x, y)\n",
        "print(gcd_value)"
      ],
      "metadata": {
        "colab": {
          "base_uri": "https://localhost:8080/"
        },
        "id": "vPzizSSLjS5Z",
        "outputId": "6b7f9d27-688c-4303-c3a9-fe88c1e85b61"
      },
      "execution_count": null,
      "outputs": [
        {
          "output_type": "stream",
          "name": "stdout",
          "text": [
            "3 4\n",
            "12\n"
          ]
        }
      ]
    },
    {
      "cell_type": "markdown",
      "source": [
        "**Exercise Time**\n",
        "\n",
        "- Define a dictionary for each Avenger containing attributes like name,\n",
        "superpower, strength, intelligence, and speed.\n",
        "- Store these dictionaries in a list.\n",
        "- Use filter or list comprehension to select Avengers based on specific criteria (e.g., strength greater than 4).\n",
        "- Create a new list to represent the assembled team.\n",
        "- Calculate the average strength, intelligence, and speed of the team using reduce.\n",
        "- Find the strongest, smartest, and fastest Avenger on the team.\n",
        "- Create a function that suggests a mission based on the team's overall attributes.\n",
        "- For example, a team with high intelligence might be suggested for a tactical mission."
      ],
      "metadata": {
        "id": "H9B5QQ4MP6sL"
      }
    },
    {
      "cell_type": "code",
      "source": [
        "# write your code here\n",
        "from functools import reduce\n",
        "\n",
        "avengers = [\n",
        "    {\"name\": \"Iron Man\", \"superpower\": \"Tech Suit\", \"strength\": 5, \"intelligence\": 8, \"speed\": 6},\n",
        "    {\"name\": \"Thor\", \"superpower\": \"God of Thunder\", \"strength\": 9, \"intelligence\": 6, \"speed\": 8},\n",
        "    {\"name\": \"Hulk\", \"superpower\": \"Super Strength\", \"strength\": 10, \"intelligence\": 8, \"speed\": 5},\n",
        "    {\"name\": \"Black Widow\", \"superpower\": \"Espionage\", \"strength\": 4, \"intelligence\": 7, \"speed\": 6},\n",
        "    {\"name\": \"Captain America\", \"superpower\": \"Super Soldier\", \"strength\": 7, \"intelligence\": 7, \"speed\": 7}\n",
        "]\n",
        "assembled_team = [avenger for avenger in avengers if avenger[\"intelligence\"] > 6]\n",
        "\n",
        "total_attributes = {\"strength\": 0, \"intelligence\": 0, \"speed\": 0}\n",
        "for avenger in assembled_team:\n",
        "    total_attributes[\"strength\"] += avenger[\"strength\"]\n",
        "    total_attributes[\"intelligence\"] += avenger[\"intelligence\"]\n",
        "    total_attributes[\"speed\"] += avenger[\"speed\"]\n",
        "\n",
        "num_members = len(assembled_team)\n",
        "average_attributes = {key: value / num_members for key, value in total_attributes.items()}\n",
        "strongest_avenger = max(assembled_team, key=lambda avenger: avenger[\"strength\"])\n",
        "smartest_avenger = max(assembled_team, key=lambda avenger: avenger[\"intelligence\"])\n",
        "fastest_avenger = max(assembled_team, key=lambda avenger: avenger[\"speed\"])\n",
        "\n",
        "def suggest_mission(team):\n",
        "    avg_strength = average_attributes[\"strength\"]\n",
        "    avg_intelligence = average_attributes[\"intelligence\"]\n",
        "    avg_speed = average_attributes[\"speed\"]\n",
        "    if avg_intelligence > avg_strength and avg_intelligence > avg_speed:\n",
        "        return \"Suggest a tactical mission.\"\n",
        "    elif avg_strength > avg_intelligence and avg_strength > avg_speed:\n",
        "        return \"Suggest a combat mission.\"\n",
        "    elif avg_speed > avg_intelligence and avg_speed > avg_strength:\n",
        "        return \"Suggest a reconnaissance mission.\"\n",
        "    else:\n",
        "        return \"Suggest a balanced mission.\"\n",
        "\n",
        "print(\"Assembled Team:\")\n",
        "for avenger in assembled_team:\n",
        "    print(avenger[\"name\"])\n",
        "\n",
        "print(\"\\nAverage Attributes:\")\n",
        "print(f\"Strength: {average_attributes['strength']:.2f}\")\n",
        "print(f\"Intelligence: {average_attributes['intelligence']:.2f}\")\n",
        "print(f\"Speed: {average_attributes['speed']:.2f}\")\n",
        "\n",
        "print(\"\\nStrongest Avenger:\", strongest_avenger[\"name\"])\n",
        "print(\"Smartest Avenger:\", smartest_avenger[\"name\"])\n",
        "print(\"Fastest Avenger:\", fastest_avenger[\"name\"])\n",
        "\n",
        "print(\"\\nMission Suggestion:\", suggest_mission(assembled_team))"
      ],
      "metadata": {
        "id": "GzJYdlIIQQ2R",
        "colab": {
          "base_uri": "https://localhost:8080/"
        },
        "outputId": "ef439e88-6527-42be-b5b1-42ba1c2b2d1c"
      },
      "execution_count": null,
      "outputs": [
        {
          "output_type": "stream",
          "name": "stdout",
          "text": [
            "Assembled Team:\n",
            "Iron Man\n",
            "Hulk\n",
            "Black Widow\n",
            "Captain America\n",
            "\n",
            "Average Attributes:\n",
            "Strength: 6.50\n",
            "Intelligence: 7.50\n",
            "Speed: 6.00\n",
            "\n",
            "Strongest Avenger: Hulk\n",
            "Smartest Avenger: Iron Man\n",
            "Fastest Avenger: Captain America\n",
            "\n",
            "Mission Suggestion: Suggest a tactical mission.\n"
          ]
        }
      ]
    },
    {
      "cell_type": "markdown",
      "source": [
        "## Exceptions"
      ],
      "metadata": {
        "id": "Byu7Tzg0QSmI"
      }
    },
    {
      "cell_type": "markdown",
      "source": [
        "Exceptions are things that go wrong within our coding. You can learn more in Python’s documentation of [Errors and Exceptions](https://docs.python.org/3/tutorial/errors.html).\n",
        "\n",
        "\n",
        "In Python try and except are ways of testing out user input before something goes wrong. Try giving 'cat' as input."
      ],
      "metadata": {
        "id": "6sld1ZtrQ2Le"
      }
    },
    {
      "cell_type": "code",
      "source": [
        "try:\n",
        "    x = int(input(\"What's x? \"))\n",
        "    print(f\"x is {x}\")\n",
        "except ValueError:\n",
        "    print(\"x is not an integer\")"
      ],
      "metadata": {
        "colab": {
          "base_uri": "https://localhost:8080/"
        },
        "id": "Oo7fhBMQQfv7",
        "outputId": "b9b22da3-1db3-4ade-9ccd-8c7fbdc8f061"
      },
      "execution_count": null,
      "outputs": [
        {
          "output_type": "stream",
          "name": "stdout",
          "text": [
            "What's x? cat\n",
            "x is not an integer\n"
          ]
        }
      ]
    },
    {
      "cell_type": "markdown",
      "source": [
        "This is still not the best way to implement this code.\n",
        "Notice that we are trying to do two lines of code. For best practice, we should only try the fewest lines of code possible that we are concerned could fail. Adjust your code as follows:"
      ],
      "metadata": {
        "id": "-5rbcYu0RowT"
      }
    },
    {
      "cell_type": "code",
      "source": [
        "try:\n",
        "    x = int(input(\"What's x? \"))\n",
        "except ValueError:\n",
        "    print(\"x is not an integer\")\n",
        "print(f\"x is {x}\")"
      ],
      "metadata": {
        "colab": {
          "base_uri": "https://localhost:8080/"
        },
        "id": "FMa5N9u6RakE",
        "outputId": "d74c4711-d3ea-44f8-fc25-298beb93ea5c"
      },
      "execution_count": null,
      "outputs": [
        {
          "output_type": "stream",
          "name": "stdout",
          "text": [
            "What's x? cat\n",
            "x is not an integer\n",
            "x is 24\n"
          ]
        }
      ]
    },
    {
      "cell_type": "markdown",
      "source": [
        "Notice that while this accomplishes our goal of trying as few lines as possible, we now face a new error! We face a NameError where x is not defined (to _undefine_ x, run `del x`). Look at this code and consider: Why is x not defined in some cases?\n",
        "\n",
        "It turns out that there is another way to implement try that could catch errors of this nature. Adjust your code as follows:"
      ],
      "metadata": {
        "id": "JmmfKqQmVKCG"
      }
    },
    {
      "cell_type": "code",
      "source": [
        "try:\n",
        "    x = int(input(\"What's x?\"))\n",
        "except ValueError:\n",
        "    print(\"x is not an integer\")\n",
        "else:\n",
        "    print(f\"x is {x}\")"
      ],
      "metadata": {
        "colab": {
          "base_uri": "https://localhost:8080/"
        },
        "id": "ooOnY8V2VSMf",
        "outputId": "f4ee74cd-c2bf-41be-e446-31919e4f6984"
      },
      "execution_count": null,
      "outputs": [
        {
          "output_type": "stream",
          "name": "stdout",
          "text": [
            "What's x?cat\n",
            "x is not an integer\n"
          ]
        }
      ]
    },
    {
      "cell_type": "markdown",
      "source": [
        "## Regular Expression"
      ],
      "metadata": {
        "id": "V4loeV3FWKOx"
      }
    },
    {
      "cell_type": "markdown",
      "source": [
        "It turns out that Python has an existing library called re that has a number of built-in functions that can validate user inputs against patterns.\n",
        "One of the most versatile functions within the library re is search.\n",
        "The search library follows the signature re.search(pattern, string, flags=0)."
      ],
      "metadata": {
        "id": "WKeZR_3JWRIm"
      }
    },
    {
      "cell_type": "code",
      "source": [
        "import re\n",
        "\n",
        "email = input(\"What's your email? \").strip()\n",
        "\n",
        "if re.search(\"@\", email):\n",
        "    print(\"Valid\")\n",
        "else:\n",
        "    print(\"Invalid\")"
      ],
      "metadata": {
        "colab": {
          "base_uri": "https://localhost:8080/"
        },
        "id": "QaAVm-Z6WMck",
        "outputId": "b6a229fc-4f98-46e9-e9bf-66e0b1364184"
      },
      "execution_count": null,
      "outputs": [
        {
          "output_type": "stream",
          "name": "stdout",
          "text": [
            "What's your email? username@mail.com\n",
            "Valid\n"
          ]
        }
      ]
    },
    {
      "cell_type": "markdown",
      "source": [
        "We can further our program’s functionality. However, we need to advance our vocabulary around validation. It turns out that in the world of regular expressions there are certain symbols that allow us to identify patterns. At this point, we have only been checking for specific pieces of text like @. It so happens that many special symbols can be passed to the compiler for the purpose of engaging in validation. A non-exhaustive list of those patterns is as follows:\n",
        "\n",
        "\n",
        ".   any character except a new line\n",
        "\n",
        "\\*   0 or more repetitions\n",
        "\n",
        "\\+   1 or more repetitions\n",
        "\n",
        "?   0 or 1 repetition\n",
        "\n",
        "{m} m repetitions\n",
        "\n",
        "{m,n} m-n repetitions"
      ],
      "metadata": {
        "id": "u5cDIP3_WXIC"
      }
    },
    {
      "cell_type": "code",
      "source": [
        "import re\n",
        "\n",
        "email = input(\"What's your email? \").strip()\n",
        "\n",
        "if re.search(r\".+@.+\\.com\", email):\n",
        "    print(\"Valid\")\n",
        "else:\n",
        "    print(\"Invalid\")\n",
        "\n",
        "# Notice how we utilize the “escape character” or \\ as a way of regarding the . as part of our string instead of our validation expression.\n",
        "# Testing your code, you will notice that username@mail.com is regarded as valid, where username@mail?com is invalid."
      ],
      "metadata": {
        "colab": {
          "base_uri": "https://localhost:8080/"
        },
        "id": "OHHfSw9VWWeC",
        "outputId": "0b90229f-cd9c-4304-c2a8-83571c4406a0"
      },
      "execution_count": null,
      "outputs": [
        {
          "output_type": "stream",
          "name": "stdout",
          "text": [
            "What's your email? username@mail.com\n",
            "Valid\n"
          ]
        }
      ]
    },
    {
      "cell_type": "markdown",
      "source": [
        "This is a good time to introduce “raw strings”. In Python, raw strings are strings that don’t format special characters—instead, each character is taken at face-value. Imagine \\n, for example. We’ve seen in an earlier lecture how, in a regular string, these two characters become one: a special newline character. In a raw string, however, \\n is treated not as \\n, the special character, but as a single \\ and a single n. Placing an r in front of a string tells the Python interpreter to treat the string as a raw string, similar to how placing an f in front of a string tells the Python interpreter to treat the string as a format string:"
      ],
      "metadata": {
        "id": "DVBrvD4RXBHD"
      }
    },
    {
      "cell_type": "code",
      "source": [
        "import re\n",
        "\n",
        "email = input(\"What's your email? \").strip()\n",
        "\n",
        "if re.search(r\"^.+@.+\\.com$\", email):\n",
        "    print(\"Valid\")\n",
        "else:\n",
        "    print(\"Invalid\")"
      ],
      "metadata": {
        "colab": {
          "base_uri": "https://localhost:8080/"
        },
        "id": "w0-0zTqiX0TB",
        "outputId": "67579cef-2732-4538-9d57-444132ad4d7e"
      },
      "execution_count": null,
      "outputs": [
        {
          "output_type": "stream",
          "name": "stdout",
          "text": [
            "What's your email? username@mail.com\n",
            "Valid\n"
          ]
        }
      ]
    },
    {
      "cell_type": "markdown",
      "source": [
        "You could type in a sentence such as My email address is malan@harvard.edu. and this whole sentence would be considered valid. We can be even more precise in our coding.\n",
        "It just so happens we have more special symbols at our disposal in validation:\n",
        "\n",
        "^   matches the start of the string\n",
        "\n",
        "$   matches the end of the string or just before the newline at the end of the string"
      ],
      "metadata": {
        "id": "9aMuULBFX_F3"
      }
    },
    {
      "cell_type": "markdown",
      "source": [
        "Recall that within the re.search function, there is a parameter for flags.\n",
        "Some built-in flag variables are:\n",
        "\n",
        "re.IGNORECASE\n",
        "\n",
        "re.MULTILINE\n",
        "\n",
        "re.DOTALL"
      ],
      "metadata": {
        "id": "wTzzyw7tYSn6"
      }
    },
    {
      "cell_type": "code",
      "source": [
        "import re\n",
        "\n",
        "email = input(\"What's your email? \").strip()\n",
        "\n",
        "if re.search(r\"^\\w+@\\w+\\.com$\", email, re.IGNORECASE):\n",
        "    print(\"Valid\")\n",
        "else:\n",
        "    print(\"Invalid\")"
      ],
      "metadata": {
        "colab": {
          "base_uri": "https://localhost:8080/"
        },
        "id": "LxXqtAjtYTde",
        "outputId": "b0daf1f0-4de1-470e-91ee-a8a2837d4165"
      },
      "execution_count": null,
      "outputs": [
        {
          "output_type": "stream",
          "name": "stdout",
          "text": [
            "What's your email? username@mail.com\n",
            "Valid\n"
          ]
        }
      ]
    },
    {
      "cell_type": "markdown",
      "source": [
        "For a quick guide to Regex, refer [this](https://support.google.com/a/answer/1371415)."
      ],
      "metadata": {
        "id": "yEEulZla-X71"
      }
    },
    {
      "cell_type": "markdown",
      "source": [
        "## OOPS"
      ],
      "metadata": {
        "id": "xgZNB4SSYhyN"
      }
    },
    {
      "cell_type": "markdown",
      "source": [
        "Classes are a way by which, in object-oriented programming, we can create our own type of data and give them names.\n",
        "\n",
        "A class is like a mold for a type of data – where we can invent our own data type and give them a name."
      ],
      "metadata": {
        "id": "1_THo49Cn7Mr"
      }
    },
    {
      "cell_type": "code",
      "source": [
        "class Student:\n",
        "    ...\n",
        "\n",
        "\n",
        "def main():\n",
        "    student = get_student()\n",
        "    print(f\"{student.name} from {student.house}\")\n",
        "\n",
        "\n",
        "def get_student():\n",
        "    student = Student()\n",
        "    student.name = input(\"Name: \")\n",
        "    student.house = input(\"House: \")\n",
        "    return student\n",
        "\n",
        "\n",
        "if __name__ == \"__main__\": # this allows you to import this file to other files without causing it's code to run unintended\n",
        "    main()"
      ],
      "metadata": {
        "colab": {
          "base_uri": "https://localhost:8080/"
        },
        "id": "Ff3IloRVn9BD",
        "outputId": "eb59d79c-6b6c-4f3a-80ec-a4d0685678e3"
      },
      "execution_count": null,
      "outputs": [
        {
          "output_type": "stream",
          "name": "stdout",
          "text": [
            "Name: Cedric Diggory\n",
            "House: Hufflepuff\n",
            "Cedric Diggory from Hufflepuff\n"
          ]
        }
      ]
    },
    {
      "cell_type": "markdown",
      "source": [
        "Notice by convention that Student is capitalized. Further, notice the ... simply means that we will later return to finish that portion of our code. Further, notice that in get_student, we can create a student of class Student using the syntax student = Student(). Further, notice that we utilize “dot notation” to access attributes of this variable student of class Student.\n",
        "\n",
        "Any time you create a class and you utilize that blueprint to create something, you create what is called an “object” or an “instance”. In the case of our code, student is an object."
      ],
      "metadata": {
        "id": "UNpbWKbaoJSI"
      }
    },
    {
      "cell_type": "code",
      "source": [
        "class Student:\n",
        "    def __init__(self, name, house):\n",
        "        self.name = name\n",
        "        self.house = house\n",
        "\n",
        "\n",
        "def main():\n",
        "    student = get_student()\n",
        "    print(f\"{student.name} from {student.house}\")\n",
        "\n",
        "\n",
        "def get_student():\n",
        "    name = input(\"Name: \")\n",
        "    house = input(\"House: \")\n",
        "    return Student(name, house)\n",
        "\n",
        "\n",
        "if __name__ == \"__main__\":\n",
        "    main()"
      ],
      "metadata": {
        "colab": {
          "base_uri": "https://localhost:8080/"
        },
        "id": "Bm4O0rQ5pBr9",
        "outputId": "6740989f-2127-46a5-9bc1-a5d1549bdb36"
      },
      "execution_count": null,
      "outputs": [
        {
          "output_type": "stream",
          "name": "stdout",
          "text": [
            "Name: Luna Lovegood\n",
            "House: Ravenclaw\n",
            "Luna Lovegood from Ravenclaw\n"
          ]
        }
      ]
    },
    {
      "cell_type": "markdown",
      "source": [
        "Notice that within Student, we standardize the attributes of this class. We can create a function within class Student, called a “method”, that determines the behavior of an object of class Student. Within this function, it takes the name and house passed to it and assigns these variables to this object. Further, notice how the constructor student = Student(name, house) calls this function within the Student class and creates a student. self refers to the current object that was just created.\n",
        "\n",
        "You can learn more in Python’s documentation of [classes](https://docs.python.org/3/tutorial/classes.html)."
      ],
      "metadata": {
        "id": "xZ-srXKspQud"
      }
    },
    {
      "cell_type": "markdown",
      "source": [
        "Object-oriented program encourages you to encapusulate all the functionality of a class within the class definition. What if something goes wrong? What if someone tries to type in something random? What if someone tries to create a student without a name?"
      ],
      "metadata": {
        "id": "22Son9xTplFZ"
      }
    },
    {
      "cell_type": "code",
      "source": [
        "class Student:\n",
        "    def __init__(self, name, house):\n",
        "        if not name:\n",
        "            raise ValueError(\"Missing name\")\n",
        "        if house not in [\"Gryffindor\", \"Hufflepuff\", \"Ravenclaw\", \"Slytherin\"]:\n",
        "            raise ValueError(\"Invalid house\")\n",
        "        self.name = name\n",
        "        self.house = house\n",
        "\n",
        "\n",
        "def main():\n",
        "    student = get_student()\n",
        "    print(f\"{student.name} from {student.house}\")\n",
        "\n",
        "\n",
        "def get_student():\n",
        "    name = input(\"Name: \")\n",
        "    house = input(\"House: \")\n",
        "    return Student(name, house)\n",
        "\n",
        "\n",
        "if __name__ == \"__main__\":\n",
        "    main()"
      ],
      "metadata": {
        "colab": {
          "base_uri": "https://localhost:8080/"
        },
        "id": "j-UdbU9rpn-S",
        "outputId": "a5eaa2f0-f792-4d7c-9bdc-af31b480e334"
      },
      "execution_count": null,
      "outputs": [
        {
          "output_type": "stream",
          "name": "stdout",
          "text": [
            "Name: Tom Riddle\n",
            "House: Slytherin\n",
            "Tom Riddle from Slytherin\n"
          ]
        }
      ]
    },
    {
      "cell_type": "markdown",
      "source": [
        "Notice how we check now that a name is provided and a proper house is designated. It turns out we can create our own exceptions that alerts the programmer to a potential error created by the user called raise. In the case above, we raise ValueError with a specific error message.\n",
        "\n",
        "It just so happens that Python allows you to create a specific function by which you can print the attributes of an object. Notice how def __str__(self) provides a means by which a student is returned when called. Therefore, you can now, as the programmer, print an object, its attributes, or almost anything you desire related to that object.\n",
        "\n",
        "\\__str__ is a built-in method that comes with Python classes. It just so happens that we can create our own methods for a class as well!"
      ],
      "metadata": {
        "id": "UVS2gV_mpxcC"
      }
    },
    {
      "cell_type": "code",
      "source": [
        "class Student:\n",
        "    def __init__(self, name, house, patronus=None):\n",
        "        if not name:\n",
        "            raise ValueError(\"Missing name\")\n",
        "        if house not in [\"Gryffindor\", \"Hufflepuff\", \"Ravenclaw\", \"Slytherin\"]:\n",
        "            raise ValueError(\"Invalid house\")\n",
        "        if patronus and patronus not in [\"Stag\", \"Otter\", \"Jack Russell terrier\"]:\n",
        "            raise ValueError(\"Invalid patronus\")\n",
        "        self.name = name\n",
        "        self.house = house\n",
        "        self.patronus = patronus\n",
        "\n",
        "    def __str__(self):\n",
        "        return f\"{self.name} from {self.house}\"\n",
        "\n",
        "    def charm(self):\n",
        "        match self.patronus:\n",
        "            case \"Stag\":\n",
        "                return \"🐴\"\n",
        "            case \"Otter\":\n",
        "                return \"🦦\"\n",
        "            case \"Jack Russell terrier\":\n",
        "                return \"🐶\"\n",
        "            case _:\n",
        "                return \"🪄\"\n",
        "\n",
        "\n",
        "def main():\n",
        "    student = get_student()\n",
        "    print(\"Expecto Patronum!\")\n",
        "    print(student.charm())\n",
        "\n",
        "\n",
        "def get_student():\n",
        "    name = input(\"Name: \")\n",
        "    house = input(\"House: \")\n",
        "    patronus = input(\"Patronus: \") or None\n",
        "    return Student(name, house, patronus)\n",
        "\n",
        "\n",
        "if __name__ == \"__main__\":\n",
        "    main()"
      ],
      "metadata": {
        "colab": {
          "base_uri": "https://localhost:8080/"
        },
        "id": "W9Rbq_VKp8Lc",
        "outputId": "2479333b-0589-4fa8-9ccf-859224acc5cf"
      },
      "execution_count": null,
      "outputs": [
        {
          "output_type": "stream",
          "name": "stdout",
          "text": [
            "Name: Ron Weasley\n",
            "House: Gryffindor\n",
            "Patronus: Jack Russell terrier\n",
            "Expecto Patronum!\n",
            "🐶\n"
          ]
        }
      ]
    },
    {
      "cell_type": "markdown",
      "source": [
        "## Decorators and Class Methods"
      ],
      "metadata": {
        "id": "7-k9bnedqHGU"
      }
    },
    {
      "cell_type": "markdown",
      "source": [
        "Properties can be utilized to harden our code. In Python, we define properties using function “decorators”, which begin with @"
      ],
      "metadata": {
        "id": "vVKiITvIqPVa"
      }
    },
    {
      "cell_type": "code",
      "source": [
        "class Student:\n",
        "    def __init__(self, name, house):\n",
        "        self.name = name\n",
        "        self.house = house\n",
        "\n",
        "    def __str__(self):\n",
        "        return f\"{self.name} from {self.house}\"\n",
        "\n",
        "    # Getter for name\n",
        "    @property\n",
        "    def name(self):\n",
        "        return self._name\n",
        "\n",
        "    # Setter for name\n",
        "    @name.setter\n",
        "    def name(self, name):\n",
        "        if not name:\n",
        "            raise ValueError(\"Invalid name\")\n",
        "        self._name = name\n",
        "\n",
        "    @property\n",
        "    def house(self):\n",
        "        return self._house\n",
        "\n",
        "    @house.setter\n",
        "    def house(self, house):\n",
        "        if house not in [\"Gryffindor\", \"Hufflepuff\", \"Ravenclaw\", \"Slytherin\"]:\n",
        "            raise ValueError(\"Invalid house\")\n",
        "        self._house = house\n",
        "\n",
        "\n",
        "def main():\n",
        "    student = get_student()\n",
        "    print(student)\n",
        "\n",
        "\n",
        "def get_student():\n",
        "    name = input(\"Name: \")\n",
        "    house = input(\"House: \")\n",
        "    return Student(name, house)\n",
        "\n",
        "\n",
        "if __name__ == \"__main__\":\n",
        "    main()"
      ],
      "metadata": {
        "colab": {
          "base_uri": "https://localhost:8080/"
        },
        "id": "BC6ZsSHxqJqf",
        "outputId": "76bfcdb8-52f2-42c5-9311-514629b1d6f8"
      },
      "execution_count": null,
      "outputs": [
        {
          "output_type": "stream",
          "name": "stdout",
          "text": [
            "Name: Albus Dumbledore\n",
            "House: Gryffindor\n",
            "Albus Dumbledore from Gryffindor\n"
          ]
        }
      ]
    },
    {
      "cell_type": "markdown",
      "source": [
        "Notice how we’ve written @property above a function called house. Doing so defines house as a property of our class. With house as a property, we gain the ability to define how some attribute of our class, _house, should be set and retrieved. Indeed, we can now define a function called a “setter”, via @house.setter, which will be called whenever the house property is set—for example, with student.house = \"Gryffindor\". Here, we’ve made our setter validate values of house for us. Notice how we raise a ValueError if the value of house is not any of the Harry Potter houses, otherwise, we’ll use house to update the value of _house. Why _house and not house? house is a property of our class, with functions via which a user attempts to set our class attribute. _house is that class attribute itself. The leading underscore, _, indicates to users they need not (and indeed, shouldn’t!) modify this value directly. _house should only be set through the house setter. Notice how the house property simply returns that value of _house, our class attribute that has presumably been validated using our house setter. When a user calls student.house, they’re getting the value of _house through our house “getter”."
      ],
      "metadata": {
        "id": "raNzzu4TqRiQ"
      }
    },
    {
      "cell_type": "markdown",
      "source": [
        "Sometimes, we want to add functionality to a class itself, not to instances of that class.\n",
        "@classmethod is a function that we can use to add functionality to a class as a whole.\n",
        "Here’s an example of _not_ using a class method."
      ],
      "metadata": {
        "id": "HYcwFUMnqi-w"
      }
    },
    {
      "cell_type": "code",
      "source": [
        "import random\n",
        "\n",
        "\n",
        "class Hat:\n",
        "    def __init__(self):\n",
        "        self.houses = [\"Gryffindor\", \"Hufflepuff\", \"Ravenclaw\", \"Slytherin\"]\n",
        "\n",
        "    def sort(self, name):\n",
        "        print(name, \"is in\", random.choice(self.houses))\n",
        "\n",
        "\n",
        "hat = Hat()\n",
        "hat.sort(\"Harry\")"
      ],
      "metadata": {
        "colab": {
          "base_uri": "https://localhost:8080/"
        },
        "id": "sUY5Gn-jqqdU",
        "outputId": "66579739-5f83-422b-a19e-7ae0ea3ecf7c"
      },
      "execution_count": null,
      "outputs": [
        {
          "output_type": "stream",
          "name": "stdout",
          "text": [
            "Harry is in Hufflepuff\n"
          ]
        }
      ]
    },
    {
      "cell_type": "markdown",
      "source": [
        "Notice how when we pass the name of the student to the sorting hat, it will tell us what house is assigned to the student. Notice that hat = Hat() instantiates a hat. The sort functionality is always handled by the instance of the class Hat. By executing hat.sort(\"Harry\"), we pass the name of the student to the sort method of the particular instance of Hat, which we’ve called hat.\n",
        "\n",
        "We may want, though, to run the sort function without creating a particular instance of the sorting hat (there’s only one, after all!). We can modify our code as follows:"
      ],
      "metadata": {
        "id": "z02F8u5fqyfs"
      }
    },
    {
      "cell_type": "code",
      "source": [
        "import random\n",
        "\n",
        "\n",
        "class Hat:\n",
        "\n",
        "    houses = [\"Gryffindor\", \"Hufflepuff\", \"Ravenclaw\", \"Slytherin\"]\n",
        "\n",
        "    @classmethod\n",
        "    def sort(cls, name):\n",
        "        print(name, \"is in\", random.choice(cls.houses))\n",
        "\n",
        "\n",
        "Hat.sort(\"Harry\")"
      ],
      "metadata": {
        "colab": {
          "base_uri": "https://localhost:8080/"
        },
        "id": "4bQbH1IDqzId",
        "outputId": "d96981f0-42fe-432c-d95c-1a6f75aa46c8"
      },
      "execution_count": null,
      "outputs": [
        {
          "output_type": "stream",
          "name": "stdout",
          "text": [
            "Harry is in Gryffindor\n"
          ]
        }
      ]
    },
    {
      "cell_type": "markdown",
      "source": [
        "Notice how the __init__ method is removed because we don’t need to instantiate a hat anywhere in our code. self, therefore, is no longer relevant and is removed. We specify this sort as a @classmethod, replacing self with cls. Finally, notice how Hat is capitalized by convention near the end of this code, because this is the name of our class."
      ],
      "metadata": {
        "id": "iWB9mSc4q1lk"
      }
    },
    {
      "cell_type": "markdown",
      "source": [
        "Returning back to our previous code we can modify our code as follows, addressing some missed opportunities related to @classmethods"
      ],
      "metadata": {
        "id": "vvoJNKAGq72q"
      }
    },
    {
      "cell_type": "code",
      "source": [
        "class Student:\n",
        "    def __init__(self, name, house):\n",
        "        self.name = name\n",
        "        self.house = house\n",
        "\n",
        "    def __str__(self):\n",
        "        return f\"{self.name} from {self.house}\"\n",
        "\n",
        "    @classmethod\n",
        "    def get(cls):\n",
        "        name = input(\"Name: \")\n",
        "        house = input(\"House: \")\n",
        "        return cls(name, house)\n",
        "\n",
        "\n",
        "def main():\n",
        "    student = Student.get()\n",
        "    print(student)\n",
        "\n",
        "\n",
        "if __name__ == \"__main__\":\n",
        "    main()"
      ],
      "metadata": {
        "colab": {
          "base_uri": "https://localhost:8080/"
        },
        "id": "-v5eCpRaq-W1",
        "outputId": "c9a06a52-4913-4c6e-89c7-904f87471e14"
      },
      "execution_count": null,
      "outputs": [
        {
          "output_type": "stream",
          "name": "stdout",
          "text": [
            "Name: Harry Potter\n",
            "House: Gryffindor\n",
            "Harry Potter from Gryffindor\n"
          ]
        }
      ]
    },
    {
      "cell_type": "markdown",
      "source": [
        "## Inheritance"
      ],
      "metadata": {
        "id": "8x-2SzhkrCFL"
      }
    },
    {
      "cell_type": "markdown",
      "source": [
        "Inheritance is, perhaps, the most powerful feature of object-oriented programming.\n",
        "\n",
        "It just so happens that you can create a class that “inherits” methods, variables, and attributes from another class."
      ],
      "metadata": {
        "id": "ewHrxMOfrEgb"
      }
    },
    {
      "cell_type": "code",
      "source": [
        "class Wizard:\n",
        "    def __init__(self, name):\n",
        "        if not name:\n",
        "            raise ValueError(\"Missing name\")\n",
        "        self.name = name\n",
        "\n",
        "    ...\n",
        "\n",
        "\n",
        "class Student(Wizard):\n",
        "    def __init__(self, name, house):\n",
        "        super().__init__(name)\n",
        "        self.house = house\n",
        "\n",
        "    ...\n",
        "\n",
        "\n",
        "class Professor(Wizard):\n",
        "    def __init__(self, name, subject):\n",
        "        super().__init__(name)\n",
        "        self.subject = subject\n",
        "\n",
        "    ...\n",
        "\n",
        "\n",
        "wizard = Wizard(\"Albus\")\n",
        "student = Student(\"Harry\", \"Gryffindor\")\n",
        "professor = Professor(\"Severus\", \"Defense Against the Dark Arts\")\n",
        "..."
      ],
      "metadata": {
        "colab": {
          "base_uri": "https://localhost:8080/"
        },
        "id": "ZjaLFOEGrDlK",
        "outputId": "aa3924df-8485-4d71-eaf0-41884284dd30"
      },
      "execution_count": null,
      "outputs": [
        {
          "output_type": "execute_result",
          "data": {
            "text/plain": [
              "Ellipsis"
            ]
          },
          "metadata": {},
          "execution_count": 70
        }
      ]
    },
    {
      "cell_type": "markdown",
      "source": [
        "Notice that there is a class above called Wizard and a class called Student. Further, notice that there is a class called Professor. Both students and professors have names. Also, both students and professors are wizards. Therefore, both Student and Professor inherit the characteristics of Wizard. Within the “child” class Student, Student can inherit from the “parent” or “super” class Wizard as the line super().__init__(name) runs the init method of Wizard. Finally, notice that the last lines of this code create a wizard called Albus, a student called Harry, and so on"
      ],
      "metadata": {
        "id": "_XJZ6WxsrLXw"
      }
    },
    {
      "cell_type": "markdown",
      "source": [
        "While we have just introduced inheritance, we have been using this all along during our use of exceptions.\n",
        "It just so happens that exceptions come in a heirarchy, where there are children, parent, and grandparent classes. These are illustrated below:\n",
        "\n",
        "-- BaseException\n",
        "\n",
        "-- KeyboardInterrupt\n",
        "\n",
        "-- Exception\n",
        "\n",
        "-- ArithmeticError\n",
        "\n",
        "-- ZeroDivisionError\n",
        "\n",
        "-- AssertionError\n",
        "\n",
        "-- AttributeError\n",
        "\n",
        "-- EOFError\n",
        "\n",
        "-- ImportError\n",
        "\n",
        "-- ModuleNotFoundError\n",
        "\n",
        "-- LookupError\n",
        "\n",
        "-- KeyError\n",
        "\n",
        "-- NameError\n",
        "\n",
        "-- SyntaxError\n",
        "\n",
        "-- IndentationError\n",
        "\n",
        "-- ValueError\n",
        "\n",
        "You can learn more in Python’s documentation of [exceptions](https://docs.python.org/3/library/exceptions.html)."
      ],
      "metadata": {
        "id": "SK073-GHrQi-"
      }
    },
    {
      "cell_type": "markdown",
      "source": [
        "## Operator Overloading"
      ],
      "metadata": {
        "id": "EKuCsISAsHvZ"
      }
    },
    {
      "cell_type": "markdown",
      "source": [
        "Some operators such as + and - can be “overloaded” such that they can have more abilities beyond simple arithmetic."
      ],
      "metadata": {
        "id": "Aqb074RMseqH"
      }
    },
    {
      "cell_type": "code",
      "source": [
        "class Vault:\n",
        "    def __init__(self, galleons=0, sickles=0, knuts=0):\n",
        "        self.galleons = galleons\n",
        "        self.sickles = sickles\n",
        "        self.knuts = knuts\n",
        "\n",
        "    def __str__(self):\n",
        "        return f\"{self.galleons} Galleons, {self.sickles} Sickles, {self.knuts} Knuts\"\n",
        "\n",
        "    def __add__(self, other):\n",
        "        galleons = self.galleons + other.galleons\n",
        "        sickles = self.sickles + other.sickles\n",
        "        knuts = self.knuts + other.knuts\n",
        "        return Vault(galleons, sickles, knuts)\n",
        "\n",
        "\n",
        "potter = Vault(100, 50, 25)\n",
        "print(potter)\n",
        "\n",
        "weasley = Vault(25, 50, 100)\n",
        "print(weasley)\n",
        "\n",
        "total = potter + weasley\n",
        "print(total)"
      ],
      "metadata": {
        "colab": {
          "base_uri": "https://localhost:8080/"
        },
        "id": "aMo7jm0dshPb",
        "outputId": "77fe0de2-dbe6-45f4-f68b-8eb8c94c8306"
      },
      "execution_count": null,
      "outputs": [
        {
          "output_type": "stream",
          "name": "stdout",
          "text": [
            "100 Galleons, 50 Sickles, 25 Knuts\n",
            "25 Galleons, 50 Sickles, 100 Knuts\n",
            "125 Galleons, 100 Sickles, 125 Knuts\n"
          ]
        }
      ]
    },
    {
      "cell_type": "markdown",
      "source": [
        "Notice how the __str__ method returns a formatted string. Further, notice how the __add__ method allows for the addition of the values of two vaults. self is what is on the left of the + operand. other is what is right of the +.\n",
        "\n",
        "You can learn more in Python’s documentation of [operator overloading](https://docs.python.org/3/reference/datamodel.html#special-method-names)."
      ],
      "metadata": {
        "id": "0xApFHuqsk4O"
      }
    },
    {
      "cell_type": "markdown",
      "source": [
        "## NumPy"
      ],
      "metadata": {
        "id": "_53ei20_veSA"
      }
    },
    {
      "cell_type": "markdown",
      "source": [
        "### Introduction"
      ],
      "metadata": {
        "id": "tUlP1Kv3xyIe"
      }
    },
    {
      "cell_type": "markdown",
      "source": [
        "NumPy is a popular library for storing arrays of numbers and performing computations on them. Not only this enables to write often more succint code, this also makes the code faster, since most NumPy routines are implemented in C for speed.\n",
        "\n",
        "To use NumPy in your program, you need to import it as follows"
      ],
      "metadata": {
        "id": "QegB5wZrwdNF"
      }
    },
    {
      "cell_type": "code",
      "source": [
        "import numpy as np"
      ],
      "metadata": {
        "id": "rTBQSBnIvjFx"
      },
      "execution_count": null,
      "outputs": []
    },
    {
      "cell_type": "markdown",
      "source": [
        "NumPy arrays can be created from Python lists"
      ],
      "metadata": {
        "id": "2iV7B3OvwfhW"
      }
    },
    {
      "cell_type": "code",
      "source": [
        "my_array = np.array([1, 2, 3])\n",
        "my_array"
      ],
      "metadata": {
        "colab": {
          "base_uri": "https://localhost:8080/"
        },
        "id": "2D7waRnkwh0e",
        "outputId": "0e0e21bd-c2c2-4c8d-8f10-995ecefbeab7"
      },
      "execution_count": null,
      "outputs": [
        {
          "output_type": "execute_result",
          "data": {
            "text/plain": [
              "array([1, 2, 3])"
            ]
          },
          "metadata": {},
          "execution_count": 73
        }
      ]
    },
    {
      "cell_type": "markdown",
      "metadata": {
        "id": "Sy2EvrxFriAG"
      },
      "source": [
        "NumPy supports array of arbitrary dimension. For example, we can create two-dimensional arrays (e.g. to store a matrix) as follows"
      ]
    },
    {
      "cell_type": "code",
      "metadata": {
        "id": "wM-GYVMsrzNs",
        "colab": {
          "base_uri": "https://localhost:8080/"
        },
        "outputId": "e6fb31ea-c164-4f49-e557-4bb4157f05b4"
      },
      "source": [
        "my_2d_array = np.array([[1, 2, 3], [4, 5, 6]])\n",
        "my_2d_array"
      ],
      "execution_count": null,
      "outputs": [
        {
          "output_type": "execute_result",
          "data": {
            "text/plain": [
              "array([[1, 2, 3],\n",
              "       [4, 5, 6]])"
            ]
          },
          "metadata": {},
          "execution_count": 74
        }
      ]
    },
    {
      "cell_type": "markdown",
      "metadata": {
        "id": "-kZMzYsAsVAc"
      },
      "source": [
        "We can access individual elements of a 2d-array using two indices"
      ]
    },
    {
      "cell_type": "code",
      "metadata": {
        "id": "4q8X86BbscPd",
        "colab": {
          "base_uri": "https://localhost:8080/"
        },
        "outputId": "77fda8da-a0f7-4709-dc16-ea77c392c177"
      },
      "source": [
        "my_2d_array[1, 2]"
      ],
      "execution_count": null,
      "outputs": [
        {
          "output_type": "execute_result",
          "data": {
            "text/plain": [
              "6"
            ]
          },
          "metadata": {},
          "execution_count": 75
        }
      ]
    },
    {
      "cell_type": "markdown",
      "metadata": {
        "id": "OfVIKyxkTh0p"
      },
      "source": [
        "We can also access rows"
      ]
    },
    {
      "cell_type": "code",
      "metadata": {
        "id": "CrKnDAtyTlYe",
        "colab": {
          "base_uri": "https://localhost:8080/"
        },
        "outputId": "a7d960cf-5118-4723-fdcf-82a6bda0e0b3"
      },
      "source": [
        "my_2d_array[1]"
      ],
      "execution_count": null,
      "outputs": [
        {
          "output_type": "execute_result",
          "data": {
            "text/plain": [
              "array([4, 5, 6])"
            ]
          },
          "metadata": {},
          "execution_count": 76
        }
      ]
    },
    {
      "cell_type": "markdown",
      "metadata": {
        "id": "hskLBCp9ToCG"
      },
      "source": [
        "and columns"
      ]
    },
    {
      "cell_type": "code",
      "metadata": {
        "id": "MOOFsLHhTozX",
        "colab": {
          "base_uri": "https://localhost:8080/"
        },
        "outputId": "b14ebc6a-d1bd-47b2-931f-c68f66f6a03b"
      },
      "source": [
        "my_2d_array[:, 2]"
      ],
      "execution_count": null,
      "outputs": [
        {
          "output_type": "execute_result",
          "data": {
            "text/plain": [
              "array([3, 6])"
            ]
          },
          "metadata": {},
          "execution_count": 77
        }
      ]
    },
    {
      "cell_type": "markdown",
      "metadata": {
        "id": "keWK_5PHr9Q2"
      },
      "source": [
        "Arrays have a `shape` attribute"
      ]
    },
    {
      "cell_type": "code",
      "metadata": {
        "id": "5QIo7l1Yr8m7",
        "colab": {
          "base_uri": "https://localhost:8080/"
        },
        "outputId": "352dc9c9-39aa-4022-b78c-cf37f0204936"
      },
      "source": [
        "print(my_array.shape)\n",
        "print(my_2d_array.shape)"
      ],
      "execution_count": null,
      "outputs": [
        {
          "output_type": "stream",
          "name": "stdout",
          "text": [
            "(3,)\n",
            "(2, 3)\n"
          ]
        }
      ]
    },
    {
      "cell_type": "markdown",
      "metadata": {
        "id": "LmX0EDWVsoDY"
      },
      "source": [
        "Contrary to Python lists, NumPy arrays must have a type and all elements of the array must have the same type."
      ]
    },
    {
      "cell_type": "code",
      "metadata": {
        "id": "FZjOowkls57o",
        "colab": {
          "base_uri": "https://localhost:8080/"
        },
        "outputId": "c3187314-a432-4b78-eb92-414cd5b5fcfa"
      },
      "source": [
        "my_array.dtype"
      ],
      "execution_count": null,
      "outputs": [
        {
          "output_type": "execute_result",
          "data": {
            "text/plain": [
              "dtype('int64')"
            ]
          },
          "metadata": {},
          "execution_count": 79
        }
      ]
    },
    {
      "cell_type": "markdown",
      "metadata": {
        "id": "i5AvLdf7tGnZ"
      },
      "source": [
        "The main types are `int32` (32-bit integers), `int64` (64-bit integers), `float32` (32-bit real values) and `float64` (64-bit real values)."
      ]
    },
    {
      "cell_type": "markdown",
      "metadata": {
        "id": "w8ym2qZCt9Nm"
      },
      "source": [
        "The `dtype` can be specified when creating the array"
      ]
    },
    {
      "cell_type": "code",
      "metadata": {
        "id": "gXpM_FqruCVv",
        "colab": {
          "base_uri": "https://localhost:8080/"
        },
        "outputId": "42827518-0bd7-4977-aca4-bba112f967ca"
      },
      "source": [
        "my_array = np.array([1, 2, 3], dtype=np.float64)\n",
        "my_array.dtype"
      ],
      "execution_count": null,
      "outputs": [
        {
          "output_type": "execute_result",
          "data": {
            "text/plain": [
              "dtype('float64')"
            ]
          },
          "metadata": {},
          "execution_count": 80
        }
      ]
    },
    {
      "cell_type": "markdown",
      "metadata": {
        "id": "WueaRIONuTdS"
      },
      "source": [
        "We can create arrays of all zeros using"
      ]
    },
    {
      "cell_type": "code",
      "metadata": {
        "id": "jbD8N1UauK8r",
        "colab": {
          "base_uri": "https://localhost:8080/"
        },
        "outputId": "301cf7ee-b502-493c-9e9a-ae1c94f42f66"
      },
      "source": [
        "zero_array = np.zeros((2, 3))\n",
        "zero_array"
      ],
      "execution_count": null,
      "outputs": [
        {
          "output_type": "execute_result",
          "data": {
            "text/plain": [
              "array([[0., 0., 0.],\n",
              "       [0., 0., 0.]])"
            ]
          },
          "metadata": {},
          "execution_count": 81
        }
      ]
    },
    {
      "cell_type": "markdown",
      "metadata": {
        "id": "vn5go6qoudo4"
      },
      "source": [
        "and similarly for all ones using `ones` instead of `zeros`."
      ]
    },
    {
      "cell_type": "markdown",
      "metadata": {
        "id": "1kCRlhLJuvZ6"
      },
      "source": [
        "We can create a range of values using"
      ]
    },
    {
      "cell_type": "code",
      "metadata": {
        "id": "EcQXDeEmuxpO",
        "colab": {
          "base_uri": "https://localhost:8080/"
        },
        "outputId": "28cc9a92-c94e-44e2-cc43-5606f08788cb"
      },
      "source": [
        "np.arange(5)"
      ],
      "execution_count": null,
      "outputs": [
        {
          "output_type": "execute_result",
          "data": {
            "text/plain": [
              "array([0, 1, 2, 3, 4])"
            ]
          },
          "metadata": {},
          "execution_count": 82
        }
      ]
    },
    {
      "cell_type": "markdown",
      "metadata": {
        "id": "ZvJECk6Iu3uF"
      },
      "source": [
        "or specifying the starting point"
      ]
    },
    {
      "cell_type": "code",
      "metadata": {
        "id": "Pk3UzL3du_f8",
        "colab": {
          "base_uri": "https://localhost:8080/"
        },
        "outputId": "ad15a3ba-7d9a-4df3-f000-d55bbeae8c31"
      },
      "source": [
        "np.arange(3, 5)"
      ],
      "execution_count": null,
      "outputs": [
        {
          "output_type": "execute_result",
          "data": {
            "text/plain": [
              "array([3, 4])"
            ]
          },
          "metadata": {},
          "execution_count": 83
        }
      ]
    },
    {
      "cell_type": "markdown",
      "metadata": {
        "id": "f1JtqFSivJKG"
      },
      "source": [
        "Another useful routine is `linspace` for creating linearly spaced values in an interval. For instance, to create 10 values in `[0, 1]`, we can use"
      ]
    },
    {
      "cell_type": "code",
      "metadata": {
        "id": "udHHjGAHvOQM",
        "colab": {
          "base_uri": "https://localhost:8080/"
        },
        "outputId": "ddea96f5-9b89-47f2-93b5-b6ab402b4282"
      },
      "source": [
        "np.linspace(0, 1, 10)"
      ],
      "execution_count": null,
      "outputs": [
        {
          "output_type": "execute_result",
          "data": {
            "text/plain": [
              "array([0.        , 0.11111111, 0.22222222, 0.33333333, 0.44444444,\n",
              "       0.55555556, 0.66666667, 0.77777778, 0.88888889, 1.        ])"
            ]
          },
          "metadata": {},
          "execution_count": 84
        }
      ]
    },
    {
      "cell_type": "markdown",
      "metadata": {
        "id": "WbcxAKobvgUT"
      },
      "source": [
        "Another important operation is `reshape`, for changing the shape of an array"
      ]
    },
    {
      "cell_type": "code",
      "metadata": {
        "id": "4FPzTuDlvlLO",
        "colab": {
          "base_uri": "https://localhost:8080/"
        },
        "outputId": "263adb8e-e3e3-4a13-b6ef-8aff0065a3bb"
      },
      "source": [
        "my_array = np.array([1, 2, 3, 4, 5, 6])\n",
        "my_array.reshape(3, 2)"
      ],
      "execution_count": null,
      "outputs": [
        {
          "output_type": "execute_result",
          "data": {
            "text/plain": [
              "array([[1, 2],\n",
              "       [3, 4],\n",
              "       [5, 6]])"
            ]
          },
          "metadata": {},
          "execution_count": 85
        }
      ]
    },
    {
      "cell_type": "markdown",
      "metadata": {
        "id": "f9B0iCBlmfeY"
      },
      "source": [
        "### Basic operations"
      ]
    },
    {
      "cell_type": "markdown",
      "metadata": {
        "id": "elQGgkqDxKLV"
      },
      "source": [
        "In NumPy, we express computations directly over arrays. This makes the code much more succint."
      ]
    },
    {
      "cell_type": "markdown",
      "metadata": {
        "id": "hkCU1T8ixghX"
      },
      "source": [
        "Arithmetic operations can be performed directly over arrays. For instance, assuming two arrays have a compatible shape, we can add them as follows"
      ]
    },
    {
      "cell_type": "code",
      "metadata": {
        "id": "4AoiRq42x5mI",
        "colab": {
          "base_uri": "https://localhost:8080/"
        },
        "outputId": "3afbc353-75e5-4411-c9bd-b11ac0f169fe"
      },
      "source": [
        "array_a = np.array([1, 2, 3])\n",
        "array_b = np.array([4, 5, 6])\n",
        "array_a + array_b"
      ],
      "execution_count": null,
      "outputs": [
        {
          "output_type": "execute_result",
          "data": {
            "text/plain": [
              "array([5, 7, 9])"
            ]
          },
          "metadata": {},
          "execution_count": 86
        }
      ]
    },
    {
      "cell_type": "markdown",
      "metadata": {
        "id": "SyPqME2EyD4x"
      },
      "source": [
        "Compare this with the equivalent computation using a for loop"
      ]
    },
    {
      "cell_type": "code",
      "metadata": {
        "id": "HxRFA_U2yfI-",
        "colab": {
          "base_uri": "https://localhost:8080/"
        },
        "outputId": "12630ce7-5571-476e-879c-255c88883191"
      },
      "source": [
        "array_out = np.zeros_like(array_a)\n",
        "for i in range(len(array_a)):\n",
        "  array_out[i] = array_a[i] + array_b[i]\n",
        "array_out"
      ],
      "execution_count": null,
      "outputs": [
        {
          "output_type": "execute_result",
          "data": {
            "text/plain": [
              "array([5, 7, 9])"
            ]
          },
          "metadata": {},
          "execution_count": 87
        }
      ]
    },
    {
      "cell_type": "markdown",
      "metadata": {
        "id": "i2a-apX-zlPN"
      },
      "source": [
        "Not only this code is more verbose, it will also run much more slowly."
      ]
    },
    {
      "cell_type": "markdown",
      "metadata": {
        "id": "Qdn8MwpR0wX_"
      },
      "source": [
        "In NumPy, functions that operates on arrays in an element-wise fashion are called [universal functions](https://numpy.org/doc/stable/reference/ufuncs.html). For instance, this is the case of `np.sin`"
      ]
    },
    {
      "cell_type": "code",
      "metadata": {
        "id": "JoanjiMu1BH5",
        "colab": {
          "base_uri": "https://localhost:8080/"
        },
        "outputId": "a5d662d2-0bc7-43cb-cf8b-a23066122c0c"
      },
      "source": [
        "np.sin(array_a)"
      ],
      "execution_count": null,
      "outputs": [
        {
          "output_type": "execute_result",
          "data": {
            "text/plain": [
              "array([0.84147098, 0.90929743, 0.14112001])"
            ]
          },
          "metadata": {},
          "execution_count": 88
        }
      ]
    },
    {
      "cell_type": "markdown",
      "metadata": {
        "id": "jHljrPXg5h8W"
      },
      "source": [
        "Vector inner product can be performed using `np.dot`"
      ]
    },
    {
      "cell_type": "code",
      "metadata": {
        "id": "TphR8oIx5ob9",
        "colab": {
          "base_uri": "https://localhost:8080/"
        },
        "outputId": "3c1d2087-fd43-46fd-94fd-13f0f272dc92"
      },
      "source": [
        "np.dot(array_a, array_b)"
      ],
      "execution_count": null,
      "outputs": [
        {
          "output_type": "execute_result",
          "data": {
            "text/plain": [
              "32"
            ]
          },
          "metadata": {},
          "execution_count": 89
        }
      ]
    },
    {
      "cell_type": "markdown",
      "metadata": {
        "id": "lHInOiSW50OR"
      },
      "source": [
        "When the two arguments to `np.dot` are both 2d arrays, `np.dot` becomes matrix multiplication"
      ]
    },
    {
      "cell_type": "code",
      "metadata": {
        "id": "QRbpbhPP6Up0",
        "colab": {
          "base_uri": "https://localhost:8080/"
        },
        "outputId": "3b7f59b9-7ab9-474c-b954-791672f4d798"
      },
      "source": [
        "array_A = np.random.rand(5, 3)\n",
        "array_B = np.random.randn(3, 4)\n",
        "np.dot(array_A, array_B)"
      ],
      "execution_count": null,
      "outputs": [
        {
          "output_type": "execute_result",
          "data": {
            "text/plain": [
              "array([[-1.80806249,  1.42475815,  1.46348108, -0.91808772],\n",
              "       [-1.2670469 ,  1.73349757,  0.98576144, -0.20923146],\n",
              "       [-1.78545841,  1.51227809,  1.36018545, -0.6742855 ],\n",
              "       [-1.3133565 ,  1.41533711,  1.08483248, -0.5331286 ],\n",
              "       [-0.66043827,  0.5355278 ,  0.65922887, -0.59562029]])"
            ]
          },
          "metadata": {},
          "execution_count": 90
        }
      ]
    },
    {
      "cell_type": "markdown",
      "metadata": {
        "id": "odVawD9m6gwv"
      },
      "source": [
        "Matrix transpose can be done using `.transpose()` or `.T` for short"
      ]
    },
    {
      "cell_type": "code",
      "metadata": {
        "id": "gvPe_JAO6mvF",
        "colab": {
          "base_uri": "https://localhost:8080/"
        },
        "outputId": "a5ffca8d-3427-43e5-9024-a558376c7358"
      },
      "source": [
        "array_A.T"
      ],
      "execution_count": null,
      "outputs": [
        {
          "output_type": "execute_result",
          "data": {
            "text/plain": [
              "array([[0.35761586, 0.52332723, 0.12372883, 0.54440335, 0.56109576],\n",
              "       [0.93235717, 0.37549252, 0.83529884, 0.55780666, 0.40698679],\n",
              "       [0.49755377, 0.75200168, 0.57462916, 0.55651914, 0.14967815]])"
            ]
          },
          "metadata": {},
          "execution_count": 91
        }
      ]
    },
    {
      "cell_type": "markdown",
      "metadata": {
        "id": "JlWt3oFnE_E-"
      },
      "source": [
        "### Slicing and masking"
      ]
    },
    {
      "cell_type": "markdown",
      "metadata": {
        "id": "e4aKKe7bFA65"
      },
      "source": [
        "Like Python lists, NumPy arrays support slicing"
      ]
    },
    {
      "cell_type": "code",
      "metadata": {
        "id": "0kPhv2xcF1TP",
        "colab": {
          "base_uri": "https://localhost:8080/"
        },
        "outputId": "81f09727-0c22-41d8-d1b4-cc97a4a96fe0"
      },
      "source": [
        "np.arange(10)[5:]"
      ],
      "execution_count": null,
      "outputs": [
        {
          "output_type": "execute_result",
          "data": {
            "text/plain": [
              "array([5, 6, 7, 8, 9])"
            ]
          },
          "metadata": {},
          "execution_count": 92
        }
      ]
    },
    {
      "cell_type": "markdown",
      "metadata": {
        "id": "ITu2Wy4-GB2G"
      },
      "source": [
        "We can also select only certain elements from the array"
      ]
    },
    {
      "cell_type": "code",
      "metadata": {
        "id": "8tlZzTB6GEyw",
        "colab": {
          "base_uri": "https://localhost:8080/"
        },
        "outputId": "946b216e-c597-403e-831a-cb69f7418866"
      },
      "source": [
        "x = np.arange(10)\n",
        "mask = x >= 5\n",
        "x[mask]"
      ],
      "execution_count": null,
      "outputs": [
        {
          "output_type": "execute_result",
          "data": {
            "text/plain": [
              "array([5, 6, 7, 8, 9])"
            ]
          },
          "metadata": {},
          "execution_count": 93
        }
      ]
    },
    {
      "cell_type": "markdown",
      "metadata": {
        "id": "NlGForCimjBL"
      },
      "source": [
        "### Exercises"
      ]
    },
    {
      "cell_type": "markdown",
      "metadata": {
        "id": "Ur1UlSFPTu6O"
      },
      "source": [
        "**Exercise 1.** Create a 3d array of shape (2, 2, 2), containing 8 values. Access individual elements and slices."
      ]
    },
    {
      "cell_type": "code",
      "metadata": {
        "id": "v1ed4-vLUWXQ",
        "colab": {
          "base_uri": "https://localhost:8080/"
        },
        "outputId": "99fe5ce1-b19e-4dce-fb68-e6ba635c6cac"
      },
      "source": [
        "import numpy as np\n",
        "\n",
        "array_3d = np.arange(8).reshape(2, 2, 2)\n",
        "\n",
        "print(f\"3D Array: {array_3d}\")\n",
        "\n",
        "print(f\"Element at [0, 0, 0]: {array_3d[0][0][0]}\")\n",
        "\n",
        "print(\"Slice for index 1 (all elements in second 2D array):\")\n",
        "print(array_3d[1, :, :])\n",
        "print(\"Slice for index 0 (all elements in first row of each 2D array):\")\n",
        "print(array_3d[:, 0, 0])"
      ],
      "execution_count": null,
      "outputs": [
        {
          "output_type": "stream",
          "name": "stdout",
          "text": [
            "3D Array: [[[0 1]\n",
            "  [2 3]]\n",
            "\n",
            " [[4 5]\n",
            "  [6 7]]]\n",
            "Element at [0, 0, 0]: 0\n",
            "Slice for index 1 (all elements in second 2D array):\n",
            "[[4 5]\n",
            " [6 7]]\n",
            "Slice for index 0 (all elements in first row of each 2D array):\n",
            "[0 4]\n"
          ]
        }
      ]
    },
    {
      "cell_type": "markdown",
      "metadata": {
        "id": "s_ksfCDJzyxI"
      },
      "source": [
        "**Exercise 2.** Rewrite the [relu function](https://www.geeksforgeeks.org/activation-functions/) using [np.maximum](https://numpy.org/doc/stable/reference/generated/numpy.maximum.html). Check that it works on both a single value and on an array of values."
      ]
    },
    {
      "cell_type": "code",
      "metadata": {
        "id": "QtSTxH5Dz6f8",
        "colab": {
          "base_uri": "https://localhost:8080/"
        },
        "outputId": "b796966c-5128-420a-a501-c8bd13425775"
      },
      "source": [
        "def relu_numpy(x):\n",
        "  return np.maximum(x, 0)\n",
        "\n",
        "relu_numpy(np.array([1, -3, 2.5]))"
      ],
      "execution_count": null,
      "outputs": [
        {
          "output_type": "execute_result",
          "data": {
            "text/plain": [
              "array([1. , 0. , 2.5])"
            ]
          },
          "metadata": {},
          "execution_count": 95
        }
      ]
    },
    {
      "cell_type": "markdown",
      "metadata": {
        "id": "yd1ZoByo436x"
      },
      "source": [
        "**Exercise 3.** Compute the mean value of the features in the [iris dataset](https://scikit-learn.org/stable/modules/generated/sklearn.datasets.load_iris.html). Hint: use the `axis` argument on [np.mean](https://numpy.org/doc/stable/reference/generated/numpy.mean.html)."
      ]
    },
    {
      "cell_type": "code",
      "metadata": {
        "id": "fYFVobkP5JK6",
        "colab": {
          "base_uri": "https://localhost:8080/"
        },
        "outputId": "3190114e-7bf3-4031-8426-6d76b7cfc1ae"
      },
      "source": [
        "from sklearn.datasets import load_iris\n",
        "X, y = load_iris(return_X_y=True)\n",
        "\n",
        "# Result should be an array of size 4.\n",
        "\n",
        "print(f\"Mean values of the features: {np.mean(X, axis=0)}\")"
      ],
      "execution_count": null,
      "outputs": [
        {
          "output_type": "stream",
          "name": "stdout",
          "text": [
            "Mean values of the features: [5.84333333 3.05733333 3.758      1.19933333]\n"
          ]
        }
      ]
    },
    {
      "cell_type": "markdown",
      "source": [
        "## Matplotlib"
      ],
      "metadata": {
        "id": "4NUIwy9Fy520"
      }
    },
    {
      "cell_type": "markdown",
      "source": [
        "Matplotlib is a plotting library for Python.\n",
        "\n",
        "We start with a rudimentary plotting example."
      ],
      "metadata": {
        "id": "NnXeNKd-y9QJ"
      }
    },
    {
      "cell_type": "code",
      "source": [
        "from matplotlib import pyplot as plt\n",
        "\n",
        "x_values = np.linspace(-3, 3, 100)\n",
        "\n",
        "plt.figure()\n",
        "plt.plot(x_values, np.sin(x_values), label=\"Sinusoid\")\n",
        "plt.xlabel(\"x\")\n",
        "plt.ylabel(\"sin(x)\")\n",
        "plt.title(\"Matplotlib example\")\n",
        "plt.legend(loc=\"upper left\")\n",
        "plt.show()"
      ],
      "metadata": {
        "colab": {
          "base_uri": "https://localhost:8080/"
        },
        "id": "KydnXLCYy_J4",
        "outputId": "1af2500d-7183-42f2-de45-20af4d549161"
      },
      "execution_count": null,
      "outputs": [
        {
          "output_type": "display_data",
          "data": {
            "text/plain": [
              "<Figure size 640x480 with 1 Axes>"
            ],
            "image/png": "[encoded data removed]"
          },
          "metadata": {}
        }
      ]
    },
    {
      "cell_type": "markdown",
      "source": [
        "We continue with a rudimentary scatter plot example. This example displays samples from the iris dataset using the first two features. Colors indicate class membership (there are 3 classes)."
      ],
      "metadata": {
        "id": "rX5qjodQzEwt"
      }
    },
    {
      "cell_type": "code",
      "source": [
        "from sklearn.datasets import load_iris\n",
        "X, y = load_iris(return_X_y=True)\n",
        "\n",
        "X_class0 = X[y == 0]\n",
        "X_class1 = X[y == 1]\n",
        "X_class2 = X[y == 2]\n",
        "\n",
        "plt.figure()\n",
        "plt.scatter(X_class0[:, 0], X_class0[:, 1], label=\"Class 0\", color=\"C0\")\n",
        "plt.scatter(X_class1[:, 0], X_class1[:, 1], label=\"Class 1\", color=\"C1\")\n",
        "plt.scatter(X_class2[:, 0], X_class2[:, 1], label=\"Class 2\", color=\"C2\")\n",
        "plt.show()"
      ],
      "metadata": {
        "colab": {
          "base_uri": "https://localhost:8080/"
        },
        "id": "1__969gozGYU",
        "outputId": "ec7a43eb-277a-4b2c-99d8-7af9e05303be"
      },
      "execution_count": null,
      "outputs": [
        {
          "output_type": "display_data",
          "data": {
            "text/plain": [
              "<Figure size 640x480 with 1 Axes>"
            ],
            "image/png": "[encoded data removed]"
          },
          "metadata": {}
        }
      ]
    },
    {
      "cell_type": "markdown",
      "source": [
        "We see that samples belonging to class 0 can be linearly separated from the rest using only the first two features."
      ],
      "metadata": {
        "id": "zK5Qj5XqzKM7"
      }
    },
    {
      "cell_type": "markdown",
      "metadata": {
        "id": "1X6-g6zgCwJd"
      },
      "source": [
        "**Exercise 1.** Plot the relu and the [softplus](https://en.wikipedia.org/wiki/Rectifier_(neural_networks)#Softplus) functions on the same graph."
      ]
    },
    {
      "cell_type": "code",
      "metadata": {
        "id": "Ob6HZUX0DJ8y",
        "colab": {
          "base_uri": "https://localhost:8080/"
        },
        "outputId": "844f61ea-13b7-4678-be75-df479c00d9c1"
      },
      "source": [
        "# write your code here\n",
        "import numpy as np\n",
        "import matplotlib.pyplot as plt\n",
        "\n",
        "x = np.linspace(-5, 5, 400)\n",
        "\n",
        "relu_values = np.maximum(0, x)\n",
        "softplus_values = np.log1p(np.exp(x))\n",
        "\n",
        "plt.figure(figsize=(10, 6))\n",
        "plt.plot(x, relu_values, label='ReLU', color='blue')\n",
        "plt.plot(x, softplus_values, label='Softplus', color='red')\n",
        "plt.xlabel('x')\n",
        "plt.ylabel('y')\n",
        "plt.title('ReLU and Softplus Functions')\n",
        "plt.legend()\n",
        "plt.grid(True)\n",
        "plt.show()"
      ],
      "execution_count": null,
      "outputs": [
        {
          "output_type": "display_data",
          "data": {
            "text/plain": [
              "<Figure size 1000x600 with 1 Axes>"
            ],
            "image/png": "[encoded data removed]"
          },
          "metadata": {}
        }
      ]
    },
    {
      "cell_type": "markdown",
      "metadata": {
        "id": "vpRGfz0aDW3l"
      },
      "source": [
        "What is the main difference between the two functions?"
      ]
    },
    {
      "cell_type": "markdown",
      "metadata": {
        "id": "JjDeIufRAYVL"
      },
      "source": [
        "**Exercise 2.** Repeat the same scatter plot but using the [digits dataset](https://scikit-learn.org/stable/modules/generated/sklearn.datasets.load_digits.html) instead."
      ]
    },
    {
      "cell_type": "code",
      "metadata": {
        "id": "-JU3TXCBBB0c",
        "colab": {
          "base_uri": "https://localhost:8080/"
        },
        "outputId": "c67322e0-0743-4e68-9c9a-df50d6ba4a43"
      },
      "source": [
        "from sklearn.datasets import load_digits\n",
        "X, y = load_digits(return_X_y=True)\n",
        "\n",
        "feature_1 = X[:, 0]\n",
        "feature_2 = X[:, 1]\n",
        "\n",
        "plt.figure(figsize=(10, 6))\n",
        "scatter = plt.scatter(feature_1, feature_2, c=y, cmap='viridis', alpha=0.7)\n",
        "plt.colorbar(scatter, label='Digit Label')\n",
        "plt.xlabel('Feature 1')\n",
        "plt.ylabel('Feature 2')\n",
        "plt.title('Scatter Plot of Digits Dataset (First Two Features)')\n",
        "plt.grid(True)\n",
        "plt.show()"
      ],
      "execution_count": null,
      "outputs": [
        {
          "output_type": "display_data",
          "data": {
            "text/plain": [
              "<Figure size 1000x600 with 2 Axes>"
            ],
            "image/png": "[encoded data removed]"
          },
          "metadata": {}
        }
      ]
    },
    {
      "cell_type": "markdown",
      "metadata": {
        "id": "w7wPWdmXBQA2"
      },
      "source": [
        "Are pixel values good features for classifying samples? No, since the data points for different digit labels overlap significantly which suggests that there's a lot of ambiguity in the pixel values when trying to distinguish between different digits."
      ]
    },
    {
      "cell_type": "markdown",
      "source": [
        "## Pandas"
      ],
      "metadata": {
        "id": "bJOKEBDJ0hb-"
      }
    },
    {
      "cell_type": "markdown",
      "source": [
        "Pandas is a powerful Python library used for data manipulation and analysis. It provides data structures like Series and DataFrame, which are essential for handling and analyzing structured data. Pandas makes data analysis tasks like cleaning, transforming, and aggregating data easier and more efficient.\n"
      ],
      "metadata": {
        "id": "svylv_MY0kY9"
      }
    },
    {
      "cell_type": "code",
      "source": [
        "import pandas as pd\n",
        "\n",
        "print(f\"Pandas Version: {pd.__version__}\") # checking the version of Pandas we are using"
      ],
      "metadata": {
        "colab": {
          "base_uri": "https://localhost:8080/"
        },
        "id": "C_D9M6qp0oTn",
        "outputId": "577bf68b-1e69-42f8-8027-a55dbcc27532"
      },
      "execution_count": null,
      "outputs": [
        {
          "output_type": "stream",
          "name": "stdout",
          "text": [
            "Pandas Version: 2.1.4\n"
          ]
        }
      ]
    },
    {
      "cell_type": "markdown",
      "source": [
        "A Series is a one-dimensional labeled array capable of holding any data type. In this example, we create a simple Series from a list of integers. The Series has both a data column and an index column."
      ],
      "metadata": {
        "id": "_gZS8GA50zpx"
      }
    },
    {
      "cell_type": "code",
      "source": [
        "data = [10, 20, 30, 40, 50]\n",
        "series = pd.Series(data)\n",
        "series"
      ],
      "metadata": {
        "colab": {
          "base_uri": "https://localhost:8080/"
        },
        "id": "mEKBBAT-03HW",
        "outputId": "53702bf3-c1fb-4706-ac44-dae4d7fdac13"
      },
      "execution_count": null,
      "outputs": [
        {
          "output_type": "execute_result",
          "data": {
            "text/plain": [
              "0    10\n",
              "1    20\n",
              "2    30\n",
              "3    40\n",
              "4    50\n",
              "dtype: int64"
            ],
            "text/html": [
              "<div>\n",
              "<style scoped>\n",
              "    .dataframe tbody tr th:only-of-type {\n",
              "        vertical-align: middle;\n",
              "    }\n",
              "\n",
              "    .dataframe tbody tr th {\n",
              "        vertical-align: top;\n",
              "    }\n",
              "\n",
              "    .dataframe thead th {\n",
              "        text-align: right;\n",
              "    }\n",
              "</style>\n",
              "<table border=\"1\" class=\"dataframe\">\n",
              "  <thead>\n",
              "    <tr style=\"text-align: right;\">\n",
              "      <th></th>\n",
              "      <th>0</th>\n",
              "    </tr>\n",
              "  </thead>\n",
              "  <tbody>\n",
              "    <tr>\n",
              "      <th>0</th>\n",
              "      <td>10</td>\n",
              "    </tr>\n",
              "    <tr>\n",
              "      <th>1</th>\n",
              "      <td>20</td>\n",
              "    </tr>\n",
              "    <tr>\n",
              "      <th>2</th>\n",
              "      <td>30</td>\n",
              "    </tr>\n",
              "    <tr>\n",
              "      <th>3</th>\n",
              "      <td>40</td>\n",
              "    </tr>\n",
              "    <tr>\n",
              "      <th>4</th>\n",
              "      <td>50</td>\n",
              "    </tr>\n",
              "  </tbody>\n",
              "</table>\n",
              "</div><br><label><b>dtype:</b> int64</label>"
            ]
          },
          "metadata": {},
          "execution_count": 102
        }
      ]
    },
    {
      "cell_type": "markdown",
      "source": [
        "A DataFrame is a two-dimensional, size-mutable, and potentially heterogeneous tabular data structure with labeled axes (rows and columns). Here, we create a DataFrame from a dictionary where keys are column names, and values are lists of data."
      ],
      "metadata": {
        "id": "2wEMr4ZI09Rh"
      }
    },
    {
      "cell_type": "code",
      "source": [
        "data = {\n",
        "    'Name': ['Alice', 'Bob', 'Charlie', 'David'],\n",
        "    'Age': [24, 27, 22, 32],\n",
        "    'City': ['New York', 'Los Angeles', 'Chicago', 'Houston']\n",
        "}\n",
        "\n",
        "df = pd.DataFrame(data)\n",
        "df"
      ],
      "metadata": {
        "colab": {
          "base_uri": "https://localhost:8080/"
        },
        "id": "z4TVokpX0-fP",
        "outputId": "036e7436-a0cb-4532-9f5a-5d3ffd7ba9db"
      },
      "execution_count": null,
      "outputs": [
        {
          "output_type": "execute_result",
          "data": {
            "text/plain": [
              "      Name  Age         City\n",
              "0    Alice   24     New York\n",
              "1      Bob   27  Los Angeles\n",
              "2  Charlie   22      Chicago\n",
              "3    David   32      Houston"
            ],
            "text/html": [
              "\n",
              "  <div id=\"df-0249fd32-c622-43ef-b9c3-f7c75cf4bb22\" class=\"colab-df-container\">\n",
              "    <div>\n",
              "<style scoped>\n",
              "    .dataframe tbody tr th:only-of-type {\n",
              "        vertical-align: middle;\n",
              "    }\n",
              "\n",
              "    .dataframe tbody tr th {\n",
              "        vertical-align: top;\n",
              "    }\n",
              "\n",
              "    .dataframe thead th {\n",
              "        text-align: right;\n",
              "    }\n",
              "</style>\n",
              "<table border=\"1\" class=\"dataframe\">\n",
              "  <thead>\n",
              "    <tr style=\"text-align: right;\">\n",
              "      <th></th>\n",
              "      <th>Name</th>\n",
              "      <th>Age</th>\n",
              "      <th>City</th>\n",
              "    </tr>\n",
              "  </thead>\n",
              "  <tbody>\n",
              "    <tr>\n",
              "      <th>0</th>\n",
              "      <td>Alice</td>\n",
              "      <td>24</td>\n",
              "      <td>New York</td>\n",
              "    </tr>\n",
              "    <tr>\n",
              "      <th>1</th>\n",
              "      <td>Bob</td>\n",
              "      <td>27</td>\n",
              "      <td>Los Angeles</td>\n",
              "    </tr>\n",
              "    <tr>\n",
              "      <th>2</th>\n",
              "      <td>Charlie</td>\n",
              "      <td>22</td>\n",
              "      <td>Chicago</td>\n",
              "    </tr>\n",
              "    <tr>\n",
              "      <th>3</th>\n",
              "      <td>David</td>\n",
              "      <td>32</td>\n",
              "      <td>Houston</td>\n",
              "    </tr>\n",
              "  </tbody>\n",
              "</table>\n",
              "</div>\n",
              "    <div class=\"colab-df-buttons\">\n",
              "\n",
              "  <div class=\"colab-df-container\">\n",
              "    <button class=\"colab-df-convert\" onclick=\"convertToInteractive('df-0249fd32-c622-43ef-b9c3-f7c75cf4bb22')\"\n",
              "            title=\"Convert this dataframe to an interactive table.\"\n",
              "            style=\"display:none;\">\n",
              "\n",
              "  <svg xmlns=\"http://www.w3.org/2000/svg\" height=\"24px\" viewBox=\"0 -960 960 960\">\n",
              "    <path d=\"M120-120v-720h720v720H120Zm60-500h600v-160H180v160Zm220 220h160v-160H400v160Zm0 220h160v-160H400v160ZM180-400h160v-160H180v160Zm440 0h160v-160H620v160ZM180-180h160v-160H180v160Zm440 0h160v-160H620v160Z\"/>\n",
              "  </svg>\n",
              "    </button>\n",
              "\n",
              "  <style>\n",
              "    .colab-df-container {\n",
              "      display:flex;\n",
              "      gap: 12px;\n",
              "    }\n",
              "\n",
              "    .colab-df-convert {\n",
              "      background-color: #E8F0FE;\n",
              "      border: none;\n",
              "      border-radius: 50%;\n",
              "      cursor: pointer;\n",
              "      display: none;\n",
              "      fill: #1967D2;\n",
              "      height: 32px;\n",
              "      padding: 0 0 0 0;\n",
              "      width: 32px;\n",
              "    }\n",
              "\n",
              "    .colab-df-convert:hover {\n",
              "      background-color: #E2EBFA;\n",
              "      box-shadow: 0px 1px 2px rgba(60, 64, 67, 0.3), 0px 1px 3px 1px rgba(60, 64, 67, 0.15);\n",
              "      fill: #174EA6;\n",
              "    }\n",
              "\n",
              "    .colab-df-buttons div {\n",
              "      margin-bottom: 4px;\n",
              "    }\n",
              "\n",
              "    [theme=dark] .colab-df-convert {\n",
              "      background-color: #3B4455;\n",
              "      fill: #D2E3FC;\n",
              "    }\n",
              "\n",
              "    [theme=dark] .colab-df-convert:hover {\n",
              "      background-color: #434B5C;\n",
              "      box-shadow: 0px 1px 3px 1px rgba(0, 0, 0, 0.15);\n",
              "      filter: drop-shadow(0px 1px 2px rgba(0, 0, 0, 0.3));\n",
              "      fill: #FFFFFF;\n",
              "    }\n",
              "  </style>\n",
              "\n",
              "    <script>\n",
              "      const buttonEl =\n",
              "        document.querySelector('#df-0249fd32-c622-43ef-b9c3-f7c75cf4bb22 button.colab-df-convert');\n",
              "      buttonEl.style.display =\n",
              "        google.colab.kernel.accessAllowed ? 'block' : 'none';\n",
              "\n",
              "      async function convertToInteractive(key) {\n",
              "        const element = document.querySelector('#df-0249fd32-c622-43ef-b9c3-f7c75cf4bb22');\n",
              "        const dataTable =\n",
              "          await google.colab.kernel.invokeFunction('convertToInteractive',\n",
              "                                                    [key], {});\n",
              "        if (!dataTable) return;\n",
              "\n",
              "        const docLinkHtml = 'Like what you see? Visit the ' +\n",
              "          '<a target=\"_blank\" href=https://colab.research.google.com/notebooks/data_table.ipynb>data table notebook</a>'\n",
              "          + ' to learn more about interactive tables.';\n",
              "        element.innerHTML = '';\n",
              "        dataTable['output_type'] = 'display_data';\n",
              "        await google.colab.output.renderOutput(dataTable, element);\n",
              "        const docLink = document.createElement('div');\n",
              "        docLink.innerHTML = docLinkHtml;\n",
              "        element.appendChild(docLink);\n",
              "      }\n",
              "    </script>\n",
              "  </div>\n",
              "\n",
              "\n",
              "<div id=\"df-62734a7e-8356-47ae-9d09-8b98c74ba79e\">\n",
              "  <button class=\"colab-df-quickchart\" onclick=\"quickchart('df-62734a7e-8356-47ae-9d09-8b98c74ba79e')\"\n",
              "            title=\"Suggest charts\"\n",
              "            style=\"display:none;\">\n",
              "\n",
              "<svg xmlns=\"http://www.w3.org/2000/svg\" height=\"24px\"viewBox=\"0 0 24 24\"\n",
              "     width=\"24px\">\n",
              "    <g>\n",
              "        <path d=\"M19 3H5c-1.1 0-2 .9-2 2v14c0 1.1.9 2 2 2h14c1.1 0 2-.9 2-2V5c0-1.1-.9-2-2-2zM9 17H7v-7h2v7zm4 0h-2V7h2v10zm4 0h-2v-4h2v4z\"/>\n",
              "    </g>\n",
              "</svg>\n",
              "  </button>\n",
              "\n",
              "<style>\n",
              "  .colab-df-quickchart {\n",
              "      --bg-color: #E8F0FE;\n",
              "      --fill-color: #1967D2;\n",
              "      --hover-bg-color: #E2EBFA;\n",
              "      --hover-fill-color: #174EA6;\n",
              "      --disabled-fill-color: #AAA;\n",
              "      --disabled-bg-color: #DDD;\n",
              "  }\n",
              "\n",
              "  [theme=dark] .colab-df-quickchart {\n",
              "      --bg-color: #3B4455;\n",
              "      --fill-color: #D2E3FC;\n",
              "      --hover-bg-color: #434B5C;\n",
              "      --hover-fill-color: #FFFFFF;\n",
              "      --disabled-bg-color: #3B4455;\n",
              "      --disabled-fill-color: #666;\n",
              "  }\n",
              "\n",
              "  .colab-df-quickchart {\n",
              "    background-color: var(--bg-color);\n",
              "    border: none;\n",
              "    border-radius: 50%;\n",
              "    cursor: pointer;\n",
              "    display: none;\n",
              "    fill: var(--fill-color);\n",
              "    height: 32px;\n",
              "    padding: 0;\n",
              "    width: 32px;\n",
              "  }\n",
              "\n",
              "  .colab-df-quickchart:hover {\n",
              "    background-color: var(--hover-bg-color);\n",
              "    box-shadow: 0 1px 2px rgba(60, 64, 67, 0.3), 0 1px 3px 1px rgba(60, 64, 67, 0.15);\n",
              "    fill: var(--button-hover-fill-color);\n",
              "  }\n",
              "\n",
              "  .colab-df-quickchart-complete:disabled,\n",
              "  .colab-df-quickchart-complete:disabled:hover {\n",
              "    background-color: var(--disabled-bg-color);\n",
              "    fill: var(--disabled-fill-color);\n",
              "    box-shadow: none;\n",
              "  }\n",
              "\n",
              "  .colab-df-spinner {\n",
              "    border: 2px solid var(--fill-color);\n",
              "    border-color: transparent;\n",
              "    border-bottom-color: var(--fill-color);\n",
              "    animation:\n",
              "      spin 1s steps(1) infinite;\n",
              "  }\n",
              "\n",
              "  @keyframes spin {\n",
              "    0% {\n",
              "      border-color: transparent;\n",
              "      border-bottom-color: var(--fill-color);\n",
              "      border-left-color: var(--fill-color);\n",
              "    }\n",
              "    20% {\n",
              "      border-color: transparent;\n",
              "      border-left-color: var(--fill-color);\n",
              "      border-top-color: var(--fill-color);\n",
              "    }\n",
              "    30% {\n",
              "      border-color: transparent;\n",
              "      border-left-color: var(--fill-color);\n",
              "      border-top-color: var(--fill-color);\n",
              "      border-right-color: var(--fill-color);\n",
              "    }\n",
              "    40% {\n",
              "      border-color: transparent;\n",
              "      border-right-color: var(--fill-color);\n",
              "      border-top-color: var(--fill-color);\n",
              "    }\n",
              "    60% {\n",
              "      border-color: transparent;\n",
              "      border-right-color: var(--fill-color);\n",
              "    }\n",
              "    80% {\n",
              "      border-color: transparent;\n",
              "      border-right-color: var(--fill-color);\n",
              "      border-bottom-color: var(--fill-color);\n",
              "    }\n",
              "    90% {\n",
              "      border-color: transparent;\n",
              "      border-bottom-color: var(--fill-color);\n",
              "    }\n",
              "  }\n",
              "</style>\n",
              "\n",
              "  <script>\n",
              "    async function quickchart(key) {\n",
              "      const quickchartButtonEl =\n",
              "        document.querySelector('#' + key + ' button');\n",
              "      quickchartButtonEl.disabled = true;  // To prevent multiple clicks.\n",
              "      quickchartButtonEl.classList.add('colab-df-spinner');\n",
              "      try {\n",
              "        const charts = await google.colab.kernel.invokeFunction(\n",
              "            'suggestCharts', [key], {});\n",
              "      } catch (error) {\n",
              "        console.error('Error during call to suggestCharts:', error);\n",
              "      }\n",
              "      quickchartButtonEl.classList.remove('colab-df-spinner');\n",
              "      quickchartButtonEl.classList.add('colab-df-quickchart-complete');\n",
              "    }\n",
              "    (() => {\n",
              "      let quickchartButtonEl =\n",
              "        document.querySelector('#df-62734a7e-8356-47ae-9d09-8b98c74ba79e button');\n",
              "      quickchartButtonEl.style.display =\n",
              "        google.colab.kernel.accessAllowed ? 'block' : 'none';\n",
              "    })();\n",
              "  </script>\n",
              "</div>\n",
              "\n",
              "  <div id=\"id_25330411-9dd6-4152-b3a8-24c08c76154e\">\n",
              "    <style>\n",
              "      .colab-df-generate {\n",
              "        background-color: #E8F0FE;\n",
              "        border: none;\n",
              "        border-radius: 50%;\n",
              "        cursor: pointer;\n",
              "        display: none;\n",
              "        fill: #1967D2;\n",
              "        height: 32px;\n",
              "        padding: 0 0 0 0;\n",
              "        width: 32px;\n",
              "      }\n",
              "\n",
              "      .colab-df-generate:hover {\n",
              "        background-color: #E2EBFA;\n",
              "        box-shadow: 0px 1px 2px rgba(60, 64, 67, 0.3), 0px 1px 3px 1px rgba(60, 64, 67, 0.15);\n",
              "        fill: #174EA6;\n",
              "      }\n",
              "\n",
              "      [theme=dark] .colab-df-generate {\n",
              "        background-color: #3B4455;\n",
              "        fill: #D2E3FC;\n",
              "      }\n",
              "\n",
              "      [theme=dark] .colab-df-generate:hover {\n",
              "        background-color: #434B5C;\n",
              "        box-shadow: 0px 1px 3px 1px rgba(0, 0, 0, 0.15);\n",
              "        filter: drop-shadow(0px 1px 2px rgba(0, 0, 0, 0.3));\n",
              "        fill: #FFFFFF;\n",
              "      }\n",
              "    </style>\n",
              "    <button class=\"colab-df-generate\" onclick=\"generateWithVariable('df')\"\n",
              "            title=\"Generate code using this dataframe.\"\n",
              "            style=\"display:none;\">\n",
              "\n",
              "  <svg xmlns=\"http://www.w3.org/2000/svg\" height=\"24px\"viewBox=\"0 0 24 24\"\n",
              "       width=\"24px\">\n",
              "    <path d=\"M7,19H8.4L18.45,9,17,7.55,7,17.6ZM5,21V16.75L18.45,3.32a2,2,0,0,1,2.83,0l1.4,1.43a1.91,1.91,0,0,1,.58,1.4,1.91,1.91,0,0,1-.58,1.4L9.25,21ZM18.45,9,17,7.55Zm-12,3A5.31,5.31,0,0,0,4.9,8.1,5.31,5.31,0,0,0,1,6.5,5.31,5.31,0,0,0,4.9,4.9,5.31,5.31,0,0,0,6.5,1,5.31,5.31,0,0,0,8.1,4.9,5.31,5.31,0,0,0,12,6.5,5.46,5.46,0,0,0,6.5,12Z\"/>\n",
              "  </svg>\n",
              "    </button>\n",
              "    <script>\n",
              "      (() => {\n",
              "      const buttonEl =\n",
              "        document.querySelector('#id_25330411-9dd6-4152-b3a8-24c08c76154e button.colab-df-generate');\n",
              "      buttonEl.style.display =\n",
              "        google.colab.kernel.accessAllowed ? 'block' : 'none';\n",
              "\n",
              "      buttonEl.onclick = () => {\n",
              "        google.colab.notebook.generateWithVariable('df');\n",
              "      }\n",
              "      })();\n",
              "    </script>\n",
              "  </div>\n",
              "\n",
              "    </div>\n",
              "  </div>\n"
            ],
            "application/vnd.google.colaboratory.intrinsic+json": {
              "type": "dataframe",
              "variable_name": "df",
              "summary": "{\n  \"name\": \"df\",\n  \"rows\": 4,\n  \"fields\": [\n    {\n      \"column\": \"Name\",\n      \"properties\": {\n        \"dtype\": \"string\",\n        \"num_unique_values\": 4,\n        \"samples\": [\n          \"Bob\",\n          \"David\",\n          \"Alice\"\n        ],\n        \"semantic_type\": \"\",\n        \"description\": \"\"\n      }\n    },\n    {\n      \"column\": \"Age\",\n      \"properties\": {\n        \"dtype\": \"number\",\n        \"std\": 4,\n        \"min\": 22,\n        \"max\": 32,\n        \"num_unique_values\": 4,\n        \"samples\": [\n          27,\n          32,\n          24\n        ],\n        \"semantic_type\": \"\",\n        \"description\": \"\"\n      }\n    },\n    {\n      \"column\": \"City\",\n      \"properties\": {\n        \"dtype\": \"string\",\n        \"num_unique_values\": 4,\n        \"samples\": [\n          \"Los Angeles\",\n          \"Houston\",\n          \"New York\"\n        ],\n        \"semantic_type\": \"\",\n        \"description\": \"\"\n      }\n    }\n  ]\n}"
            }
          },
          "metadata": {},
          "execution_count": 103
        }
      ]
    },
    {
      "cell_type": "markdown",
      "source": [
        "You can access individual columns using the column name, multiple columns by passing a list of column names, and specific rows using the .iloc[] method or by applying conditions."
      ],
      "metadata": {
        "id": "znEFC8PP1H7A"
      }
    },
    {
      "cell_type": "code",
      "source": [
        "print(df['Name'])\n",
        "print(df[['Name', 'City']])\n",
        "print(df.iloc[0])\n",
        "print(df[df['Age'] > 25])"
      ],
      "metadata": {
        "colab": {
          "base_uri": "https://localhost:8080/"
        },
        "id": "75dvatBT1J6b",
        "outputId": "31961b9f-8331-4850-dd8e-e7b349b9c329"
      },
      "execution_count": null,
      "outputs": [
        {
          "output_type": "stream",
          "name": "stdout",
          "text": [
            "0      Alice\n",
            "1        Bob\n",
            "2    Charlie\n",
            "3      David\n",
            "Name: Name, dtype: object\n",
            "      Name         City\n",
            "0    Alice     New York\n",
            "1      Bob  Los Angeles\n",
            "2  Charlie      Chicago\n",
            "3    David      Houston\n",
            "Name       Alice\n",
            "Age           24\n",
            "City    New York\n",
            "Name: 0, dtype: object\n",
            "    Name  Age         City\n",
            "1    Bob   27  Los Angeles\n",
            "3  David   32      Houston\n"
          ]
        }
      ]
    },
    {
      "cell_type": "markdown",
      "source": [
        "Pandas allows for easy manipulation of DataFrames. In this example, we add a new column Salary to the DataFrame. We then calculate the mean age of the group using the .mean() method, which can be applied directly to a column."
      ],
      "metadata": {
        "id": "-NpGUFLV1R9U"
      }
    },
    {
      "cell_type": "code",
      "source": [
        "df['Salary'] = [70000, 80000, 60000, 90000]\n",
        "\n",
        "mean_age = df['Age'].mean()\n",
        "\n",
        "print(\"DataFrame after adding 'Salary' column:\")\n",
        "print(df)\n",
        "\n",
        "print(f\"\\nMean Age of the group: {mean_age:.2f} years\") # here .2f rounds off decimal place to 2 digits"
      ],
      "metadata": {
        "colab": {
          "base_uri": "https://localhost:8080/"
        },
        "id": "GcO_m-Ot1Tyz",
        "outputId": "42576f45-2905-4f70-99ee-d1ba570fb506"
      },
      "execution_count": null,
      "outputs": [
        {
          "output_type": "stream",
          "name": "stdout",
          "text": [
            "DataFrame after adding 'Salary' column:\n",
            "      Name  Age         City  Salary\n",
            "0    Alice   24     New York   70000\n",
            "1      Bob   27  Los Angeles   80000\n",
            "2  Charlie   22      Chicago   60000\n",
            "3    David   32      Houston   90000\n",
            "\n",
            "Mean Age of the group: 26.25 years\n"
          ]
        }
      ]
    },
    {
      "cell_type": "markdown",
      "source": [
        "Handling missing data is a common task in data analysis. This cell demonstrates how to introduce missing values (NaN) in a DataFrame and how to handle them using the .fillna() method. In this case, we fill the missing age with the mean age of the group."
      ],
      "metadata": {
        "id": "RRPAQV7D1by3"
      }
    },
    {
      "cell_type": "code",
      "source": [
        "df.loc[2, 'Age'] = None\n",
        "\n",
        "print(\"DataFrame with missing value:\")\n",
        "print(df)\n",
        "\n",
        "df_filled = df.fillna(df['Age'].mean())\n",
        "\n",
        "print(\"\\nDataFrame after filling missing values with mean age:\")\n",
        "print(df_filled)"
      ],
      "metadata": {
        "colab": {
          "base_uri": "https://localhost:8080/"
        },
        "id": "VfG6xV2R1pcq",
        "outputId": "067e41f0-4593-45da-f3a6-ce4eb51951ea"
      },
      "execution_count": null,
      "outputs": [
        {
          "output_type": "stream",
          "name": "stdout",
          "text": [
            "DataFrame with missing value:\n",
            "      Name   Age         City  Salary\n",
            "0    Alice  24.0     New York   70000\n",
            "1      Bob  27.0  Los Angeles   80000\n",
            "2  Charlie   NaN      Chicago   60000\n",
            "3    David  32.0      Houston   90000\n",
            "\n",
            "DataFrame after filling missing values with mean age:\n",
            "      Name        Age         City  Salary\n",
            "0    Alice  24.000000     New York   70000\n",
            "1      Bob  27.000000  Los Angeles   80000\n",
            "2  Charlie  27.666667      Chicago   60000\n",
            "3    David  32.000000      Houston   90000\n"
          ]
        }
      ]
    },
    {
      "cell_type": "markdown",
      "source": [
        "Aggregation is another powerful feature of pandas. In this cell, we group the DataFrame by the City column and calculate the mean of the Age and Salary columns for each city. The .groupby() and .agg() methods are used for this purpose."
      ],
      "metadata": {
        "id": "kLAfUEhL1wzl"
      }
    },
    {
      "cell_type": "code",
      "source": [
        "grouped = df.groupby('City').agg({'Age': 'mean', 'Salary': 'mean'})\n",
        "print(\"Mean Age and Salary by City:\")\n",
        "print(grouped)"
      ],
      "metadata": {
        "colab": {
          "base_uri": "https://localhost:8080/"
        },
        "id": "YfNWlygv1yOH",
        "outputId": "73450652-0249-4c51-9edf-f71aee14cc09"
      },
      "execution_count": null,
      "outputs": [
        {
          "output_type": "stream",
          "name": "stdout",
          "text": [
            "Mean Age and Salary by City:\n",
            "              Age   Salary\n",
            "City                      \n",
            "Chicago       NaN  60000.0\n",
            "Houston      32.0  90000.0\n",
            "Los Angeles  27.0  80000.0\n",
            "New York     24.0  70000.0\n"
          ]
        }
      ]
    },
    {
      "cell_type": "markdown",
      "source": [
        "## Flask"
      ],
      "metadata": {
        "id": "BjAiJOzk2EPA"
      }
    },
    {
      "cell_type": "markdown",
      "source": [
        "Flask is a lightweight web framework for Python, designed to make it easy to build web applications. It is known for its simplicity and flexibility, allowing developers to create web apps with minimal overhead. Flask follows the WSGI (Web Server Gateway Interface) standard and is based on Werkzeug and Jinja2.\n"
      ],
      "metadata": {
        "id": "t6AYBtbl2OCH"
      }
    },
    {
      "cell_type": "code",
      "source": [
        "!pip install flask"
      ],
      "metadata": {
        "colab": {
          "base_uri": "https://localhost:8080/"
        },
        "id": "xycwI0822QlH",
        "outputId": "c184371b-17f3-4fff-a16d-f8564e8e9366"
      },
      "execution_count": null,
      "outputs": [
        {
          "output_type": "stream",
          "name": "stdout",
          "text": [
            "Requirement already satisfied: flask in /usr/local/lib/python3.10/dist-packages (2.2.5)\n",
            "Requirement already satisfied: Werkzeug>=2.2.2 in /usr/local/lib/python3.10/dist-packages (from flask) (3.0.4)\n",
            "Requirement already satisfied: Jinja2>=3.0 in /usr/local/lib/python3.10/dist-packages (from flask) (3.1.4)\n",
            "Requirement already satisfied: itsdangerous>=2.0 in /usr/local/lib/python3.10/dist-packages (from flask) (2.2.0)\n",
            "Requirement already satisfied: click>=8.0 in /usr/local/lib/python3.10/dist-packages (from flask) (8.1.7)\n",
            "Requirement already satisfied: MarkupSafe>=2.0 in /usr/local/lib/python3.10/dist-packages (from Jinja2>=3.0->flask) (2.1.5)\n"
          ]
        }
      ]
    },
    {
      "cell_type": "markdown",
      "source": [
        "We create a basic Flask application. The Flask class is used to create an app instance, and we define a route using the @app.route decorator. This route maps the URL path '/' (home page) to the home() function, which returns a simple string message.\n",
        "\n",
        "NOTE: YOU HAVE TO RUN ALL THE FOLLOWING CODE IN LOCAL (VSCODE)"
      ],
      "metadata": {
        "id": "669k-vMp2XnU"
      }
    },
    {
      "cell_type": "code",
      "source": [
        "from flask import Flask\n",
        "\n",
        "app = Flask(__name__)\n",
        "\n",
        "@app.route('/')\n",
        "def home():\n",
        "    return \"Welcome to Flask!\"\n",
        "\n",
        "@app.route('/about')\n",
        "def about():\n",
        "    return \"This is the about page.\"\n",
        "\n",
        "\n",
        "@app.route('/user/<name>') # A route with a dynamic URL parameter\n",
        "def user(name):\n",
        "    return f\"Hello, {name}!\"\n",
        "\n",
        "if __name__ == \"__main__\":\n",
        "    app.run(debug=True)"
      ],
      "metadata": {
        "colab": {
          "base_uri": "https://localhost:8080/"
        },
        "id": "WI6YcsSc2an-",
        "outputId": "fdb0b311-87d5-4223-a3f8-bf9774320acb"
      },
      "execution_count": null,
      "outputs": [
        {
          "output_type": "stream",
          "name": "stdout",
          "text": [
            " * Serving Flask app '__main__'\n",
            " * Debug mode: on\n"
          ]
        },
        {
          "output_type": "stream",
          "name": "stderr",
          "text": [
            "INFO:werkzeug:\u001b[31m\u001b[1mWARNING: This is a development server. Do not use it in a production deployment. Use a production WSGI server instead.\u001b[0m\n",
            " * Running on http://127.0.0.1:5000\n",
            "INFO:werkzeug:\u001b[33mPress CTRL+C to quit\u001b[0m\n",
            "INFO:werkzeug: * Restarting with stat\n"
          ]
        }
      ]
    },
    {
      "cell_type": "markdown",
      "source": [
        "Flask allows you to handle different HTTP methods (GET, POST, etc.). In this example, the /submit route handles both GET and POST requests. If the request method is POST, it processes the form data and returns a response; otherwise, it displays an HTML form."
      ],
      "metadata": {
        "id": "D6V7U0ZZ3E0t"
      }
    },
    {
      "cell_type": "code",
      "source": [
        "from flask import request\n",
        "\n",
        "@app.route('/submit', methods=['GET', 'POST'])\n",
        "def submit():\n",
        "    if request.method == 'POST':\n",
        "        name = request.form.get('name')\n",
        "        return f\"Form submitted! Hello, {name}!\"\n",
        "    return '''\n",
        "        <form method=\"post\">\n",
        "            Name: <input type=\"text\" name=\"name\">\n",
        "            <input type=\"submit\">\n",
        "        </form>\n",
        "    '''"
      ],
      "metadata": {
        "id": "dar15ZRn3GtD"
      },
      "execution_count": null,
      "outputs": []
    },
    {
      "cell_type": "markdown",
      "source": [
        "Flask uses the Jinja2 template engine to render HTML templates. In this example, we use the render_template() function to render an HTML file named index.html."
      ],
      "metadata": {
        "id": "gulArvZ_3NxP"
      }
    },
    {
      "cell_type": "code",
      "source": [
        "from flask import render_template\n",
        "\n",
        "# write a simple 'index.html' file in a 'templates' folder\n",
        "@app.route('/template')\n",
        "def template():\n",
        "    return render_template('index.html')"
      ],
      "metadata": {
        "id": "S3Hyi2IR3OJn"
      },
      "execution_count": null,
      "outputs": []
    },
    {
      "cell_type": "markdown",
      "source": [
        "Flask can easily handle JSON data using the jsonify() function. In this cell, the /data route returns a JSON response containing some user data. This is particularly useful when building APIs."
      ],
      "metadata": {
        "id": "2GQyznNX3WeJ"
      }
    },
    {
      "cell_type": "code",
      "source": [
        "from flask import jsonify\n",
        "\n",
        "@app.route('/data')\n",
        "def data():\n",
        "    response_data = {'name': 'Alice', 'age': 24, 'city': 'New York'}\n",
        "    return jsonify(response_data)"
      ],
      "metadata": {
        "id": "s_-KO3Mm3WCb"
      },
      "execution_count": null,
      "outputs": []
    },
    {
      "cell_type": "markdown",
      "source": [
        "This example demonstrates how to create a RESTful API endpoint in Flask. The /api/user/<int:id> route takes an integer ID as a parameter and returns the corresponding user’s name in JSON format."
      ],
      "metadata": {
        "id": "lPOhgnC43dwz"
      }
    },
    {
      "cell_type": "code",
      "source": [
        "@app.route('/api/user/<int:id>', methods=['GET'])\n",
        "def get_user(id):\n",
        "    users = {1: 'Alice', 2: 'Bob', 3: 'Charlie'}\n",
        "    user = users.get(id, 'User not found')\n",
        "    return jsonify({'id': id, 'name': user})"
      ],
      "metadata": {
        "id": "EoiV3tLl3eX8"
      },
      "execution_count": null,
      "outputs": []
    },
    {
      "cell_type": "markdown",
      "source": [
        "**Exercise Time**\n",
        "\n",
        "Objective:\n",
        "\n",
        "Create a simple Flask application that integrates with a pre-trained model from Hugging Face. The application will allow users to input text and receive a response generated by the model.\n",
        "\n",
        "Exercise Requirements:\n",
        "\n",
        "Set up a basic Flask application.\n",
        "Create a single route (/predict) that accepts POST requests.\n",
        "The route should accept user input (text) and pass it to a Hugging Face model for processing.\n",
        "Return the model's output to the user.\n",
        "\n",
        "Use the Hugging Face 'transformers' library to load a pre-trained model.\n",
        "For simplicity, use a text generation model like 'distilgpt2'."
      ],
      "metadata": {
        "id": "hFEOn6RR4kYD"
      }
    },
    {
      "cell_type": "code",
      "source": [
        "!pip install transformers torch flask flask-cors"
      ],
      "metadata": {
        "colab": {
          "base_uri": "https://localhost:8080/"
        },
        "id": "npFmslvPjyNy",
        "outputId": "eaa36a5e-5877-4c75-d28a-6949ecea56c5"
      },
      "execution_count": null,
      "outputs": [
        {
          "output_type": "stream",
          "name": "stdout",
          "text": [
            "Requirement already satisfied: transformers in /usr/local/lib/python3.10/dist-packages (4.42.4)\n",
            "Requirement already satisfied: torch in /usr/local/lib/python3.10/dist-packages (2.4.0+cu121)\n",
            "Requirement already satisfied: flask in /usr/local/lib/python3.10/dist-packages (2.2.5)\n",
            "Collecting flask-cors\n",
            "  Downloading Flask_Cors-4.0.1-py2.py3-none-any.whl.metadata (5.5 kB)\n",
            "Requirement already satisfied: filelock in /usr/local/lib/python3.10/dist-packages (from transformers) (3.15.4)\n",
            "Requirement already satisfied: huggingface-hub<1.0,>=0.23.2 in /usr/local/lib/python3.10/dist-packages (from transformers) (0.23.5)\n",
            "Requirement already satisfied: numpy<2.0,>=1.17 in /usr/local/lib/python3.10/dist-packages (from transformers) (1.26.4)\n",
            "Requirement already satisfied: packaging>=20.0 in /usr/local/lib/python3.10/dist-packages (from transformers) (24.1)\n",
            "Requirement already satisfied: pyyaml>=5.1 in /usr/local/lib/python3.10/dist-packages (from transformers) (6.0.2)\n",
            "Requirement already satisfied: regex!=2019.12.17 in /usr/local/lib/python3.10/dist-packages (from transformers) (2024.5.15)\n",
            "Requirement already satisfied: requests in /usr/local/lib/python3.10/dist-packages (from transformers) (2.32.3)\n",
            "Requirement already satisfied: safetensors>=0.4.1 in /usr/local/lib/python3.10/dist-packages (from transformers) (0.4.4)\n",
            "Requirement already satisfied: tokenizers<0.20,>=0.19 in /usr/local/lib/python3.10/dist-packages (from transformers) (0.19.1)\n",
            "Requirement already satisfied: tqdm>=4.27 in /usr/local/lib/python3.10/dist-packages (from transformers) (4.66.5)\n",
            "Requirement already satisfied: typing-extensions>=4.8.0 in /usr/local/lib/python3.10/dist-packages (from torch) (4.12.2)\n",
            "Requirement already satisfied: sympy in /usr/local/lib/python3.10/dist-packages (from torch) (1.13.2)\n",
            "Requirement already satisfied: networkx in /usr/local/lib/python3.10/dist-packages (from torch) (3.3)\n",
            "Requirement already satisfied: jinja2 in /usr/local/lib/python3.10/dist-packages (from torch) (3.1.4)\n",
            "Requirement already satisfied: fsspec in /usr/local/lib/python3.10/dist-packages (from torch) (2024.6.1)\n",
            "Requirement already satisfied: Werkzeug>=2.2.2 in /usr/local/lib/python3.10/dist-packages (from flask) (3.0.4)\n",
            "Requirement already satisfied: itsdangerous>=2.0 in /usr/local/lib/python3.10/dist-packages (from flask) (2.2.0)\n",
            "Requirement already satisfied: click>=8.0 in /usr/local/lib/python3.10/dist-packages (from flask) (8.1.7)\n",
            "Requirement already satisfied: MarkupSafe>=2.0 in /usr/local/lib/python3.10/dist-packages (from jinja2->torch) (2.1.5)\n",
            "Requirement already satisfied: charset-normalizer<4,>=2 in /usr/local/lib/python3.10/dist-packages (from requests->transformers) (3.3.2)\n",
            "Requirement already satisfied: idna<4,>=2.5 in /usr/local/lib/python3.10/dist-packages (from requests->transformers) (3.7)\n",
            "Requirement already satisfied: urllib3<3,>=1.21.1 in /usr/local/lib/python3.10/dist-packages (from requests->transformers) (2.0.7)\n",
            "Requirement already satisfied: certifi>=2017.4.17 in /usr/local/lib/python3.10/dist-packages (from requests->transformers) (2024.7.4)\n",
            "Requirement already satisfied: mpmath<1.4,>=1.1.0 in /usr/local/lib/python3.10/dist-packages (from sympy->torch) (1.3.0)\n",
            "Downloading Flask_Cors-4.0.1-py2.py3-none-any.whl (14 kB)\n",
            "Installing collected packages: flask-cors\n",
            "Successfully installed flask-cors-4.0.1\n"
          ]
        }
      ]
    },
    {
      "cell_type": "code",
      "source": [
        "from flask import Flask, request, jsonify\n",
        "from transformers import pipeline\n",
        "from flask_cors import CORS\n",
        "import threading\n",
        "\n",
        "app = Flask(__name__)\n",
        "CORS(app)\n",
        "\n",
        "model_name = 'distilgpt2'\n",
        "generator = pipeline('text-generation', model=model_name)\n",
        "\n",
        "@app.route('/predict', methods=['POST'])\n",
        "def predict():\n",
        "    data = request.get_json()\n",
        "    text = data.get('text', '')\n",
        "\n",
        "    if text:\n",
        "        generated_text = generator(text, max_length=50, num_return_sequences=1)[0]['generated_text']\n",
        "        return jsonify({'response': generated_text})\n",
        "    else:\n",
        "        return jsonify({'error': 'No text provided'}), 400\n",
        "\n",
        "def run_flask():\n",
        "    app.run(host='0.0.0.0', port=8000)\n",
        "\n",
        "threading.Thread(target=run_flask).start()"
      ],
      "metadata": {
        "colab": {
          "base_uri": "https://localhost:8080/",
          "height": 241,
          "referenced_widgets": [
            "5fd6865baa3740d0bbde651f6d0a2f2b",
            "cb1f83e899af46209026b1c2b57efdd0",
            "6db8a8aa26e746eba0ed33dc79e74514",
            "34774f4b47c24b5384420d14d0eea99a",
            "650b027d70ea4a8b95918759fe320d8d",
            "5d7431a6c9074582b15f275ae141c976",
            "5900e38139374444b8baff531754827b",
            "d978ddcec02b4f07881c033deb00afcc",
            "9d7e12e94cd8407db5ca6f186b29cc4f",
            "3d8016e280c344bf9dc984c40d8feffe",
            "68711b15c5474d3585ffac8d45f58f86",
            "bc281cca62214f2aa4d89b87c555f743",
            "542b994584c34edca13beb8376d5e74d",
            "8fb733f85551494bbf54bf1c93056792",
            "52f9ba8c5a12483c8c726bfbe96af57f",
            "130b601a59a14c9a9cce528127040621",
            "391e5d8a3a0c496494f965236fd6721d",
            "2fa198ebf1224368aab5118d3db2d999",
            "66d460fe55a14edf96faa0e3bab24eaf",
            "aec4ee26b7884249b7c9f1d2e1023870",
            "486968393f784aa8a827c482fb2243c3",
            "85707b936d494101b04779bbcc851c5b",
            "a9d648ec1586460b9f02226c173dd507",
            "81d293f0686a4c298e05171318a13eeb",
            "97ec00daf0fa4cab8bd98953e534bfc3",
            "8d211829f5c14e4cbdbebfc25da11a9d",
            "6426f66f577c4f06b98dd1f44c9206d2",
            "7480cb7f4fb94b99aad9106fdfb85055",
            "b1bc3e7590434c8bb4511406a993d10b",
            "fb7f34535212495aaaa9fac15b0d0e1a",
            "bc10ae1c3fd54a7a907a9711d2d07f35",
            "3bbbd67cd17f4de1997196cc6b73e87b",
            "28bdb7f04744423daa8259935dca481e",
            "c791ee537d8940c4b2d8e198a54ce23d",
            "32bd422326004d4a9bb00c26c41b439d",
            "7a04e468fbba4bcd9f3fadc5bdbf426e",
            "669c5f1c51f14d0d86c654703dff30b1",
            "701635792e494d28aae718caf19b7bc0",
            "61c5ee37c0934d7abbcb57bb428eab01",
            "2b01e356beee40f1a464197c03650241",
            "7236ea02d4784b0590256900c1160f38",
            "239ced7461bf4dd9b8247165400113b0",
            "e43c30e6d6b7487e8f70820895f6bff8",
            "35a9d11d57a24393a809f87aedf43a46",
            "5e5a78f3f6934fa9834501796062c67f",
            "c4840982cd8c46b58671bac4a4651bc6",
            "4d47a9a5bd174d83ae8814c1fd5f5ba2",
            "6343d09616624740a12bc7b195a2d652",
            "faa47f2918474c44875ab0a7e91885b6",
            "00db071978e84a509256f030076acc0b",
            "cfc725f82f7d41e7b38c1ce64666ab44",
            "f830726b1f3d4e1a87bdf8d11cd26408",
            "dbb7200d4ccc4dc2bec6e0826708478e",
            "c4a22d90157d4cdeacc8db7cea91fa3b",
            "9b39b3444ac04e638305ef2701412b59",
            "e8e7ab0fa95b4134bfe055b2a2bf84bf",
            "de4c151a704a457bb17d2465ab69a110",
            "0489dcbe12054cd2aed9bdf2f9a20d58",
            "7badb70eebaf4d86abb78847f0a8d5c5",
            "e14ad7d4bb4a43b2bceed0dca5e8a66a",
            "44de998e0d6a43c191a2df0b6c14935b",
            "fe31938a76d14b8b8f171166b64a014b",
            "fe104223afd145bcbb659554986a8e47",
            "e55a702735274451968532c6a1758732",
            "d27535ee5c1349c497ea6b11b35b7342",
            "45c0fe4fa8eb4cc69a2844fc230869e1",
            "22381bfb050e45ebb62dcaebdaa6c777",
            "9bc3df0761a24936b10541c4b179833b",
            "9682843ab22242ff962ab357993eaf00",
            "465a4aad0bb4444b87935be91af3eb4a",
            "841bd66985244ed3ab0ad3c133f74ddf",
            "eb76336aa3d8476e9153ee4fccfd843e",
            "39ff750451df4e2a94744d96e88e0687",
            "6e36720f178b47c8a470e6ef0e1674d2",
            "82e0ff91f660488d9d6c249d932a19fb",
            "fe631d06dbcc421aa0ba8c1843ac3e67",
            "3d4212cc19004b328de51c0804da08fe"
          ]
        },
        "id": "4ufFEfxwjSU1",
        "outputId": "15baa696-03bb-458b-afbf-c44cc932f62f"
      },
      "execution_count": null,
      "outputs": [
        {
          "output_type": "display_data",
          "data": {
            "text/plain": [
              "config.json:   0%|          | 0.00/762 [00:00<?, ?B/s]"
            ],
            "application/vnd.jupyter.widget-view+json": {
              "version_major": 2,
              "version_minor": 0,
              "model_id": "5fd6865baa3740d0bbde651f6d0a2f2b"
            }
          },
          "metadata": {}
        },
        {
          "output_type": "display_data",
          "data": {
            "text/plain": [
              "model.safetensors:   0%|          | 0.00/353M [00:00<?, ?B/s]"
            ],
            "application/vnd.jupyter.widget-view+json": {
              "version_major": 2,
              "version_minor": 0,
              "model_id": "bc281cca62214f2aa4d89b87c555f743"
            }
          },
          "metadata": {}
        },
        {
          "output_type": "display_data",
          "data": {
            "text/plain": [
              "generation_config.json:   0%|          | 0.00/124 [00:00<?, ?B/s]"
            ],
            "application/vnd.jupyter.widget-view+json": {
              "version_major": 2,
              "version_minor": 0,
              "model_id": "a9d648ec1586460b9f02226c173dd507"
            }
          },
          "metadata": {}
        },
        {
          "output_type": "display_data",
          "data": {
            "text/plain": [
              "tokenizer_config.json:   0%|          | 0.00/26.0 [00:00<?, ?B/s]"
            ],
            "application/vnd.jupyter.widget-view+json": {
              "version_major": 2,
              "version_minor": 0,
              "model_id": "c791ee537d8940c4b2d8e198a54ce23d"
            }
          },
          "metadata": {}
        },
        {
          "output_type": "display_data",
          "data": {
            "text/plain": [
              "vocab.json:   0%|          | 0.00/1.04M [00:00<?, ?B/s]"
            ],
            "application/vnd.jupyter.widget-view+json": {
              "version_major": 2,
              "version_minor": 0,
              "model_id": "5e5a78f3f6934fa9834501796062c67f"
            }
          },
          "metadata": {}
        },
        {
          "output_type": "display_data",
          "data": {
            "text/plain": [
              "merges.txt:   0%|          | 0.00/456k [00:00<?, ?B/s]"
            ],
            "application/vnd.jupyter.widget-view+json": {
              "version_major": 2,
              "version_minor": 0,
              "model_id": "e8e7ab0fa95b4134bfe055b2a2bf84bf"
            }
          },
          "metadata": {}
        },
        {
          "output_type": "display_data",
          "data": {
            "text/plain": [
              "tokenizer.json:   0%|          | 0.00/1.36M [00:00<?, ?B/s]"
            ],
            "application/vnd.jupyter.widget-view+json": {
              "version_major": 2,
              "version_minor": 0,
              "model_id": "22381bfb050e45ebb62dcaebdaa6c777"
            }
          },
          "metadata": {}
        }
      ]
    },
    {
      "cell_type": "code",
      "source": [
        "import requests\n",
        "\n",
        "url = 'http://localhost:8000/predict'\n",
        "payload = {'text': 'Once upon a time'}\n",
        "\n",
        "response = requests.post(url, json=payload)\n",
        "print(\"\\n\", response.json()[\"response\"])"
      ],
      "metadata": {
        "colab": {
          "base_uri": "https://localhost:8080/"
        },
        "id": "KKobZv85nuRl",
        "outputId": "f05b012a-345d-420b-ec4c-7a17c3ccc832"
      },
      "execution_count": null,
      "outputs": [
        {
          "output_type": "stream",
          "name": "stdout",
          "text": [
            " * Serving Flask app '__main__'\n",
            " * Debug mode: off\n"
          ]
        },
        {
          "output_type": "stream",
          "name": "stderr",
          "text": [
            "INFO:werkzeug:\u001b[31m\u001b[1mWARNING: This is a development server. Do not use it in a production deployment. Use a production WSGI server instead.\u001b[0m\n",
            " * Running on all addresses (0.0.0.0)\n",
            " * Running on http://127.0.0.1:8000\n",
            " * Running on http://172.28.0.12:8000\n",
            "INFO:werkzeug:\u001b[33mPress CTRL+C to quit\u001b[0m\n",
            "Truncation was not explicitly activated but `max_length` is provided a specific value, please use `truncation=True` to explicitly truncate examples to max length. Defaulting to 'longest_first' truncation strategy. If you encode pairs of sequences (GLUE-style) with the tokenizer you can select this strategy more precisely by providing a specific strategy to `truncation`.\n",
            "Setting `pad_token_id` to `eos_token_id`:50256 for open-end generation.\n",
            "INFO:werkzeug:127.0.0.1 - - [27/Aug/2024 07:09:18] \"POST /predict HTTP/1.1\" 200 -\n"
          ]
        },
        {
          "output_type": "stream",
          "name": "stdout",
          "text": [
            "\n",
            " Once upon a time when the world was in chaos, the world was slowly beginning to resemble what it was. Then, in an alternate universe of events, events began to take place that began to spiral in unison. From the end of the day,\n"
          ]
        }
      ]
    },
    {
      "cell_type": "markdown",
      "source": [
        "# Study Resources"
      ],
      "metadata": {
        "id": "DVQ5ll_J5Inl"
      }
    },
    {
      "cell_type": "markdown",
      "source": [
        "Data analytics:\n",
        "\n",
        "[Python Libraries In-Depth](https://www.udemy.com/course/data-analytics-in-python/)\n",
        "\n",
        "Testing:\n",
        "\n",
        "[RealPython](https://realpython.com/python-doctest/)\n",
        "\n",
        "[PyTest](https://docs.pytest.org/en/stable/contents.html)\n",
        "\n",
        "Backend:\n",
        "\n",
        "[Django](https://www.djangoproject.com/)\n",
        "\n",
        "[DjangoGirls](https://tutorial.djangogirls.org/en/)\n",
        "\n",
        "[FastAPI](https://fastapi.tiangolo.com/)\n",
        "\n",
        "Networking using Python:\n",
        "\n",
        "[Network Protocols and Web Sockets](https://medium.com/@AlexanderObregon/python-for-network-programming-a-beginners-overview-e9379cc44479#:~:text=The%20Role%20of%20Python%20in,client%20and%20http.)\n",
        "\n",
        "GUI:\n",
        "\n",
        "[RealPython](https://realpython.com/python-gui-tkinter/)\n",
        "\n",
        "[Tkinter](https://docs.codio.com/instructors/setupcourses/resources/resourcetools/tkinter.html)\n",
        "\n",
        "*Advanced*\n",
        "\n",
        "Automation:\n",
        "\n",
        "[Projects based on Selenium or BeautifulSoup](https://www.geeksforgeeks.org/python-automation/)\n",
        "\n",
        "Artificial Intelligence:\n",
        "\n",
        "[Language](https://www.analyticsvidhya.com/blog/2022/05/a-complete-guide-on-chatbot-development-using-python/)\n",
        "\n",
        "[Videos and Images](https://www.analyticsvidhya.com/blog/2023/09/image-generation-using-stable-diffusion/)\n",
        "\n",
        "\n",
        "Courses:\n",
        "\n",
        "[cs50p](https://cs50.harvard.edu/python/2022/) you can skip a few lectures (I would recommend to start watching lectures from week 5) but do all the exercises\n",
        "\n",
        "[GooglePythonClass](https://www.youtube.com/playlist?list=PLC8825D0450647509) this is a video course if that helps"
      ],
      "metadata": {
        "id": "s8WJTf2S5PjJ"
      }
    },
    {
      "cell_type": "markdown",
      "source": [
        "# Final Project (OPTIONAL)"
      ],
      "metadata": {
        "id": "8tm2u49a_HoN"
      }
    },
    {
      "cell_type": "markdown",
      "source": [
        "## **Expense Tracker with Data Analysis and Visualization**\n",
        "\n",
        "### **Project Overview:**\n",
        "\n",
        "Create a command-line or web-based expense tracker that allows users to record, analyze, and visualize their expenses. This project will incorporate various Python concepts, including loops, conditionals, data structures, functions, error handling, OOP, file I/O, and data analysis with NumPy and Pandas.\n",
        "\n",
        "### **Project Requirements:**\n",
        "\n",
        "**Data Input and Storage:**\n",
        "\n",
        "Allow users to input their daily expenses, including date, category (e.g., food, transportation), and amount.\n",
        "Store the expenses in a file (e.g., CSV) or in-memory using lists, tuples, or dictionaries.\n",
        "\n",
        "**Data Processing:**\n",
        "\n",
        "Implement functions to load, save, and process the expense data.\n",
        "Use loops, if-else statements, and functions to filter and categorize expenses.\n",
        "\n",
        "**String Manipulation and Regular Expressions:**\n",
        "\n",
        "Parse and validate user input, such as dates and categories, using string manipulation and regular expressions.\n",
        "Ensure that dates are in the correct format and categories match predefined options.\n",
        "\n",
        "**Error Handling:**\n",
        "\n",
        "Implement try-except blocks to handle possible errors (e.g., invalid input, file not found).\n",
        "\n",
        "**Object-Oriented Programming:**\n",
        "\n",
        "Design classes to represent an Expense and an ExpenseTracker with methods for adding, deleting, and summarizing expenses.\n",
        "Use decorators for any additional functionality (e.g., logging).\n",
        "\n",
        "**Data Analysis with NumPy and Pandas:**\n",
        "\n",
        "Convert the expense data into a Pandas DataFrame for easy manipulation and analysis.\n",
        "Use NumPy for numerical operations, such as calculating total expenses, average spending, and category-wise breakdowns.\n",
        "Perform basic regression analysis to predict future expenses based on historical data.\n",
        "\n",
        "**Visualization:**\n",
        "\n",
        "Create visualizations (e.g., bar charts, pie charts) to display the distribution of expenses by category or over time.\n",
        "Use Pandas plotting functions or Matplotlib for visualization.\n",
        "\n",
        "**Flask Integration (Optional):**\n",
        "\n",
        "Optionally, build a simple Flask app with routes for inputting expenses, viewing summaries, and displaying visualizations.\n",
        "Use Flask to provide a web-based interface for the expense tracker.\n",
        "\n",
        "### **Step-by-Step Implementation:**\n",
        "\n",
        "**Set Up the Expense Tracker:**\n",
        "\n",
        "Create classes for Expense (attributes: date, category, amount) and ExpenseTracker (methods: add_expense, delete_expense, summarize_expenses).\n",
        "Implement functions to read/write expenses from/to a file.\n",
        "\n",
        "**Data Input and Validation:**\n",
        "\n",
        "Implement a command-line interface (CLI) or web form to input expenses.\n",
        "Use regular expressions to validate the date format and ensure categories are correct.\n",
        "\n",
        "**Expense Analysis:**\n",
        "\n",
        "Write functions to calculate total expenses, monthly summaries, and category-wise distributions.\n",
        "Use NumPy and Pandas to perform data analysis and create summaries.\n",
        "\n",
        "**Visualization:**\n",
        "\n",
        "Generate visualizations to help users understand their spending habits.\n",
        "Create bar charts showing monthly expenses or pie charts showing category distributions.\n",
        "\n",
        "**Error Handling and Scope Management:**\n",
        "\n",
        "Ensure all user inputs are validated and handled gracefully using try-except.\n",
        "Keep data encapsulated within classes and methods, and manage variable scope effectively.\n",
        "\n",
        "**Flask Integration (Optional):**\n",
        "\n",
        "If creating a web-based app, build a simple Flask application with routes for adding expenses and viewing summaries.\n",
        "Display visualizations directly in the web interface using Flask templates.\n",
        "\n",
        "### **Project Outcome:**\n",
        "\n",
        "By the end of this project, you will have an expense tracker that allows users to record and analyze their expenses. This project will help you practice Python's core concepts and provide a practical tool for managing personal finances.\n",
        "\n",
        "**Bonus Features:**\n",
        "\n",
        "Add a feature to export expense summaries as CSV or PDF.\n",
        "Include advanced filtering options, like filtering by date range or category.\n",
        "Extend the app to allow multiple users with separate expense tracking."
      ],
      "metadata": {
        "id": "Q_6JxhzB_J7Q"
      }
    },
    {
      "cell_type": "code",
      "source": [
        "import json\n",
        "from datetime import datetime\n",
        "\n",
        "class Expense:\n",
        "    def __init__(self, date, category, amount):\n",
        "        self.date = date\n",
        "        self.category = category\n",
        "        self.amount = amount\n",
        "\n",
        "    def to_dict(self):\n",
        "        return {\n",
        "            'date': self.date,\n",
        "            'category': self.category,\n",
        "            'amount': self.amount\n",
        "        }\n",
        "\n",
        "class ExpenseTracker:\n",
        "    def __init__(self, filename='expenses.json'):\n",
        "        self.filename = filename\n",
        "        self.expenses = self.load_expenses()\n",
        "\n",
        "    def load_expenses(self):\n",
        "        try:\n",
        "            with open(self.filename, 'r') as file:\n",
        "                data = json.load(file)\n",
        "                return [Expense(**item) for item in data]\n",
        "        except FileNotFoundError:\n",
        "            return []\n",
        "\n",
        "    def save_expenses(self):\n",
        "        with open(self.filename, 'w') as file:\n",
        "            json.dump([expense.to_dict() for expense in self.expenses], file)\n",
        "\n",
        "    def add_expense(self, expense):\n",
        "        self.expenses.append(expense)\n",
        "        self.save_expenses()\n",
        "\n",
        "    def delete_expense(self, date, category, amount):\n",
        "        self.expenses = [exp for exp in self.expenses if not (exp.date == date and exp.category == category and exp.amount == amount)]\n",
        "        self.save_expenses()\n",
        "\n",
        "    def summarize_expenses(self):\n",
        "        summary = {}\n",
        "        for exp in self.expenses:\n",
        "            if exp.category not in summary:\n",
        "                summary[exp.category] = 0\n",
        "            summary[exp.category] += exp.amount\n",
        "        return summary"
      ],
      "metadata": {
        "id": "qUPaThBIrDvx"
      },
      "execution_count": null,
      "outputs": []
    },
    {
      "cell_type": "code",
      "source": [
        "import re\n",
        "\n",
        "def validate_date(date_str):\n",
        "    try:\n",
        "        datetime.strptime(date_str, '%Y-%m-%d')\n",
        "        return True\n",
        "    except ValueError:\n",
        "        return False\n",
        "\n",
        "def validate_category(category, categories):\n",
        "    return category in categories\n",
        "\n",
        "def input_expense():\n",
        "    date = input(\"Enter the date (YYYY-MM-DD): \")\n",
        "    while not validate_date(date):\n",
        "        print(\"Invalid date format. Please use YYYY-MM-DD.\")\n",
        "        date = input(\"Enter the date (YYYY-MM-DD): \")\n",
        "\n",
        "    category = input(\"Enter the category (e.g., food, transportation): \")\n",
        "    categories = [\"food\", \"transportation\", \"entertainment\", \"utilities\"]\n",
        "    while not validate_category(category, categories):\n",
        "        print(f\"Invalid category. Please choose from {categories}.\")\n",
        "        category = input(\"Enter the category: \")\n",
        "\n",
        "    amount = input(\"Enter the amount: \")\n",
        "    while not amount.replace('.', '', 1).isdigit():\n",
        "        print(\"Invalid amount. Please enter a numerical value.\")\n",
        "        amount = input(\"Enter the amount: \")\n",
        "    amount = float(amount)\n",
        "\n",
        "    return Expense(date, category, amount)"
      ],
      "metadata": {
        "id": "mwn9AGcprFMp"
      },
      "execution_count": null,
      "outputs": []
    },
    {
      "cell_type": "code",
      "source": [
        "import pandas as pd\n",
        "import numpy as np\n",
        "\n",
        "def analyze_expenses(expenses):\n",
        "    df = pd.DataFrame([exp.to_dict() for exp in expenses])\n",
        "\n",
        "    df['date'] = pd.to_datetime(df['date'])\n",
        "    df['amount'] = df['amount'].astype(float)\n",
        "\n",
        "    total_expenses = df['amount'].sum()\n",
        "\n",
        "    df['month'] = df['date'].dt.to_period('M')\n",
        "    monthly_summary = df.groupby('month')['amount'].sum()\n",
        "    category_summary = df.groupby('category')['amount'].sum()\n",
        "\n",
        "    return total_expenses, monthly_summary, category_summary"
      ],
      "metadata": {
        "id": "q7gzB-0orPMe"
      },
      "execution_count": null,
      "outputs": []
    },
    {
      "cell_type": "code",
      "source": [
        "import matplotlib.pyplot as plt\n",
        "\n",
        "def plot_visualizations(monthly_summary, category_summary):\n",
        "    plt.figure(figsize=(10, 5))\n",
        "    monthly_summary.plot(kind='bar')\n",
        "    plt.title('Monthly Expenses')\n",
        "    plt.xlabel('Month')\n",
        "    plt.ylabel('Total Amount')\n",
        "    plt.xticks(rotation=45)\n",
        "    plt.tight_layout()\n",
        "    plt.show()\n",
        "\n",
        "    plt.figure(figsize=(10, 5))\n",
        "    category_summary.plot(kind='pie', autopct='%1.1f%%')\n",
        "    plt.title('Expenses by Category')\n",
        "    plt.ylabel('')\n",
        "    plt.show()"
      ],
      "metadata": {
        "id": "pWNrrTsRrS1h"
      },
      "execution_count": null,
      "outputs": []
    },
    {
      "cell_type": "code",
      "source": [
        "def main():\n",
        "    tracker = ExpenseTracker()\n",
        "    categories = [\"food\", \"transportation\", \"entertainment\", \"utilities\"]\n",
        "\n",
        "    while True:\n",
        "        print(\"\\nExpense Tracker\")\n",
        "        print(\"1. Add Expense\")\n",
        "        print(\"2. Delete Expense\")\n",
        "        print(\"3. Summarize Expenses\")\n",
        "        print(\"4. Visualize Expenses\")\n",
        "        print(\"5. Exit\")\n",
        "\n",
        "        choice = input(\"Choose an option: \")\n",
        "\n",
        "        if choice == '1':\n",
        "            expense = input_expense()\n",
        "            tracker.add_expense(expense)\n",
        "            print(\"Expense added successfully!\")\n",
        "\n",
        "        elif choice == '2':\n",
        "            date = input(\"Enter the date of the expense to delete (YYYY-MM-DD): \")\n",
        "            category = input(\"Enter the category of the expense to delete: \")\n",
        "            amount = float(input(\"Enter the amount of the expense to delete: \"))\n",
        "            tracker.delete_expense(date, category, amount)\n",
        "            print(\"Expense deleted successfully!\")\n",
        "\n",
        "        elif choice == '3':\n",
        "            summary = tracker.summarize_expenses()\n",
        "            for category, amount in summary.items():\n",
        "                print(f\"Category: {category}, Amount: {amount}\")\n",
        "\n",
        "        elif choice == '4':\n",
        "            total, monthly_summary, category_summary = analyze_expenses(tracker.expenses)\n",
        "            print(f\"Total Expenses: {total}\")\n",
        "            plot_visualizations(monthly_summary, category_summary)\n",
        "\n",
        "        elif choice == '5':\n",
        "            print(\"Exiting the application.\")\n",
        "            break\n",
        "\n",
        "        else:\n",
        "            print(\"Invalid choice. Please select a valid option.\")\n",
        "\n",
        "if __name__ == \"__main__\":\n",
        "    main()"
      ],
      "metadata": {
        "colab": {
          "base_uri": "https://localhost:8080/",
          "height": 1000
        },
        "id": "VGNr0F5urb2p",
        "outputId": "ec5729ad-7ca6-4c96-a4c5-03d477dfbc9f"
      },
      "execution_count": null,
      "outputs": [
        {
          "output_type": "stream",
          "name": "stdout",
          "text": [
            "\n",
            "Expense Tracker\n",
            "1. Add Expense\n",
            "2. Delete Expense\n",
            "3. Summarize Expenses\n",
            "4. Visualize Expenses\n",
            "5. Exit\n",
            "Choose an option: 3\n",
            "Category: food, Amount: 800.0\n",
            "Category: transportation, Amount: 1400.0\n",
            "Category: utilities, Amount: 850.0\n",
            "\n",
            "Expense Tracker\n",
            "1. Add Expense\n",
            "2. Delete Expense\n",
            "3. Summarize Expenses\n",
            "4. Visualize Expenses\n",
            "5. Exit\n",
            "Choose an option: 1\n",
            "Enter the date (YYYY-MM-DD): 2024-09-12\n",
            "Enter the category (e.g., food, transportation): food\n",
            "Enter the amount: 650\n",
            "Expense added successfully!\n",
            "\n",
            "Expense Tracker\n",
            "1. Add Expense\n",
            "2. Delete Expense\n",
            "3. Summarize Expenses\n",
            "4. Visualize Expenses\n",
            "5. Exit\n",
            "Choose an option: 3\n",
            "Category: food, Amount: 1450.0\n",
            "Category: transportation, Amount: 1400.0\n",
            "Category: utilities, Amount: 850.0\n",
            "\n",
            "Expense Tracker\n",
            "1. Add Expense\n",
            "2. Delete Expense\n",
            "3. Summarize Expenses\n",
            "4. Visualize Expenses\n",
            "5. Exit\n",
            "Choose an option: 4\n",
            "Total Expenses: 3700.0\n"
          ]
        },
        {
          "output_type": "display_data",
          "data": {
            "text/plain": [
              "<Figure size 1000x500 with 1 Axes>"
            ],
            "image/png": "[encoded data removed]"
          },
          "metadata": {}
        },
        {
          "output_type": "display_data",
          "data": {
            "text/plain": [
              "<Figure size 1000x500 with 1 Axes>"
            ],
            "image/png": "[encoded data removed]"
          },
          "metadata": {}
        },
        {
          "output_type": "stream",
          "name": "stdout",
          "text": [
            "\n",
            "Expense Tracker\n",
            "1. Add Expense\n",
            "2. Delete Expense\n",
            "3. Summarize Expenses\n",
            "4. Visualize Expenses\n",
            "5. Exit\n",
            "Choose an option: 5\n",
            "Exiting the application.\n"
          ]
        }
      ]
    }
  ]
}